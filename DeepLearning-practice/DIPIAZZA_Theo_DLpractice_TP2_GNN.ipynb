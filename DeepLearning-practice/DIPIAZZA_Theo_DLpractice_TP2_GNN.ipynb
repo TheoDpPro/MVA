{
  "cells": [
    {
      "cell_type": "markdown",
      "metadata": {
        "id": "nlCNZsWlOSfP"
      },
      "source": [
        "# Deep Learning in Practice : TP3\n",
        "\n",
        "# Practical Session on Graph Neural Networks\n",
        "\n",
        "**Student : Théo Di Piazza** - theo.dipiazza@gmail.com\n",
        "\n",
        "**Master : MVA ENS Paris-Saclay**\n",
        "\n",
        "**TP made by : Matthieu Nastorg**\n",
        "\n",
        "**Remark :** Please check that diagramm_architecture.png is in your working directory."
      ]
    },
    {
      "cell_type": "markdown",
      "metadata": {
        "id": "p0RMEfCaEehI"
      },
      "source": [
        "## **PART 1 : CODING** (8/20)"
      ]
    },
    {
      "cell_type": "markdown",
      "metadata": {
        "id": "v5Lp4PasOby4"
      },
      "source": [
        "### Install Pytorch Geometric\n",
        "\n",
        "To handle graph data, we use the library Pytorch Geometric : https://pytorch-geometric.readthedocs.io/en/latest/\n",
        "\n",
        "*   If you use _Google Colab_, simply run the following cell to install Pytorch Geometric (**advised**).\n",
        "*   If you plan using your _own environment_, follow the documentation to install Pytorch Geometric : https://pytorch-geometric.readthedocs.io/en/latest/install/installation.html and skip the following cell."
      ]
    },
    {
      "cell_type": "code",
      "execution_count": 1,
      "metadata": {
        "id": "buW3eZmrj1N2",
        "colab": {
          "base_uri": "https://localhost:8080/",
          "height": 1000
        },
        "outputId": "be57c73f-9101-4fef-89cc-b31a82d965c4"
      },
      "outputs": [
        {
          "output_type": "stream",
          "name": "stdout",
          "text": [
            "Looking in indexes: https://pypi.org/simple, https://us-python.pkg.dev/colab-wheels/public/simple/\n",
            "Looking in links: https://pytorch-geometric.com/whl/torch-1.13.1+cu116.html\n",
            "Collecting torch-scatter\n",
            "  Downloading https://data.pyg.org/whl/torch-1.13.0%2Bcu116/torch_scatter-2.1.0%2Bpt113cu116-cp38-cp38-linux_x86_64.whl (9.4 MB)\n",
            "\u001b[2K     \u001b[90m━━━━━━━━━━━━━━━━━━━━━━━━━━━━━━━━━━━━━━━━\u001b[0m \u001b[32m9.4/9.4 MB\u001b[0m \u001b[31m71.8 MB/s\u001b[0m eta \u001b[36m0:00:00\u001b[0m\n",
            "\u001b[?25hInstalling collected packages: torch-scatter\n",
            "Successfully installed torch-scatter-2.1.0+pt113cu116\n",
            "Looking in indexes: https://pypi.org/simple, https://us-python.pkg.dev/colab-wheels/public/simple/\n",
            "Looking in links: https://pytorch-geometric.com/whl/torch-1.13.1+cu116.html\n",
            "Collecting torch-sparse\n",
            "  Downloading https://data.pyg.org/whl/torch-1.13.0%2Bcu116/torch_sparse-0.6.16%2Bpt113cu116-cp38-cp38-linux_x86_64.whl (4.5 MB)\n",
            "\u001b[2K     \u001b[90m━━━━━━━━━━━━━━━━━━━━━━━━━━━━━━━━━━━━━━━━\u001b[0m \u001b[32m4.5/4.5 MB\u001b[0m \u001b[31m32.8 MB/s\u001b[0m eta \u001b[36m0:00:00\u001b[0m\n",
            "\u001b[?25hRequirement already satisfied: scipy in /usr/local/lib/python3.8/dist-packages (from torch-sparse) (1.7.3)\n",
            "Requirement already satisfied: numpy<1.23.0,>=1.16.5 in /usr/local/lib/python3.8/dist-packages (from scipy->torch-sparse) (1.22.4)\n",
            "Installing collected packages: torch-sparse\n",
            "Successfully installed torch-sparse-0.6.16+pt113cu116\n",
            "Looking in indexes: https://pypi.org/simple, https://us-python.pkg.dev/colab-wheels/public/simple/\n",
            "Looking in links: https://pytorch-geometric.com/whl/torch-1.13.1+cu116.html\n",
            "Collecting torch-cluster\n",
            "  Downloading https://data.pyg.org/whl/torch-1.13.0%2Bcu116/torch_cluster-1.6.0%2Bpt113cu116-cp38-cp38-linux_x86_64.whl (3.2 MB)\n",
            "\u001b[2K     \u001b[90m━━━━━━━━━━━━━━━━━━━━━━━━━━━━━━━━━━━━━━━━\u001b[0m \u001b[32m3.2/3.2 MB\u001b[0m \u001b[31m68.4 MB/s\u001b[0m eta \u001b[36m0:00:00\u001b[0m\n",
            "\u001b[?25hRequirement already satisfied: scipy in /usr/local/lib/python3.8/dist-packages (from torch-cluster) (1.7.3)\n",
            "Requirement already satisfied: numpy<1.23.0,>=1.16.5 in /usr/local/lib/python3.8/dist-packages (from scipy->torch-cluster) (1.22.4)\n",
            "Installing collected packages: torch-cluster\n",
            "Successfully installed torch-cluster-1.6.0+pt113cu116\n",
            "Looking in indexes: https://pypi.org/simple, https://us-python.pkg.dev/colab-wheels/public/simple/\n",
            "Looking in links: https://pytorch-geometric.com/whl/torch-1.13.1+cu116.html\n",
            "Collecting torch-spline-conv\n",
            "  Downloading https://data.pyg.org/whl/torch-1.13.0%2Bcu116/torch_spline_conv-1.2.1%2Bpt113cu116-cp38-cp38-linux_x86_64.whl (873 kB)\n",
            "\u001b[2K     \u001b[90m━━━━━━━━━━━━━━━━━━━━━━━━━━━━━━━━━━━━━━\u001b[0m \u001b[32m873.9/873.9 KB\u001b[0m \u001b[31m53.7 MB/s\u001b[0m eta \u001b[36m0:00:00\u001b[0m\n",
            "\u001b[?25hInstalling collected packages: torch-spline-conv\n",
            "Successfully installed torch-spline-conv-1.2.1+pt113cu116\n",
            "Looking in indexes: https://pypi.org/simple, https://us-python.pkg.dev/colab-wheels/public/simple/\n",
            "Collecting torch-geometric\n",
            "  Downloading torch_geometric-2.2.0.tar.gz (564 kB)\n",
            "\u001b[2K     \u001b[90m━━━━━━━━━━━━━━━━━━━━━━━━━━━━━━━━━━━━━━\u001b[0m \u001b[32m565.0/565.0 KB\u001b[0m \u001b[31m30.8 MB/s\u001b[0m eta \u001b[36m0:00:00\u001b[0m\n",
            "\u001b[?25h  Preparing metadata (setup.py) ... \u001b[?25l\u001b[?25hdone\n",
            "Requirement already satisfied: tqdm in /usr/local/lib/python3.8/dist-packages (from torch-geometric) (4.64.1)\n",
            "Requirement already satisfied: numpy in /usr/local/lib/python3.8/dist-packages (from torch-geometric) (1.22.4)\n",
            "Requirement already satisfied: scipy in /usr/local/lib/python3.8/dist-packages (from torch-geometric) (1.7.3)\n",
            "Requirement already satisfied: jinja2 in /usr/local/lib/python3.8/dist-packages (from torch-geometric) (3.1.2)\n",
            "Requirement already satisfied: requests in /usr/local/lib/python3.8/dist-packages (from torch-geometric) (2.25.1)\n",
            "Requirement already satisfied: pyparsing in /usr/local/lib/python3.8/dist-packages (from torch-geometric) (3.0.9)\n",
            "Requirement already satisfied: scikit-learn in /usr/local/lib/python3.8/dist-packages (from torch-geometric) (1.0.2)\n",
            "Collecting psutil>=5.8.0\n",
            "  Downloading psutil-5.9.4-cp36-abi3-manylinux_2_12_x86_64.manylinux2010_x86_64.manylinux_2_17_x86_64.manylinux2014_x86_64.whl (280 kB)\n",
            "\u001b[2K     \u001b[90m━━━━━━━━━━━━━━━━━━━━━━━━━━━━━━━━━━━━━━\u001b[0m \u001b[32m280.2/280.2 KB\u001b[0m \u001b[31m34.0 MB/s\u001b[0m eta \u001b[36m0:00:00\u001b[0m\n",
            "\u001b[?25hRequirement already satisfied: MarkupSafe>=2.0 in /usr/local/lib/python3.8/dist-packages (from jinja2->torch-geometric) (2.1.2)\n",
            "Requirement already satisfied: certifi>=2017.4.17 in /usr/local/lib/python3.8/dist-packages (from requests->torch-geometric) (2022.12.7)\n",
            "Requirement already satisfied: urllib3<1.27,>=1.21.1 in /usr/local/lib/python3.8/dist-packages (from requests->torch-geometric) (1.26.14)\n",
            "Requirement already satisfied: chardet<5,>=3.0.2 in /usr/local/lib/python3.8/dist-packages (from requests->torch-geometric) (4.0.0)\n",
            "Requirement already satisfied: idna<3,>=2.5 in /usr/local/lib/python3.8/dist-packages (from requests->torch-geometric) (2.10)\n",
            "Requirement already satisfied: joblib>=0.11 in /usr/local/lib/python3.8/dist-packages (from scikit-learn->torch-geometric) (1.2.0)\n",
            "Requirement already satisfied: threadpoolctl>=2.0.0 in /usr/local/lib/python3.8/dist-packages (from scikit-learn->torch-geometric) (3.1.0)\n",
            "Building wheels for collected packages: torch-geometric\n",
            "  Building wheel for torch-geometric (setup.py) ... \u001b[?25l\u001b[?25hdone\n",
            "  Created wheel for torch-geometric: filename=torch_geometric-2.2.0-py3-none-any.whl size=773302 sha256=8d0dd6e283ad2e3f3eab414e76748fb8a29244608f0dba07b139dead568cf987\n",
            "  Stored in directory: /root/.cache/pip/wheels/59/a3/20/198928106d3169865ae73afcbd3d3d1796cf6b429b55c65378\n",
            "Successfully built torch-geometric\n",
            "Installing collected packages: psutil, torch-geometric\n",
            "  Attempting uninstall: psutil\n",
            "    Found existing installation: psutil 5.4.8\n",
            "    Uninstalling psutil-5.4.8:\n",
            "      Successfully uninstalled psutil-5.4.8\n",
            "Successfully installed psutil-5.9.4 torch-geometric-2.2.0\n"
          ]
        },
        {
          "output_type": "display_data",
          "data": {
            "application/vnd.colab-display-data+json": {
              "pip_warning": {
                "packages": [
                  "psutil"
                ]
              }
            }
          },
          "metadata": {}
        }
      ],
      "source": [
        "########## INSTALL TORCH GEOMETRIC ##################\n",
        "# https://pytorch-geometric.readthedocs.io/en/latest/ \n",
        "#####################################################\n",
        "import torch \n",
        "\n",
        "def format_pytorch_version(version):\n",
        "  return version.split('+')[0]\n",
        "\n",
        "TORCH_version = torch.__version__\n",
        "TORCH = format_pytorch_version(TORCH_version)\n",
        "\n",
        "def format_cuda_version(version):\n",
        "  return 'cu' + version.replace('.', '')\n",
        "\n",
        "CUDA_version = torch.version.cuda\n",
        "CUDA = format_cuda_version(CUDA_version)\n",
        "\n",
        "!pip install torch-scatter     -f https://pytorch-geometric.com/whl/torch-{TORCH}+{CUDA}.html\n",
        "!pip install torch-sparse      -f https://pytorch-geometric.com/whl/torch-{TORCH}+{CUDA}.html\n",
        "!pip install torch-cluster     -f https://pytorch-geometric.com/whl/torch-{TORCH}+{CUDA}.html\n",
        "!pip install torch-spline-conv -f https://pytorch-geometric.com/whl/torch-{TORCH}+{CUDA}.html\n",
        "!pip install torch-geometric"
      ]
    },
    {
      "cell_type": "markdown",
      "metadata": {
        "id": "04JPKXjDclTj"
      },
      "source": [
        "### Import required packages\n",
        "\n",
        "Run the following cell to import all required packages. This cell **must not** be modified.\n",
        "\n",
        "To significantly accelerate your training, it is advised to use GPU. Using Google Colab, you need to activate it : \n",
        "\n",
        "*   Edit --> Notebook Setting --> Hardware accelerator --> GPU"
      ]
    },
    {
      "cell_type": "code",
      "execution_count": 2,
      "metadata": {
        "id": "qXGDmBMYgA_x"
      },
      "outputs": [],
      "source": [
        "#####################################################\n",
        "################## PACKAGES #########################\n",
        "#####################################################\n",
        "import numpy as np\n",
        "import matplotlib.pyplot as plt\n",
        "\n",
        "import torch.nn as nn\n",
        "import torch_geometric.nn as graphnn\n",
        "from sklearn.metrics import f1_score\n",
        "from torch_geometric.datasets import PPI\n",
        "from torch_geometric.loader import DataLoader"
      ]
    },
    {
      "cell_type": "code",
      "source": [
        "# Import more libraries\n",
        "import torch.nn.init as init\n",
        "from matplotlib import pyplot as plt\n",
        "import matplotlib.image as mpimg"
      ],
      "metadata": {
        "id": "XzKVqdk5ajH9"
      },
      "execution_count": 3,
      "outputs": []
    },
    {
      "cell_type": "markdown",
      "metadata": {
        "id": "3UvCNG8FgdS-"
      },
      "source": [
        "### Dataset\n",
        "\n",
        "We use the Protein-Protein Interaction (PPI) network dataset which includes:\n",
        "- 20 graphs for training \n",
        "- 2 graphs for validation\n",
        "- 2 graphs for testing\n",
        "\n",
        "One graph of the PPI dataset has on average 2372 nodes. Each node:\n",
        "- 50 features : positional gene sets / motif gene / immunological signatures ...\n",
        "- 121 (binary) labels : gene ontology sets (way to classify gene products like proteins).\n",
        "\n",
        "**This problem aims to predict, for a given PPI graph, the correct node's labels**.\n",
        "\n",
        "**It is a node (multi-level) classification task** (trained using supervised learning). \n",
        "\n",
        "For your curiosity, more details information on the dataset and some applications:\n",
        "- https://cs.stanford.edu/~jure/pubs/pathways-psb18.pdf\n",
        "- https://arxiv.org/abs/1707.04638\n",
        "\n",
        "To understand how a graph data is implemented in Pytorch Geometric, refer to : https://pytorch-geometric.readthedocs.io/en/latest/get_started/introduction.html\n"
      ]
    },
    {
      "cell_type": "code",
      "execution_count": 4,
      "metadata": {
        "id": "IwdNhvzVNkZB",
        "colab": {
          "base_uri": "https://localhost:8080/"
        },
        "outputId": "d1d7a41a-f584-45d0-bded-e20a5b0362fa"
      },
      "outputs": [
        {
          "output_type": "stream",
          "name": "stderr",
          "text": [
            "Downloading https://data.dgl.ai/dataset/ppi.zip\n",
            "Extracting ./ppi.zip\n",
            "Processing...\n"
          ]
        },
        {
          "output_type": "stream",
          "name": "stdout",
          "text": [
            "Number of samples in the train dataset:  20\n",
            "Number of samples in the val dataset:  2\n",
            "Number of samples in the test dataset:  2\n",
            "Output of one sample from the train dataset:  Data(x=[1767, 50], edge_index=[2, 32318], y=[1767, 121])\n",
            "Edge_index :\n",
            "tensor([[   0,    0,    0,  ..., 1744, 1745, 1749],\n",
            "        [ 372, 1101,  766,  ..., 1745, 1744, 1739]])\n",
            "Number of features per node:  50\n",
            "Number of classes per node:  121\n"
          ]
        },
        {
          "output_type": "stream",
          "name": "stderr",
          "text": [
            "Done!\n"
          ]
        }
      ],
      "source": [
        "### LOAD DATASETS\n",
        "\n",
        "BATCH_SIZE = 2 \n",
        "\n",
        "# Train Dataset\n",
        "train_dataset = PPI(root=\"\", split='train')\n",
        "train_dataloader = DataLoader(train_dataset, batch_size=BATCH_SIZE)\n",
        "# Val Dataset\n",
        "val_dataset = PPI(root=\"\", split='val')\n",
        "val_dataloader = DataLoader(val_dataset, batch_size=BATCH_SIZE)\n",
        "# Test Dataset\n",
        "test_dataset = PPI(root=\"\", split='test')\n",
        "test_dataloader = DataLoader(test_dataset, batch_size=BATCH_SIZE)\n",
        "\n",
        "# Number of features and classes\n",
        "n_features, n_classes = train_dataset[0].x.shape[1], train_dataset[0].y.shape[1]\n",
        "\n",
        "print(\"Number of samples in the train dataset: \", len(train_dataset))\n",
        "print(\"Number of samples in the val dataset: \", len(test_dataset))\n",
        "print(\"Number of samples in the test dataset: \", len(test_dataset))\n",
        "print(\"Output of one sample from the train dataset: \", train_dataset[0])\n",
        "print(\"Edge_index :\")\n",
        "print(train_dataset[0].edge_index)\n",
        "print(\"Number of features per node: \", n_features)\n",
        "print(\"Number of classes per node: \", n_classes)"
      ]
    },
    {
      "cell_type": "code",
      "source": [
        "# print some informations to understand how pytorch_geometric works\n",
        "for i, train_batch in enumerate(train_dataloader):\n",
        "  break\n",
        "\n",
        "print(f'type(train_batch): {type(train_batch)}')\n",
        "print(f'len(train_batch): {len(train_batch)}')\n",
        "\n",
        "print(f'\\nDisplay first sample of the first batch: ')\n",
        "print(f'> train_batch[0]: {train_batch[0]}')\n",
        "print(f'>> There are {train_batch[0].x.shape[0]} nodes and each node has {train_batch[0].x.shape[1]} features.')\n",
        "print(f'>> There are {train_batch[0].y.shape[0]} nodes and each node has {train_batch[0].y.shape[1]} labels.')\n",
        "print(f'>> There are {train_batch[0].edge_index.shape[1]} edges.')"
      ],
      "metadata": {
        "colab": {
          "base_uri": "https://localhost:8080/"
        },
        "id": "lpxD6x62M-LD",
        "outputId": "0c93307c-6fd2-478e-90b9-fbe65676a236"
      },
      "execution_count": 5,
      "outputs": [
        {
          "output_type": "stream",
          "name": "stdout",
          "text": [
            "type(train_batch): <class 'torch_geometric.data.batch.DataBatch'>\n",
            "len(train_batch): 2\n",
            "\n",
            "Display first sample of the first batch: \n",
            "> train_batch[0]: Data(x=[1767, 50], edge_index=[2, 32318], y=[1767, 121])\n",
            ">> There are 1767 nodes and each node has 50 features.\n",
            ">> There are 1767 nodes and each node has 121 labels.\n",
            ">> There are 32318 edges.\n"
          ]
        }
      ]
    },
    {
      "cell_type": "markdown",
      "metadata": {
        "id": "hiCcn9qeO6Nm"
      },
      "source": [
        "### Define a basic Model"
      ]
    },
    {
      "cell_type": "markdown",
      "metadata": {
        "id": "8RjzEiJ-eVot"
      },
      "source": [
        "Here we define a very simple Graph Neural Network model which will be used as our baseline. This model consists of three graph convolutional layers (from https://arxiv.org/pdf/1609.02907.pdf). The first two layers computes 256 features, followed by an ELU activation function. The last layer is used for (multi-level) classification task, computing 121 features."
      ]
    },
    {
      "cell_type": "code",
      "execution_count": 6,
      "metadata": {
        "id": "2Km-GN1aMpd_"
      },
      "outputs": [],
      "source": [
        "#####################################################\n",
        "################## MODEL ############################\n",
        "#####################################################\n",
        "class BasicGraphModel(nn.Module):\n",
        "\n",
        "    def __init__(self, input_size, hidden_size, output_size):\n",
        "        super().__init__()\n",
        "\n",
        "        self.graphconv1 = graphnn.GCNConv(input_size, hidden_size)\n",
        "        self.graphconv2 = graphnn.GCNConv(hidden_size, hidden_size)\n",
        "        self.graphconv3 = graphnn.GCNConv(hidden_size, output_size)\n",
        "\n",
        "        self.elu = nn.ELU()\n",
        "\n",
        "    def forward(self, x, edge_index):\n",
        "\n",
        "        x = self.graphconv1(x, edge_index)\n",
        "        x = self.elu(x)\n",
        "        x = self.graphconv2(x, edge_index)\n",
        "        x = self.elu(x)\n",
        "        x = self.graphconv3(x, edge_index)\n",
        "\n",
        "        return x"
      ]
    },
    {
      "cell_type": "markdown",
      "metadata": {
        "id": "6ekk0TrOktOB"
      },
      "source": [
        "Next we construct the function to train the model."
      ]
    },
    {
      "cell_type": "code",
      "execution_count": 7,
      "metadata": {
        "id": "m4lneoadMxqy"
      },
      "outputs": [],
      "source": [
        "#####################################################\n",
        "############## TRAIN FUNCTION #######################\n",
        "#####################################################\n",
        "def train(model, loss_fcn, device, optimizer, max_epochs, train_dataloader, val_dataloader):\n",
        "\n",
        "    epoch_list = []\n",
        "    scores_list = []\n",
        "\n",
        "    # loop over epochs\n",
        "    for epoch in range(max_epochs):\n",
        "        model.train()\n",
        "        losses = []\n",
        "        # loop over batches\n",
        "        for i, train_batch in enumerate(train_dataloader):\n",
        "            optimizer.zero_grad()\n",
        "            train_batch_device = train_batch.to(device)\n",
        "            # logits is the output of the model\n",
        "            logits = model(train_batch_device.x, train_batch_device.edge_index)\n",
        "            # compute the loss\n",
        "            loss = loss_fcn(logits, train_batch_device.y)\n",
        "            # optimizer step\n",
        "            loss.backward()\n",
        "            optimizer.step()\n",
        "            losses.append(loss.item())\n",
        "        loss_data = np.array(losses).mean()\n",
        "        print(\"Epoch {:05d} | Loss: {:.4f}\".format(epoch + 1, loss_data))\n",
        "\n",
        "        if epoch % 5 == 0:\n",
        "            # evaluate the model on the validation set\n",
        "            # computes the f1-score (see next function)\n",
        "            score = evaluate(model, loss_fcn, device, val_dataloader)\n",
        "            print(\"F1-Score: {:.4f}\".format(score))\n",
        "            scores_list.append(score)\n",
        "            epoch_list.append(epoch)\n",
        "\n",
        "    return epoch_list, scores_list"
      ]
    },
    {
      "cell_type": "markdown",
      "metadata": {
        "id": "PTd9OqaelLni"
      },
      "source": [
        "Next function is designed to evaluate the performance of the model, computing the F1-Score"
      ]
    },
    {
      "cell_type": "code",
      "execution_count": 8,
      "metadata": {
        "id": "PajZzg5zM7V1"
      },
      "outputs": [],
      "source": [
        "#####################################################\n",
        "############### TEST FUNCTION #######################\n",
        "#####################################################\n",
        "def evaluate(model, loss_fcn, device, dataloader):\n",
        "\n",
        "    score_list_batch = []\n",
        "\n",
        "    model.eval()\n",
        "    for i, batch in enumerate(dataloader):\n",
        "        batch = batch.to(device)\n",
        "        output = model(batch.x, batch.edge_index)\n",
        "        loss_test = loss_fcn(output, batch.y)\n",
        "        predict = np.where(output.detach().cpu().numpy() >= 0, 1, 0)\n",
        "        score = f1_score(batch.y.cpu().numpy(), predict, average=\"micro\")\n",
        "        score_list_batch.append(score)\n",
        "\n",
        "    return np.array(score_list_batch).mean()"
      ]
    },
    {
      "cell_type": "markdown",
      "metadata": {
        "id": "EilgopwMlpsu"
      },
      "source": [
        "Let's train this model !"
      ]
    },
    {
      "cell_type": "code",
      "execution_count": 9,
      "metadata": {
        "colab": {
          "base_uri": "https://localhost:8080/"
        },
        "id": "Xkqo7e0gNACE",
        "outputId": "7439a85d-c76f-4675-fa31-b95fb7d270dd"
      },
      "outputs": [
        {
          "output_type": "stream",
          "name": "stdout",
          "text": [
            "\n",
            "Device:  cuda\n",
            "Epoch 00001 | Loss: 0.6366\n",
            "F1-Score: 0.4581\n",
            "Epoch 00002 | Loss: 0.5808\n",
            "Epoch 00003 | Loss: 0.5622\n",
            "Epoch 00004 | Loss: 0.5554\n",
            "Epoch 00005 | Loss: 0.5502\n",
            "Epoch 00006 | Loss: 0.5460\n",
            "F1-Score: 0.5155\n",
            "Epoch 00007 | Loss: 0.5424\n",
            "Epoch 00008 | Loss: 0.5380\n",
            "Epoch 00009 | Loss: 0.5339\n",
            "Epoch 00010 | Loss: 0.5309\n",
            "Epoch 00011 | Loss: 0.5282\n",
            "F1-Score: 0.5169\n",
            "Epoch 00012 | Loss: 0.5255\n",
            "Epoch 00013 | Loss: 0.5231\n",
            "Epoch 00014 | Loss: 0.5208\n",
            "Epoch 00015 | Loss: 0.5184\n",
            "Epoch 00016 | Loss: 0.5162\n",
            "F1-Score: 0.5347\n",
            "Epoch 00017 | Loss: 0.5139\n",
            "Epoch 00018 | Loss: 0.5118\n",
            "Epoch 00019 | Loss: 0.5097\n",
            "Epoch 00020 | Loss: 0.5077\n",
            "Epoch 00021 | Loss: 0.5057\n",
            "F1-Score: 0.5448\n",
            "Epoch 00022 | Loss: 0.5039\n",
            "Epoch 00023 | Loss: 0.5023\n",
            "Epoch 00024 | Loss: 0.5010\n",
            "Epoch 00025 | Loss: 0.4998\n",
            "Epoch 00026 | Loss: 0.4991\n",
            "F1-Score: 0.5167\n",
            "Epoch 00027 | Loss: 0.4967\n",
            "Epoch 00028 | Loss: 0.4942\n",
            "Epoch 00029 | Loss: 0.4923\n",
            "Epoch 00030 | Loss: 0.4902\n",
            "Epoch 00031 | Loss: 0.4878\n",
            "F1-Score: 0.5560\n",
            "Epoch 00032 | Loss: 0.4863\n",
            "Epoch 00033 | Loss: 0.4845\n",
            "Epoch 00034 | Loss: 0.4826\n",
            "Epoch 00035 | Loss: 0.4816\n",
            "Epoch 00036 | Loss: 0.4805\n",
            "F1-Score: 0.5473\n",
            "Epoch 00037 | Loss: 0.4788\n",
            "Epoch 00038 | Loss: 0.4773\n",
            "Epoch 00039 | Loss: 0.4766\n",
            "Epoch 00040 | Loss: 0.4764\n",
            "Epoch 00041 | Loss: 0.4748\n",
            "F1-Score: 0.5390\n",
            "Epoch 00042 | Loss: 0.4737\n",
            "Epoch 00043 | Loss: 0.4722\n",
            "Epoch 00044 | Loss: 0.4708\n",
            "Epoch 00045 | Loss: 0.4694\n",
            "Epoch 00046 | Loss: 0.4687\n",
            "F1-Score: 0.5837\n",
            "Epoch 00047 | Loss: 0.4674\n",
            "Epoch 00048 | Loss: 0.4664\n",
            "Epoch 00049 | Loss: 0.4651\n",
            "Epoch 00050 | Loss: 0.4642\n",
            "Epoch 00051 | Loss: 0.4634\n",
            "F1-Score: 0.5793\n",
            "Epoch 00052 | Loss: 0.4625\n",
            "Epoch 00053 | Loss: 0.4613\n",
            "Epoch 00054 | Loss: 0.4600\n",
            "Epoch 00055 | Loss: 0.4587\n",
            "Epoch 00056 | Loss: 0.4577\n",
            "F1-Score: 0.5765\n",
            "Epoch 00057 | Loss: 0.4564\n",
            "Epoch 00058 | Loss: 0.4557\n",
            "Epoch 00059 | Loss: 0.4549\n",
            "Epoch 00060 | Loss: 0.4549\n",
            "Epoch 00061 | Loss: 0.4544\n",
            "F1-Score: 0.5564\n",
            "Epoch 00062 | Loss: 0.4536\n",
            "Epoch 00063 | Loss: 0.4533\n",
            "Epoch 00064 | Loss: 0.4527\n",
            "Epoch 00065 | Loss: 0.4511\n",
            "Epoch 00066 | Loss: 0.4505\n",
            "F1-Score: 0.5627\n",
            "Epoch 00067 | Loss: 0.4492\n",
            "Epoch 00068 | Loss: 0.4490\n",
            "Epoch 00069 | Loss: 0.4491\n",
            "Epoch 00070 | Loss: 0.4500\n",
            "Epoch 00071 | Loss: 0.4502\n",
            "F1-Score: 0.5974\n",
            "Epoch 00072 | Loss: 0.4481\n",
            "Epoch 00073 | Loss: 0.4465\n",
            "Epoch 00074 | Loss: 0.4459\n",
            "Epoch 00075 | Loss: 0.4441\n",
            "Epoch 00076 | Loss: 0.4425\n",
            "F1-Score: 0.6047\n",
            "Epoch 00077 | Loss: 0.4410\n",
            "Epoch 00078 | Loss: 0.4398\n",
            "Epoch 00079 | Loss: 0.4387\n",
            "Epoch 00080 | Loss: 0.4380\n",
            "Epoch 00081 | Loss: 0.4371\n",
            "F1-Score: 0.6073\n",
            "Epoch 00082 | Loss: 0.4372\n",
            "Epoch 00083 | Loss: 0.4371\n",
            "Epoch 00084 | Loss: 0.4374\n",
            "Epoch 00085 | Loss: 0.4353\n",
            "Epoch 00086 | Loss: 0.4354\n",
            "F1-Score: 0.6234\n",
            "Epoch 00087 | Loss: 0.4350\n",
            "Epoch 00088 | Loss: 0.4343\n",
            "Epoch 00089 | Loss: 0.4335\n",
            "Epoch 00090 | Loss: 0.4331\n",
            "Epoch 00091 | Loss: 0.4320\n",
            "F1-Score: 0.6103\n",
            "Epoch 00092 | Loss: 0.4313\n",
            "Epoch 00093 | Loss: 0.4313\n",
            "Epoch 00094 | Loss: 0.4307\n",
            "Epoch 00095 | Loss: 0.4308\n",
            "Epoch 00096 | Loss: 0.4309\n",
            "F1-Score: 0.6239\n",
            "Epoch 00097 | Loss: 0.4303\n",
            "Epoch 00098 | Loss: 0.4293\n",
            "Epoch 00099 | Loss: 0.4303\n",
            "Epoch 00100 | Loss: 0.4302\n",
            "Epoch 00101 | Loss: 0.4318\n",
            "F1-Score: 0.6137\n",
            "Epoch 00102 | Loss: 0.4332\n",
            "Epoch 00103 | Loss: 0.4329\n",
            "Epoch 00104 | Loss: 0.4335\n",
            "Epoch 00105 | Loss: 0.4340\n",
            "Epoch 00106 | Loss: 0.4358\n",
            "F1-Score: 0.5693\n",
            "Epoch 00107 | Loss: 0.4356\n",
            "Epoch 00108 | Loss: 0.4365\n",
            "Epoch 00109 | Loss: 0.4363\n",
            "Epoch 00110 | Loss: 0.4336\n",
            "Epoch 00111 | Loss: 0.4311\n",
            "F1-Score: 0.6079\n",
            "Epoch 00112 | Loss: 0.4283\n",
            "Epoch 00113 | Loss: 0.4253\n",
            "Epoch 00114 | Loss: 0.4232\n",
            "Epoch 00115 | Loss: 0.4220\n",
            "Epoch 00116 | Loss: 0.4219\n",
            "F1-Score: 0.6069\n",
            "Epoch 00117 | Loss: 0.4202\n",
            "Epoch 00118 | Loss: 0.4192\n",
            "Epoch 00119 | Loss: 0.4195\n",
            "Epoch 00120 | Loss: 0.4203\n",
            "Epoch 00121 | Loss: 0.4219\n",
            "F1-Score: 0.6130\n",
            "Epoch 00122 | Loss: 0.4235\n",
            "Epoch 00123 | Loss: 0.4240\n",
            "Epoch 00124 | Loss: 0.4240\n",
            "Epoch 00125 | Loss: 0.4236\n",
            "Epoch 00126 | Loss: 0.4217\n",
            "F1-Score: 0.6158\n",
            "Epoch 00127 | Loss: 0.4191\n",
            "Epoch 00128 | Loss: 0.4190\n",
            "Epoch 00129 | Loss: 0.4170\n",
            "Epoch 00130 | Loss: 0.4156\n",
            "Epoch 00131 | Loss: 0.4144\n",
            "F1-Score: 0.5996\n",
            "Epoch 00132 | Loss: 0.4132\n",
            "Epoch 00133 | Loss: 0.4131\n",
            "Epoch 00134 | Loss: 0.4132\n",
            "Epoch 00135 | Loss: 0.4122\n",
            "Epoch 00136 | Loss: 0.4121\n",
            "F1-Score: 0.6173\n",
            "Epoch 00137 | Loss: 0.4121\n",
            "Epoch 00138 | Loss: 0.4124\n",
            "Epoch 00139 | Loss: 0.4151\n",
            "Epoch 00140 | Loss: 0.4185\n",
            "Epoch 00141 | Loss: 0.4192\n",
            "F1-Score: 0.5975\n",
            "Epoch 00142 | Loss: 0.4197\n",
            "Epoch 00143 | Loss: 0.4178\n",
            "Epoch 00144 | Loss: 0.4169\n",
            "Epoch 00145 | Loss: 0.4129\n",
            "Epoch 00146 | Loss: 0.4112\n",
            "F1-Score: 0.6260\n",
            "Epoch 00147 | Loss: 0.4110\n",
            "Epoch 00148 | Loss: 0.4088\n",
            "Epoch 00149 | Loss: 0.4077\n",
            "Epoch 00150 | Loss: 0.4068\n",
            "Epoch 00151 | Loss: 0.4068\n",
            "F1-Score: 0.5896\n",
            "Epoch 00152 | Loss: 0.4070\n",
            "Epoch 00153 | Loss: 0.4086\n",
            "Epoch 00154 | Loss: 0.4114\n",
            "Epoch 00155 | Loss: 0.4098\n",
            "Epoch 00156 | Loss: 0.4103\n",
            "F1-Score: 0.6155\n",
            "Epoch 00157 | Loss: 0.4132\n",
            "Epoch 00158 | Loss: 0.4145\n",
            "Epoch 00159 | Loss: 0.4150\n",
            "Epoch 00160 | Loss: 0.4143\n",
            "Epoch 00161 | Loss: 0.4120\n",
            "F1-Score: 0.6213\n",
            "Epoch 00162 | Loss: 0.4090\n",
            "Epoch 00163 | Loss: 0.4100\n",
            "Epoch 00164 | Loss: 0.4094\n",
            "Epoch 00165 | Loss: 0.4097\n",
            "Epoch 00166 | Loss: 0.4129\n",
            "F1-Score: 0.6437\n",
            "Epoch 00167 | Loss: 0.4135\n",
            "Epoch 00168 | Loss: 0.4160\n",
            "Epoch 00169 | Loss: 0.4156\n",
            "Epoch 00170 | Loss: 0.4197\n",
            "Epoch 00171 | Loss: 0.4175\n",
            "F1-Score: 0.6486\n",
            "Epoch 00172 | Loss: 0.4166\n",
            "Epoch 00173 | Loss: 0.4166\n",
            "Epoch 00174 | Loss: 0.4188\n",
            "Epoch 00175 | Loss: 0.4244\n",
            "Epoch 00176 | Loss: 0.4210\n",
            "F1-Score: 0.5580\n",
            "Epoch 00177 | Loss: 0.4193\n",
            "Epoch 00178 | Loss: 0.4203\n",
            "Epoch 00179 | Loss: 0.4208\n",
            "Epoch 00180 | Loss: 0.4167\n",
            "Epoch 00181 | Loss: 0.4135\n",
            "F1-Score: 0.6296\n",
            "Epoch 00182 | Loss: 0.4126\n",
            "Epoch 00183 | Loss: 0.4147\n",
            "Epoch 00184 | Loss: 0.4122\n",
            "Epoch 00185 | Loss: 0.4122\n",
            "Epoch 00186 | Loss: 0.4116\n",
            "F1-Score: 0.6550\n",
            "Epoch 00187 | Loss: 0.4100\n",
            "Epoch 00188 | Loss: 0.4118\n",
            "Epoch 00189 | Loss: 0.4094\n",
            "Epoch 00190 | Loss: 0.4078\n",
            "Epoch 00191 | Loss: 0.4062\n",
            "F1-Score: 0.6522\n",
            "Epoch 00192 | Loss: 0.4057\n",
            "Epoch 00193 | Loss: 0.4042\n",
            "Epoch 00194 | Loss: 0.4038\n",
            "Epoch 00195 | Loss: 0.4021\n",
            "Epoch 00196 | Loss: 0.4023\n",
            "F1-Score: 0.6530\n",
            "Epoch 00197 | Loss: 0.4021\n",
            "Epoch 00198 | Loss: 0.4017\n",
            "Epoch 00199 | Loss: 0.4034\n",
            "Epoch 00200 | Loss: 0.4027\n"
          ]
        }
      ],
      "source": [
        "### DEVICE GPU OR CPU : will select GPU if available\n",
        "device = torch.device('cuda' if torch.cuda.is_available() else 'cpu')\n",
        "print(\"\\nDevice: \", device)\n",
        "\n",
        "### Max number of epochs\n",
        "max_epochs = 200\n",
        "\n",
        "### DEFINE THE MODEL\n",
        "basic_model = BasicGraphModel(  input_size = n_features, \n",
        "                                hidden_size = 256, \n",
        "                                output_size = n_classes).to(device)\n",
        "\n",
        "### DEFINE LOSS FUNCTION\n",
        "loss_fcn = nn.BCEWithLogitsLoss()\n",
        "\n",
        "### DEFINE OPTIMIZER\n",
        "optimizer = torch.optim.Adam(basic_model.parameters(), lr=0.005)\n",
        "\n",
        "### TRAIN THE MODEL\n",
        "epoch_list, basic_model_scores = train(basic_model, loss_fcn, device, optimizer, max_epochs, train_dataloader, val_dataloader)"
      ]
    },
    {
      "cell_type": "markdown",
      "metadata": {
        "id": "2sGc5g7Xmap2"
      },
      "source": [
        "Let's evaluate the performance of this basic model"
      ]
    },
    {
      "cell_type": "code",
      "execution_count": 10,
      "metadata": {
        "colab": {
          "base_uri": "https://localhost:8080/",
          "height": 354
        },
        "id": "ztfbbg2TNP7F",
        "outputId": "26027eaf-6733-4360-d8fd-b9db9318ee05"
      },
      "outputs": [
        {
          "output_type": "stream",
          "name": "stdout",
          "text": [
            "Basic Model : F1-Score on the test set: 0.6427\n"
          ]
        },
        {
          "output_type": "display_data",
          "data": {
            "text/plain": [
              "<Figure size 720x360 with 1 Axes>"
            ],
            "image/png": "[encoded data removed]"
          },
          "metadata": {
            "needs_background": "light"
          }
        }
      ],
      "source": [
        "### F1-SCORE ON TEST DATASET\n",
        "score_test = evaluate(basic_model, loss_fcn, device, test_dataloader)\n",
        "print(\"Basic Model : F1-Score on the test set: {:.4f}\".format(score_test))\n",
        "\n",
        "### PLOT EVOLUTION OF F1-SCORE W.R.T EPOCHS\n",
        "def plot_f1_score(epoch_list, scores) :\n",
        "    plt.figure(figsize=[10,5])\n",
        "    plt.plot(epoch_list, scores)\n",
        "    plt.title(\"Evolution of F1S-Score w.r.t epochs\")\n",
        "    plt.ylim([0.0, 1.0])\n",
        "    plt.show()\n",
        "    \n",
        "plot_f1_score(epoch_list, basic_model_scores)"
      ]
    },
    {
      "cell_type": "markdown",
      "metadata": {
        "id": "TRVsy5vLnWm_"
      },
      "source": [
        "### Define a better model\n",
        "\n",
        "Now, it's your turn to improve this basic model ! To do so, complete whenever ###### YOUR ANSWER ######## and run the two following cells.\n",
        "\n",
        "**HINT :** https://arxiv.org/pdf/1710.10903.pdf"
      ]
    },
    {
      "cell_type": "code",
      "source": [
        "class StudentModel(nn.Module):\n",
        "  def __init__(self, input_size=50, hidden_size=256, output_size=121, num_heads=4, xavier_init=False):\n",
        "      '''\n",
        "      initialization of the network\n",
        "        input_size : number of nodes\n",
        "        hidden_size : hidden size of layers\n",
        "        output_size : number of features to predict\n",
        "        num_heads : number of attention heads for attention mecanism\n",
        "        xavier_init : True to have Xavier initialization for weights\n",
        "      '''\n",
        "      super().__init__()\n",
        "      \n",
        "      # GAT layers\n",
        "      self.graphgat1 = graphnn.GATConv(input_size, hidden_size, heads = 4)\n",
        "      self.graphgat2 = graphnn.GATConv(4*hidden_size, hidden_size, heads = 4)\n",
        "      self.graphgat_classifier = graphnn.GATConv(4*hidden_size, output_size, heads = 6, concat=False)\n",
        "      \n",
        "      # LINEAR layers, skip connection for intermediate layers\n",
        "      self.linear1 = nn.Linear(input_size, 4*hidden_size)\n",
        "      self.linear2 = nn.Linear(4*hidden_size, 4*hidden_size)\n",
        "      self.linear_classifier = nn.Linear(4*hidden_size, output_size)\n",
        "\n",
        "      # xavier initialization\n",
        "      if(xavier_init):\n",
        "        for layer in [self.graphgat1, self.graphgat2, self.graphgat3]:\n",
        "            init.xavier_uniform_(layer.weight)\n",
        "\n",
        "      # activation layers\n",
        "      self.elu = nn.ELU()\n",
        "      \n",
        "  def forward(self, x, edge_index):\n",
        "      '''\n",
        "      forward propagation of the network\n",
        "         x : nodes features (number of nodes, number of features)\n",
        "         edge_index : edges of the graph (2, number of edges)\n",
        "      '''\n",
        "      # first layer : GAT + ELU with skip connection\n",
        "      x = self.graphgat1(x, edge_index) + self.linear1(x)\n",
        "      x = self.elu(x)\n",
        "      # second layer : GAT + ELU with skip connection\n",
        "      x = self.graphgat2(x, edge_index) + self.linear2(x)\n",
        "      x = self.elu(x)\n",
        "      # third layer : classification\n",
        "      x = self.graphgat_classifier(x, edge_index) + self.linear_classifier(x)\n",
        "\n",
        "      return x"
      ],
      "metadata": {
        "id": "8nM6ONkozomZ"
      },
      "execution_count": 11,
      "outputs": []
    },
    {
      "cell_type": "markdown",
      "metadata": {
        "id": "4yGdQ2uxpCAX"
      },
      "source": [
        "Let's train your model !"
      ]
    },
    {
      "cell_type": "code",
      "execution_count": 12,
      "metadata": {
        "id": "6XIYzkYRo3AQ",
        "colab": {
          "base_uri": "https://localhost:8080/"
        },
        "outputId": "b5125e51-60ff-431b-a0c0-d33a62b8a3d0"
      },
      "outputs": [
        {
          "output_type": "stream",
          "name": "stdout",
          "text": [
            "\n",
            "Device:  cuda\n",
            "Epoch 00001 | Loss: 0.9383\n",
            "F1-Score: 0.4505\n",
            "Epoch 00002 | Loss: 0.5897\n",
            "Epoch 00003 | Loss: 0.5258\n",
            "Epoch 00004 | Loss: 0.4991\n",
            "Epoch 00005 | Loss: 0.4775\n",
            "Epoch 00006 | Loss: 0.4560\n",
            "F1-Score: 0.5952\n",
            "Epoch 00007 | Loss: 0.4350\n",
            "Epoch 00008 | Loss: 0.4187\n",
            "Epoch 00009 | Loss: 0.3943\n",
            "Epoch 00010 | Loss: 0.3655\n",
            "Epoch 00011 | Loss: 0.3419\n",
            "F1-Score: 0.7319\n",
            "Epoch 00012 | Loss: 0.3187\n",
            "Epoch 00013 | Loss: 0.2942\n",
            "Epoch 00014 | Loss: 0.2706\n",
            "Epoch 00015 | Loss: 0.2473\n",
            "Epoch 00016 | Loss: 0.2229\n",
            "F1-Score: 0.8263\n",
            "Epoch 00017 | Loss: 0.2021\n",
            "Epoch 00018 | Loss: 0.1854\n",
            "Epoch 00019 | Loss: 0.1696\n",
            "Epoch 00020 | Loss: 0.1554\n",
            "Epoch 00021 | Loss: 0.1439\n",
            "F1-Score: 0.8883\n",
            "Epoch 00022 | Loss: 0.1318\n",
            "Epoch 00023 | Loss: 0.1207\n",
            "Epoch 00024 | Loss: 0.1134\n",
            "Epoch 00025 | Loss: 0.1054\n",
            "Epoch 00026 | Loss: 0.1013\n",
            "F1-Score: 0.9154\n",
            "Epoch 00027 | Loss: 0.0937\n",
            "Epoch 00028 | Loss: 0.0893\n",
            "Epoch 00029 | Loss: 0.0908\n",
            "Epoch 00030 | Loss: 0.0882\n",
            "Epoch 00031 | Loss: 0.0865\n",
            "F1-Score: 0.9281\n",
            "Epoch 00032 | Loss: 0.0755\n",
            "Epoch 00033 | Loss: 0.0696\n",
            "Epoch 00034 | Loss: 0.0619\n",
            "Epoch 00035 | Loss: 0.0598\n",
            "Epoch 00036 | Loss: 0.0567\n",
            "F1-Score: 0.9450\n",
            "Epoch 00037 | Loss: 0.0555\n",
            "Epoch 00038 | Loss: 0.0545\n",
            "Epoch 00039 | Loss: 0.0532\n",
            "Epoch 00040 | Loss: 0.0502\n",
            "Epoch 00041 | Loss: 0.0475\n",
            "F1-Score: 0.9512\n",
            "Epoch 00042 | Loss: 0.0462\n",
            "Epoch 00043 | Loss: 0.0449\n",
            "Epoch 00044 | Loss: 0.0425\n",
            "Epoch 00045 | Loss: 0.0466\n",
            "Epoch 00046 | Loss: 0.0438\n",
            "F1-Score: 0.9524\n",
            "Epoch 00047 | Loss: 0.0405\n",
            "Epoch 00048 | Loss: 0.0347\n",
            "Epoch 00049 | Loss: 0.0305\n",
            "Epoch 00050 | Loss: 0.0265\n",
            "Epoch 00051 | Loss: 0.0239\n",
            "F1-Score: 0.9660\n",
            "Epoch 00052 | Loss: 0.0222\n",
            "Epoch 00053 | Loss: 0.0211\n",
            "Epoch 00054 | Loss: 0.0204\n",
            "Epoch 00055 | Loss: 0.0196\n",
            "Epoch 00056 | Loss: 0.0189\n",
            "F1-Score: 0.9677\n",
            "Epoch 00057 | Loss: 0.0183\n",
            "Epoch 00058 | Loss: 0.0181\n",
            "Epoch 00059 | Loss: 0.0181\n",
            "Epoch 00060 | Loss: 0.0180\n",
            "Epoch 00061 | Loss: 0.0174\n",
            "F1-Score: 0.9684\n",
            "Epoch 00062 | Loss: 0.0176\n",
            "Epoch 00063 | Loss: 0.0178\n",
            "Epoch 00064 | Loss: 0.0166\n",
            "Epoch 00065 | Loss: 0.0162\n",
            "Epoch 00066 | Loss: 0.0160\n",
            "F1-Score: 0.9686\n",
            "Epoch 00067 | Loss: 0.0155\n",
            "Epoch 00068 | Loss: 0.0153\n",
            "Epoch 00069 | Loss: 0.0153\n",
            "Epoch 00070 | Loss: 0.0149\n",
            "Epoch 00071 | Loss: 0.0144\n",
            "F1-Score: 0.9683\n",
            "Epoch 00072 | Loss: 0.0140\n",
            "Epoch 00073 | Loss: 0.0138\n",
            "Epoch 00074 | Loss: 0.0138\n",
            "Epoch 00075 | Loss: 0.0132\n",
            "Epoch 00076 | Loss: 0.0127\n",
            "F1-Score: 0.9699\n",
            "Epoch 00077 | Loss: 0.0124\n",
            "Epoch 00078 | Loss: 0.0121\n",
            "Epoch 00079 | Loss: 0.0117\n",
            "Epoch 00080 | Loss: 0.0114\n",
            "Epoch 00081 | Loss: 0.0114\n",
            "F1-Score: 0.9699\n",
            "Epoch 00082 | Loss: 0.0113\n",
            "Epoch 00083 | Loss: 0.0114\n",
            "Epoch 00084 | Loss: 0.0115\n",
            "Epoch 00085 | Loss: 0.0114\n",
            "Epoch 00086 | Loss: 0.0118\n",
            "F1-Score: 0.9706\n",
            "Epoch 00087 | Loss: 0.0114\n",
            "Epoch 00088 | Loss: 0.0119\n",
            "Epoch 00089 | Loss: 0.0115\n",
            "Epoch 00090 | Loss: 0.0121\n",
            "Epoch 00091 | Loss: 0.0121\n",
            "F1-Score: 0.9700\n",
            "Epoch 00092 | Loss: 0.0115\n",
            "Epoch 00093 | Loss: 0.0114\n",
            "Epoch 00094 | Loss: 0.0105\n",
            "Epoch 00095 | Loss: 0.0102\n",
            "Epoch 00096 | Loss: 0.0102\n",
            "F1-Score: 0.9719\n",
            "Epoch 00097 | Loss: 0.0103\n",
            "Epoch 00098 | Loss: 0.0100\n",
            "Epoch 00099 | Loss: 0.0095\n",
            "Epoch 00100 | Loss: 0.0085\n",
            "Epoch 00101 | Loss: 0.0086\n",
            "F1-Score: 0.9733\n",
            "Epoch 00102 | Loss: 0.0084\n",
            "Epoch 00103 | Loss: 0.0081\n",
            "Epoch 00104 | Loss: 0.0076\n",
            "Epoch 00105 | Loss: 0.0078\n",
            "Epoch 00106 | Loss: 0.0079\n",
            "F1-Score: 0.9751\n",
            "Epoch 00107 | Loss: 0.0076\n",
            "Epoch 00108 | Loss: 0.0078\n",
            "Epoch 00109 | Loss: 0.0078\n",
            "Epoch 00110 | Loss: 0.0076\n",
            "Epoch 00111 | Loss: 0.0072\n",
            "F1-Score: 0.9744\n",
            "Epoch 00112 | Loss: 0.0070\n",
            "Epoch 00113 | Loss: 0.0070\n",
            "Epoch 00114 | Loss: 0.0073\n",
            "Epoch 00115 | Loss: 0.0069\n",
            "Epoch 00116 | Loss: 0.0071\n",
            "F1-Score: 0.9745\n",
            "Epoch 00117 | Loss: 0.0073\n",
            "Epoch 00118 | Loss: 0.0077\n",
            "Epoch 00119 | Loss: 0.0076\n",
            "Epoch 00120 | Loss: 0.0076\n",
            "Epoch 00121 | Loss: 0.0077\n",
            "F1-Score: 0.9737\n",
            "Epoch 00122 | Loss: 0.0078\n",
            "Epoch 00123 | Loss: 0.0077\n",
            "Epoch 00124 | Loss: 0.0081\n",
            "Epoch 00125 | Loss: 0.0082\n",
            "Epoch 00126 | Loss: 0.0082\n",
            "F1-Score: 0.9737\n",
            "Epoch 00127 | Loss: 0.0080\n",
            "Epoch 00128 | Loss: 0.0075\n",
            "Epoch 00129 | Loss: 0.0073\n",
            "Epoch 00130 | Loss: 0.0070\n",
            "Epoch 00131 | Loss: 0.0069\n",
            "F1-Score: 0.9744\n",
            "Epoch 00132 | Loss: 0.0071\n",
            "Epoch 00133 | Loss: 0.0071\n",
            "Epoch 00134 | Loss: 0.0072\n",
            "Epoch 00135 | Loss: 0.0069\n",
            "Epoch 00136 | Loss: 0.0073\n",
            "F1-Score: 0.9735\n",
            "Epoch 00137 | Loss: 0.0069\n",
            "Epoch 00138 | Loss: 0.0082\n",
            "Epoch 00139 | Loss: 0.0089\n",
            "Epoch 00140 | Loss: 0.0090\n",
            "Epoch 00141 | Loss: 0.0088\n",
            "F1-Score: 0.9737\n",
            "Epoch 00142 | Loss: 0.0089\n",
            "Epoch 00143 | Loss: 0.0085\n",
            "Epoch 00144 | Loss: 0.0091\n",
            "Epoch 00145 | Loss: 0.0095\n",
            "Epoch 00146 | Loss: 0.0107\n",
            "F1-Score: 0.9722\n",
            "Epoch 00147 | Loss: 0.0104\n",
            "Epoch 00148 | Loss: 0.0103\n",
            "Epoch 00149 | Loss: 0.0101\n",
            "Epoch 00150 | Loss: 0.0098\n",
            "Epoch 00151 | Loss: 0.0097\n",
            "F1-Score: 0.9725\n",
            "Epoch 00152 | Loss: 0.0091\n",
            "Epoch 00153 | Loss: 0.0087\n",
            "Epoch 00154 | Loss: 0.0082\n",
            "Epoch 00155 | Loss: 0.0080\n",
            "Epoch 00156 | Loss: 0.0078\n",
            "F1-Score: 0.9739\n",
            "Epoch 00157 | Loss: 0.0076\n",
            "Epoch 00158 | Loss: 0.0079\n",
            "Epoch 00159 | Loss: 0.0075\n",
            "Epoch 00160 | Loss: 0.0075\n",
            "Epoch 00161 | Loss: 0.0068\n",
            "F1-Score: 0.9754\n",
            "Epoch 00162 | Loss: 0.0071\n",
            "Epoch 00163 | Loss: 0.0067\n",
            "Epoch 00164 | Loss: 0.0068\n",
            "Epoch 00165 | Loss: 0.0068\n",
            "Epoch 00166 | Loss: 0.0066\n",
            "F1-Score: 0.9763\n",
            "Epoch 00167 | Loss: 0.0065\n",
            "Epoch 00168 | Loss: 0.0062\n",
            "Epoch 00169 | Loss: 0.0061\n",
            "Epoch 00170 | Loss: 0.0058\n",
            "Epoch 00171 | Loss: 0.0053\n",
            "F1-Score: 0.9771\n",
            "Epoch 00172 | Loss: 0.0052\n",
            "Epoch 00173 | Loss: 0.0053\n",
            "Epoch 00174 | Loss: 0.0056\n",
            "Epoch 00175 | Loss: 0.0054\n",
            "Epoch 00176 | Loss: 0.0053\n",
            "F1-Score: 0.9772\n",
            "Epoch 00177 | Loss: 0.0051\n",
            "Epoch 00178 | Loss: 0.0053\n",
            "Epoch 00179 | Loss: 0.0049\n",
            "Epoch 00180 | Loss: 0.0051\n",
            "Epoch 00181 | Loss: 0.0049\n",
            "F1-Score: 0.9777\n",
            "Epoch 00182 | Loss: 0.0048\n",
            "Epoch 00183 | Loss: 0.0048\n",
            "Epoch 00184 | Loss: 0.0049\n",
            "Epoch 00185 | Loss: 0.0050\n",
            "Epoch 00186 | Loss: 0.0055\n",
            "F1-Score: 0.9765\n",
            "Epoch 00187 | Loss: 0.0056\n",
            "Epoch 00188 | Loss: 0.0052\n",
            "Epoch 00189 | Loss: 0.0050\n",
            "Epoch 00190 | Loss: 0.0048\n",
            "Epoch 00191 | Loss: 0.0048\n",
            "F1-Score: 0.9773\n",
            "Epoch 00192 | Loss: 0.0047\n",
            "Epoch 00193 | Loss: 0.0046\n",
            "Epoch 00194 | Loss: 0.0045\n",
            "Epoch 00195 | Loss: 0.0045\n",
            "Epoch 00196 | Loss: 0.0044\n",
            "F1-Score: 0.9779\n",
            "Epoch 00197 | Loss: 0.0046\n",
            "Epoch 00198 | Loss: 0.0047\n",
            "Epoch 00199 | Loss: 0.0046\n",
            "Epoch 00200 | Loss: 0.0044\n"
          ]
        }
      ],
      "source": [
        "## Student model\n",
        "\n",
        "### DEVICE GPU OR CPU : will select GPU if available\n",
        "device = torch.device('cuda' if torch.cuda.is_available() else 'cpu')\n",
        "print(\"\\nDevice: \", device)\n",
        "\n",
        "### parameters and model\n",
        "input_size, hidden_size, output_size = 50, 256, 121\n",
        "xavier_init = False\n",
        "student_model = StudentModel(input_size, hidden_size, output_size).to(device)\n",
        "\n",
        "### DEFINE LOSS FUNCTION AND OPTIMIZER\n",
        "optimizer = torch.optim.Adam(student_model.parameters(), lr=0.005)\n",
        "\n",
        "### DEFINE LOSS FUNCTION\n",
        "loss_fcn = nn.BCEWithLogitsLoss()\n",
        "\n",
        "### Max number of epochs\n",
        "max_epochs = 200\n",
        "\n",
        "### TRAIN\n",
        "epoch_list, student_model_scores = train(student_model, loss_fcn, device, optimizer, max_epochs, train_dataloader, val_dataloader)"
      ]
    },
    {
      "cell_type": "markdown",
      "metadata": {
        "id": "aWatNTPBpQGY"
      },
      "source": [
        "Let's evaluate the performance of your model"
      ]
    },
    {
      "cell_type": "code",
      "execution_count": 13,
      "metadata": {
        "id": "WFWMqwDuSj7b",
        "colab": {
          "base_uri": "https://localhost:8080/",
          "height": 368
        },
        "outputId": "f841ff1c-1e48-4b9d-9076-d4375cc1e9a5"
      },
      "outputs": [
        {
          "output_type": "stream",
          "name": "stdout",
          "text": [
            "Student Model : F1-Score on the test set: 0.9876\n"
          ]
        },
        {
          "output_type": "display_data",
          "data": {
            "text/plain": [
              "<Figure size 720x360 with 1 Axes>"
            ],
            "image/png": "[encoded data removed]"
          },
          "metadata": {
            "needs_background": "light"
          }
        }
      ],
      "source": [
        "score_test = evaluate(student_model, loss_fcn, device, test_dataloader)\n",
        "print(\"Student Model : F1-Score on the test set: {:.4f}\".format(score_test))\n",
        "\n",
        "def plot_f1_score(epoch_list, basic_model_scores, student_model_scores) :\n",
        "    plt.figure(figsize = [10,5])\n",
        "    plt.plot(epoch_list, basic_model_scores, 'b', label = \"Basic Model\")\n",
        "    plt.plot(epoch_list, student_model_scores, 'r', label = \"Student Model\")\n",
        "    plt.title(\"Evolution of f1 score w.r.t epochs\")\n",
        "    plt.ylim([0.0, 1.0])\n",
        "    plt.ylabel(\"Epochs\")\n",
        "    plt.xlabel(\"F1-Score\")\n",
        "    plt.legend()\n",
        "    plt.show()\n",
        "    \n",
        "plot_f1_score(epoch_list, basic_model_scores, student_model_scores)"
      ]
    },
    {
      "cell_type": "markdown",
      "metadata": {
        "id": "i9aVEYkuR3fp"
      },
      "source": [
        "## **PART 2 : QUESTIONS** (12/20)"
      ]
    },
    {
      "cell_type": "markdown",
      "source": [
        "### Question 1"
      ],
      "metadata": {
        "id": "_g6mgR39NELd"
      }
    },
    {
      "cell_type": "markdown",
      "metadata": {
        "id": "vZ-r6AWtR-Co"
      },
      "source": [
        "**1. Make a small paragraph that : (4pts)**\n",
        "1. Explains your achitecture and justify your choices (why the Graph Layer you chose is more efficient than the GCNLayer from the Basic Model?).\n",
        "2. Analyses your results (what is the F1-Score ? are your results convincing ? what is your position w.r.t state-of-the-art ?)."
      ]
    },
    {
      "cell_type": "markdown",
      "metadata": {
        "id": "4aiCvW4q5jRY"
      },
      "source": [
        "**1.1. Answer**\n",
        "\n",
        "Concerning the architecture of the proposed model, I was inspired by the paper (Velickovic et al, Graph Attention Networks, 2018) and the **Inductive Learning** method used on the PPI dataset (pages 7 of the paper). The architecture chosen is the following: batch size = 2, 200 epochs, Adap Optimizer, 2 GAT Layers with 256 features and 4 heads, 1 final GAT Layer for classification with 6 heads, ELU activation function, connections for the intermediate layers that pass through a linear layer whose output is summed with the output of the associated GAT layer \"at the same depth level\". \n",
        "\n",
        "I also have different architectures: 64, 128, 256 and 300 were tested for the number of features; 1, 2, 3 and 4 were tested for the number of heads; ELU, LeakyReLU and ReLU were tested for the activation functions; the same model without the linear connections was tested. As the number of features and attention heads increases, the computation time increases. The 3 activation functions show equivalent results, so ELU is retained. The model without the linear connections shows similar performance but converges less quickly and stably to the optimal solution.\n",
        "\n",
        "Regarding the difference in performance between the use of the attention mechanism and the convolution layers, this can be explained by the fact that the attention mechanism allows to focus on certain nodes of the graph, while the convolution only focuses on the nodes in a certain neighbourhood. This allows GATs to extract more relevant and richer information for each node. Thus, with each iteration, the weights of the layers associated with the attention mechanism become more and more efficient at giving importance to the most important nodes."
      ]
    },
    {
      "cell_type": "markdown",
      "source": [
        "**1.2. Answer**\n",
        "\n",
        "According to Wikipedia, F1-score is a \"*The F1 score is the harmonic mean of the precision and recall*\". It is defined by :\n",
        "\n",
        "$$F1-score = 2\\frac{precision * recall}{precision + recall}$$\n",
        "\n",
        "This metric is particularly interesting when the data labels are not balanced, because the number of true negatives is not detected. In other words, in some cases, this metric is better than accuracy in assessing the detection capacity of the model.\n",
        "\n",
        "The F1-score obtained on the test set is **0.9879**. The result is convincing because the value is very close to 1, hence the model seems to generalize well on new data.\n",
        "\n",
        "Compared to the state of the art, the result is very satisfactory as it is almost identical to the one proposed in the paper: **0.973** (Velickovic et al, Graph Attention Networks, page 8, 2018). However, it is below the method proposed in the paper **A Proposal of Multi-Layer Perceptron with Graph Gating Unit for Graph Representation Learning and its Application to Surrogate Model for FEM** (https://www.jstage.jst.go.jp/article/pjsai/JSAI2022/0/JSAI2022_1G4OS22a03/_pdf/-char/ja) which presents an F1-score of **0.9971**."
      ],
      "metadata": {
        "id": "T5VpcBnB7GQB"
      }
    },
    {
      "cell_type": "markdown",
      "source": [
        "### Question 2"
      ],
      "metadata": {
        "id": "S4O5ruTgNHcH"
      }
    },
    {
      "cell_type": "markdown",
      "metadata": {
        "id": "5HIVqG4u5jfc"
      },
      "source": [
        "**2. Provide a diagramm of your architecture, which includes a good and clear legend as well as shapes information. The diagramm must be submitted as an external file, along with this notebook (PDF, JEPG or PNG format accepted). (2pts)**"
      ]
    },
    {
      "cell_type": "code",
      "source": [
        "# Read the diagramm and display it\n",
        "# please check that diagramm_architecture.png is in your working directory\n",
        "plt.figure(figsize = (10,20))\n",
        "img = mpimg.imread('diagramm_architecture.png')\n",
        "imgplot = plt.imshow(img)\n",
        "plt.axis('off')\n",
        "plt.show()"
      ],
      "metadata": {
        "colab": {
          "base_uri": "https://localhost:8080/",
          "height": 643
        },
        "id": "aWggwewz3p1l",
        "outputId": "8dcb96dc-ee97-4ab2-c04b-ac0698f7b724"
      },
      "execution_count": 15,
      "outputs": [
        {
          "output_type": "display_data",
          "data": {
            "text/plain": [
              "<Figure size 720x1440 with 1 Axes>"
            ],
            "image/png": "[encoded data removed]"
          },
          "metadata": {
            "needs_background": "light"
          }
        }
      ]
    },
    {
      "cell_type": "markdown",
      "source": [
        "### Question 3"
      ],
      "metadata": {
        "id": "k9Oab39gNKmw"
      }
    },
    {
      "cell_type": "markdown",
      "metadata": {
        "id": "crMHLjkJ5pxl"
      },
      "source": [
        "**3. Make a small paragraph that explains: (6pts)**\n",
        "1. What _oversmoothing_ is in the context of Graph Neural Network. Why is it an issue ? \n",
        "2. Are there solutions to overcome it ? \n",
        "3. Do you think the model you constructed is robust with respect to oversmoothing ? Why ?"
      ]
    },
    {
      "cell_type": "markdown",
      "metadata": {
        "id": "QLPosSov_uPK"
      },
      "source": [
        "**3.1. Answer**\n",
        "\n",
        "In the context of the Graph Neural Network, _oversmoothing_ is the fact that the model treats all nodes in the same way, resulting in an almost identical embedding for each node. Intuitively, the deeper the neural network layer, the more distant neighbours of each node are taken into account to generate the embedding. Thus, this can lead to a risk of treating all nodes identically. If nodes of different labels have similar embeddings, then this may lead to prediction errors in a classification task, for example."
      ]
    },
    {
      "cell_type": "markdown",
      "source": [
        "**3.2. Answer**\n",
        "\n",
        "A first solution that seems obvious is to train a network with a reasonable number of layers, i.e. not too many, as there is always a trade-off between model complexity and ability to generalise on new data.\n",
        "\n",
        "Another solution can be to quantify this over-smoothing, as for example with the Group Distance Ratio metric (Kaixiong Zhou et al, 2020 - https://arxiv.org/abs/2006.06972), and to add this quantity to the Loss with a regularisation term, to try to minimise this over-smoothing. However, this requires more computational resources.\n",
        "\n",
        "In the literature, (Kaixiong Zhou et al) introduces the Differentiable Group Normalization. This method consists of adding a layer that divides the nodes into different groups, normalizing them and obtaining additional embeding. This results in optimising the metric DGR by generating more similar embeddings within each group."
      ],
      "metadata": {
        "id": "TDnOoKK7JRpd"
      }
    },
    {
      "cell_type": "markdown",
      "source": [
        "**3.3. Answer**\n",
        "\n",
        "As for my model, I think it is robust to oversmoothing because it has the following qualities: it has been trained with a relatively small number of layers, it performs very well on the test sample and the metric used is the F1-score, which is an armonic average of precision and recall.\n",
        "\n",
        "However, the model was only tested on the test data from the PPI dataset. These test data are different from the training dataset, but it would be useful to test the model on a completely different dataset in order to evaluate its ability to generalise. Because some similarities can be observed between the train and test sets of the same dataset."
      ],
      "metadata": {
        "id": "cvaLPFMxJwmX"
      }
    }
  ],
  "metadata": {
    "accelerator": "GPU",
    "colab": {
      "provenance": []
    },
    "gpuClass": "standard",
    "kernelspec": {
      "display_name": "Python 3",
      "language": "python",
      "name": "python3"
    },
    "language_info": {
      "codemirror_mode": {
        "name": "ipython",
        "version": 3
      },
      "file_extension": ".py",
      "mimetype": "text/x-python",
      "name": "python",
      "nbconvert_exporter": "python",
      "pygments_lexer": "ipython3",
      "version": "3.7.6"
    }
  },
  "nbformat": 4,
  "nbformat_minor": 0
}