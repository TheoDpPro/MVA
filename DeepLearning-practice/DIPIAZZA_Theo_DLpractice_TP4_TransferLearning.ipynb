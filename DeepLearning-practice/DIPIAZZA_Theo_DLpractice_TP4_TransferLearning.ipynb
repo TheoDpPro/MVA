{
  "cells": [
    {
      "cell_type": "markdown",
      "source": [
        "# **Practical session on Transfer Learning**\n",
        "This Pratical session proposes to study several techniques for improving challenging context, in which few data and resources are available.\n",
        "\n",
        "**Student :** Théo Di Piazza (theo.dipiazza@gmail.com)"
      ],
      "metadata": {
        "id": "4jVkOWmgFT1p"
      }
    },
    {
      "cell_type": "markdown",
      "metadata": {
        "id": "QLKnIngy_2hg"
      },
      "source": [
        "# Introduction\n",
        "\n",
        "**Context :**\n",
        "\n",
        "Assume we are in a context where few \"gold\" labeled data are available for training, say \n",
        "\n",
        "$$\\mathcal{X}_{\\text{train}} = \\{(x_n,y_n)\\}_{n\\leq N_{\\text{train}}}$$\n",
        "\n",
        "where $N_{\\text{train}}$ is small. \n",
        "\n",
        "A large test set $\\mathcal{X}_{\\text{test}}$ as well as a large amount of unlabeled data, $\\mathcal{X}$, is available. We also assume that we have a limited computational budget (e.g., no GPUs).\n",
        "\n",
        "**Instructions to follow :** \n",
        "\n",
        "For each question, write a commented *Code* or a complete answer as a *Markdown*. When the objective of a question is to report a CNN accuracy, please use the following format to report it, at the end of the question :\n",
        "\n",
        "| Model | Number of  epochs  | Train accuracy | Test accuracy |\n",
        "|------|------|------|------|\n",
        "|   XXX  | XXX | XXX | XXX |\n",
        "\n",
        "If applicable, please add the field corresponding to the  __Accuracy on Full Data__ as well as a link to the __Reference paper__ you used to report those numbers. (You do not need to train a CNN on the full CIFAR10 dataset!)\n",
        "\n",
        "In your final report, please *keep the logs of each training procedure* you used. We will only run this jupyter if we have some doubts on your implementation. \n",
        "\n",
        "The total file sizes should be reasonable (feasible with 2MB only!). You will be asked to hand in the notebook, together with any necessary files required to run it if any.\n",
        "\n",
        "You can use https://colab.research.google.com/ to run your experiments."
      ]
    },
    {
      "cell_type": "markdown",
      "metadata": {
        "id": "YmTCQPSh_2hg"
      },
      "source": [
        "## Training set creation\n",
        "__Question 1 (2 points) :__ Propose a dataloader to obtain a training loader that will only use the first 100 samples of the CIFAR-10 training set.\n",
        "\n",
        "Additional information :  \n",
        "\n",
        "*   CIFAR10 dataset : https://en.wikipedia.org/wiki/CIFAR-10\n",
        "*   You can directly use the dataloader framework from Pytorch.\n",
        "*   Alternatively you can modify the file : https://github.com/pytorch/vision/blob/master/torchvision/datasets/cifar.py"
      ]
    },
    {
      "cell_type": "markdown",
      "source": [
        "<u>**Question 1 - Answer**</u>\n",
        "\n",
        "I use the Pytorch library to load the CIFAR-10 dataset. Then I select the first 100 samples of the CIFAR10 train set with the **Subset** function."
      ],
      "metadata": {
        "id": "yKhZDJGBU7Ul"
      }
    },
    {
      "cell_type": "code",
      "execution_count": null,
      "metadata": {
        "id": "uZkC5IxR_2hh"
      },
      "outputs": [],
      "source": [
        "# Libraries\n",
        "import torch\n",
        "import torchvision\n",
        "import torchvision.transforms as transforms\n",
        "\n",
        "import numpy as np"
      ]
    },
    {
      "cell_type": "code",
      "source": [
        "#@title load CIFAR10 train and test set\n",
        "\n",
        "# batch\n",
        "batch_size = 10\n",
        "\n",
        "## STEP 1 : LOAD CIFAR10 100 FIRST SAMPLES AND COMPUTE MEAN ACCURACY OF DATA\n",
        "# load entire train set\n",
        "trainset_full = torchvision.datasets.CIFAR10(root='./data', train=True,\n",
        "                                        download=True, transform=transforms.ToTensor())\n",
        "# subset first 100 samples\n",
        "trainset = torch.utils.data.Subset(trainset_full, list(range(100)))\n",
        "# compute mean, std of first 100 samples to normalize\n",
        "data = trainset.dataset.data / 255 \n",
        "mean = data.mean(axis = (0,1,2)) \n",
        "std = data.std(axis = (0,1,2))\n",
        "print(f'100 first samples : RGB data - Mean : {mean} - Standart-Deviation : {std} !')\n",
        "\n",
        "## STEP 2 : RELOAD CIFAR100 100 FIRST SAMPLES WITH ADJUSTED NORMALIZATION MEAN AND ACCURACY\n",
        "transform = transforms.Compose(\n",
        "    [transforms.ToTensor(),\n",
        "     transforms.Normalize(tuple(mean), tuple(std))])\n",
        "# reload CIFAR10 with adjusted normalization values\n",
        "trainset_full = torchvision.datasets.CIFAR10(root='./data', train=True,\n",
        "                                        download=True, transform=transform)\n",
        "# reload subset first 100 samples\n",
        "trainset = torch.utils.data.Subset(trainset_full, list(range(100)))\n",
        "# load dataloader\n",
        "trainloader = torch.utils.data.DataLoader(trainset, batch_size=batch_size,\n",
        "                                          shuffle=True)\n",
        "\n",
        "## STEP 4 : LOAD CIFAR10 UNLABEL SET\n",
        "idx_cifar, idx_train = list(range(100)), list(range(50000)) # idx of train, idx of all samples\n",
        "idx_unlabel = list(set(idx_cifar) - set(idx_train)) # indexes of unlabel data\n",
        "unlabeldataset = torch.utils.data.Subset(trainset_full, idx_unlabel)\n",
        "unlabelloader = torch.utils.data.DataLoader(unlabeldataset, batch_size=batch_size, shuffle=False)\n",
        "\n",
        "## STEP 4 : LOAD CIFAR10 TEST SET\n",
        "testset = torchvision.datasets.CIFAR10(root='./data', train=False,\n",
        "                                        download=True, transform=transform)\n",
        "testloader = torch.utils.data.DataLoader(testset, batch_size=batch_size,\n",
        "                                          shuffle=True)\n",
        "\n",
        "print(f'> Successfully loaded train dataset/dataloader with {len(trainset)} samples!')\n",
        "print(f'> Successfully loaded test dataset/dataloader with {len(testset)} samples!')"
      ],
      "metadata": {
        "id": "Jta3fhekT4c3",
        "colab": {
          "base_uri": "https://localhost:8080/"
        },
        "outputId": "0bdb9295-4695-4734-95d2-dbdbc10e2640"
      },
      "execution_count": null,
      "outputs": [
        {
          "output_type": "stream",
          "name": "stdout",
          "text": [
            "Files already downloaded and verified\n",
            "100 first samples : RGB data - Mean : [0.49139968 0.48215841 0.44653091] - Standart-Deviation : [0.24703223 0.24348513 0.26158784] !\n",
            "Files already downloaded and verified\n",
            "Files already downloaded and verified\n",
            "> Successfully loaded train dataset/dataloader with 100 samples!\n",
            "> Successfully loaded test dataset/dataloader with 10000 samples!\n"
          ]
        }
      ]
    },
    {
      "cell_type": "code",
      "source": [
        "# display number of samples for each class\n",
        "trainset_labels = []\n",
        "for _, y in trainloader:\n",
        "  trainset_labels += y.detach().cpu().tolist()\n",
        "\n",
        "# plot\n",
        "plt.hist(trainset_labels, 10, facecolor='blue', alpha=0.5, edgecolor = \"black\", align='left', width=0.8)\n",
        "plt.title('Number of samples per class\\nCIFAR10 100 first samples')\n",
        "plt.xticks([])\n",
        "for i, xname in enumerate([-0.2, 0.8, 1.6, 2.6, 3.5, 4.4, 5.3, 6.2, 7.1, 7.9]):\n",
        "  plt.text(xname, 1, i)\n",
        "plt.xlabel('class'); plt.ylabel('count');\n",
        "plt.show()"
      ],
      "metadata": {
        "colab": {
          "base_uri": "https://localhost:8080/",
          "height": 297
        },
        "id": "Cf8Zu37gyMXb",
        "outputId": "e6844c77-102c-4d37-e978-2395d21c5ed6"
      },
      "execution_count": null,
      "outputs": [
        {
          "output_type": "display_data",
          "data": {
            "text/plain": [
              "<Figure size 432x288 with 1 Axes>"
            ],
            "image/png": "[encoded data removed]"
          },
          "metadata": {
            "needs_background": "light"
          }
        }
      ]
    },
    {
      "cell_type": "markdown",
      "metadata": {
        "id": "fUno1nmu_2hh"
      },
      "source": [
        "* This is our dataset $\\mathcal{X}_{\\text{train}}$, it will be used until the end of this project. \n",
        "\n",
        "* The remaining samples correspond to $\\mathcal{X}$. \n",
        "\n",
        "* The testing set $\\mathcal{X}_{\\text{test}}$ corresponds to the whole testing set of CIFAR-10."
      ]
    },
    {
      "cell_type": "markdown",
      "metadata": {
        "id": "Vr0d4o5L_2hi"
      },
      "source": [
        "## Testing procedure\n",
        "__Question 2 (1.5 points):__ Explain why the evaluation of the training procedure is difficult. Propose several solutions."
      ]
    },
    {
      "cell_type": "markdown",
      "metadata": {
        "id": "ppiTrnpd_2hi"
      },
      "source": [
        "<u>**Question 2 - Answer**</u>\n",
        "\n",
        "The evaluation of the training procedure is difficult because the train set is much smaller than the test set (100 samples VS 10000 samples). Since the quality of the training depends on the quality of the data, it is difficult to know whether 100 training samples are representative enough of the distribution of the total train set to present good results. There is a risk that the model will overfit on the few train set data. Some classes may be under-represented.\n",
        "\n",
        "Here are some solutions to this problem:     \n",
        "\n",
        "- **Data Augmentation:** which consists of increasing the size of the dataset via deformations, modifications of colour intensities, rotation, translation, cropping, etc.\n",
        "\n",
        "- **Transfer learning:** which consists of fine-tuning a pre-trained model on our small train set to benefit from pre-trained weights.\n",
        "\n",
        "- **Ensembe methods:** which consists of training several models on the dataset and exploiting/combining the results of the models and improving performance. Even with this, it is not guaranteed that the problem will be completely solved."
      ]
    },
    {
      "cell_type": "markdown",
      "metadata": {
        "id": "OEaIwILB_2hi"
      },
      "source": [
        "# The Baseline"
      ]
    },
    {
      "cell_type": "markdown",
      "metadata": {
        "id": "M-PQZ2Vl_2hi"
      },
      "source": [
        "In this section, the goal is to train a CNN on $\\mathcal{X}_{\\text{train}}$ and compare its performance with reported numbers from the litterature. You will have to re-use and/or design a standard classification pipeline. You should optimize your pipeline to obtain the best performances (image size, data augmentation by flip, ...).\n",
        "\n",
        "The key ingredients for training a CNN are the batch size, as well as the learning rate scheduler (i.e. how to decrease the learning rate as a function of the number of epochs). A possible scheduler is to start the learning rate at 0.1 and decreasing it every 30 epochs by 10. In case of divergence, reduce the learning rate. A potential batch size could be 10, yet this can be cross-validated.\n",
        "\n",
        "You can get some baselines accuracies in this paper (obviously, it is a different context for those researchers who had access to GPUs!) : http://openaccess.thecvf.com/content_cvpr_2018/papers/Keshari_Learning_Structure_and_CVPR_2018_paper.pdf. "
      ]
    },
    {
      "cell_type": "markdown",
      "metadata": {
        "id": "ARHWPXrY_2hi"
      },
      "source": [
        "## ResNet architectures"
      ]
    },
    {
      "cell_type": "markdown",
      "metadata": {
        "id": "voMbGoNw_2hj"
      },
      "source": [
        "__Question 3 (4 points) :__ Write a classification pipeline for $\\mathcal{X}_{\\text{train}}$, train from scratch and evaluate a *ResNet-18* architecture specific to CIFAR10 (details about the ImageNet model can be found here: https://arxiv.org/abs/1512.03385). Please report the accuracy obtained on the whole dataset as well as the reference paper/GitHub link.\n",
        "\n",
        "*Hint :* You can re-use the following code : https://github.com/kuangliu/pytorch-cifar. During a training of 10 epochs, a batch size of 10 and a learning rate of 0.01, one obtains 40% accuracy on $\\mathcal{X}_{\\text{train}}$ (\\~2 minutes) and 20% accuracy on $\\mathcal{X}_{\\text{test}}$ (\\~5 minutes)."
      ]
    },
    {
      "cell_type": "markdown",
      "source": [
        "<u>**Question 3- Strategy**</u>\n",
        "\n",
        "As recommended by the topic, I use the code available at https://github.com/kuangliu/pytorch-cifar to implement the ResNet18."
      ],
      "metadata": {
        "id": "3ZOear9AbYUE"
      }
    },
    {
      "cell_type": "code",
      "source": [
        "import torch\n",
        "import torch.nn as nn\n",
        "import torch.optim as optim\n",
        "import torch.nn.functional as F\n",
        "import torch.backends.cudnn as cudnn\n",
        "\n",
        "import torchvision\n",
        "import torchvision.transforms as transforms\n",
        "\n",
        "import os\n",
        "import argparse"
      ],
      "metadata": {
        "id": "dwZJB0GfcscN"
      },
      "execution_count": null,
      "outputs": []
    },
    {
      "cell_type": "markdown",
      "source": [
        "To begin with, we implement the ResNet model"
      ],
      "metadata": {
        "id": "57-AM-3k4Svo"
      }
    },
    {
      "cell_type": "code",
      "execution_count": null,
      "metadata": {
        "id": "RVHhKmWN_2hj"
      },
      "outputs": [],
      "source": [
        "#@title ResNet model\n",
        "\n",
        "class BasicBlock(nn.Module):\n",
        "    expansion = 1\n",
        "\n",
        "    def __init__(self, in_planes, planes, stride=1):\n",
        "        super(BasicBlock, self).__init__()\n",
        "        self.conv1 = nn.Conv2d(\n",
        "            in_planes, planes, kernel_size=3, stride=stride, padding=1, bias=False)\n",
        "        self.bn1 = nn.BatchNorm2d(planes)\n",
        "        self.conv2 = nn.Conv2d(planes, planes, kernel_size=3,\n",
        "                               stride=1, padding=1, bias=False)\n",
        "        self.bn2 = nn.BatchNorm2d(planes)\n",
        "\n",
        "        self.shortcut = nn.Sequential()\n",
        "        if stride != 1 or in_planes != self.expansion*planes:\n",
        "            self.shortcut = nn.Sequential(\n",
        "                nn.Conv2d(in_planes, self.expansion*planes,\n",
        "                          kernel_size=1, stride=stride, bias=False),\n",
        "                nn.BatchNorm2d(self.expansion*planes)\n",
        "            )\n",
        "\n",
        "    def forward(self, x):\n",
        "        out = F.relu(self.bn1(self.conv1(x)))\n",
        "        out = self.bn2(self.conv2(out))\n",
        "        out += self.shortcut(x)\n",
        "        out = F.relu(out)\n",
        "        return out\n",
        "\n",
        "\n",
        "class Bottleneck(nn.Module):\n",
        "    expansion = 4\n",
        "\n",
        "    def __init__(self, in_planes, planes, stride=1):\n",
        "        super(Bottleneck, self).__init__()\n",
        "        self.conv1 = nn.Conv2d(in_planes, planes, kernel_size=1, bias=False)\n",
        "        self.bn1 = nn.BatchNorm2d(planes)\n",
        "        self.conv2 = nn.Conv2d(planes, planes, kernel_size=3,\n",
        "                               stride=stride, padding=1, bias=False)\n",
        "        self.bn2 = nn.BatchNorm2d(planes)\n",
        "        self.conv3 = nn.Conv2d(planes, self.expansion *\n",
        "                               planes, kernel_size=1, bias=False)\n",
        "        self.bn3 = nn.BatchNorm2d(self.expansion*planes)\n",
        "\n",
        "        self.shortcut = nn.Sequential()\n",
        "        if stride != 1 or in_planes != self.expansion*planes:\n",
        "            self.shortcut = nn.Sequential(\n",
        "                nn.Conv2d(in_planes, self.expansion*planes,\n",
        "                          kernel_size=1, stride=stride, bias=False),\n",
        "                nn.BatchNorm2d(self.expansion*planes)\n",
        "            )\n",
        "\n",
        "    def forward(self, x):\n",
        "        out = F.relu(self.bn1(self.conv1(x)))\n",
        "        out = F.relu(self.bn2(self.conv2(out)))\n",
        "        out = self.bn3(self.conv3(out))\n",
        "        out += self.shortcut(x)\n",
        "        out = F.relu(out)\n",
        "        return out\n",
        "\n",
        "\n",
        "class ResNet(nn.Module):\n",
        "    def __init__(self, block, num_blocks, num_classes=10):\n",
        "        super(ResNet, self).__init__()\n",
        "        self.in_planes = 64\n",
        "\n",
        "        self.conv1 = nn.Conv2d(3, 64, kernel_size=3,\n",
        "                               stride=1, padding=1, bias=False)\n",
        "        self.bn1 = nn.BatchNorm2d(64)\n",
        "        self.layer1 = self._make_layer(block, 64, num_blocks[0], stride=1)\n",
        "        self.layer2 = self._make_layer(block, 128, num_blocks[1], stride=2)\n",
        "        self.layer3 = self._make_layer(block, 256, num_blocks[2], stride=2)\n",
        "        self.layer4 = self._make_layer(block, 512, num_blocks[3], stride=2)\n",
        "        self.linear = nn.Linear(512*block.expansion, num_classes)\n",
        "\n",
        "    def _make_layer(self, block, planes, num_blocks, stride):\n",
        "        strides = [stride] + [1]*(num_blocks-1)\n",
        "        layers = []\n",
        "        for stride in strides:\n",
        "            layers.append(block(self.in_planes, planes, stride))\n",
        "            self.in_planes = planes * block.expansion\n",
        "        return nn.Sequential(*layers)\n",
        "\n",
        "    def forward(self, x):\n",
        "        out = F.relu(self.bn1(self.conv1(x)))\n",
        "        out = self.layer1(out)\n",
        "        out = self.layer2(out)\n",
        "        out = self.layer3(out)\n",
        "        out = self.layer4(out)\n",
        "        out = F.avg_pool2d(out, 4)\n",
        "        out = out.view(out.size(0), -1)\n",
        "        out = self.linear(out)\n",
        "        return out\n",
        "\n",
        "\n",
        "def ResNet18():\n",
        "    return ResNet(BasicBlock, [2, 2, 2, 2])"
      ]
    },
    {
      "cell_type": "markdown",
      "source": [
        "Once the architecture is defined, the objective is to train the model on $X_{train}$ and to test it on $X_{test}$."
      ],
      "metadata": {
        "id": "nqP3Agkxb1pD"
      }
    },
    {
      "cell_type": "markdown",
      "source": [
        "Below are defined some useful functions to train, test the model."
      ],
      "metadata": {
        "id": "5ORByeLU4abg"
      }
    },
    {
      "cell_type": "code",
      "source": [
        "#@title utils function\n",
        "# Training\n",
        "def train(epoch):\n",
        "    print('\\nEpoch: %d' % epoch)\n",
        "    net.train()\n",
        "    train_loss = 0\n",
        "    correct = 0\n",
        "    total = 0\n",
        "    for batch_idx, (inputs, targets) in enumerate(trainloader):\n",
        "        inputs, targets = inputs.to(device), targets.to(device)\n",
        "        optimizer.zero_grad()\n",
        "        outputs = net(inputs)\n",
        "        loss = criterion(outputs, targets)\n",
        "        loss.backward()\n",
        "        optimizer.step()\n",
        "\n",
        "        train_loss += loss.item()\n",
        "        _, predicted = outputs.max(1)\n",
        "        total += targets.size(0)\n",
        "        correct += predicted.eq(targets).sum().item()\n",
        "\n",
        "    train_loss_return, train_acc_return = train_loss/(batch_idx+1), 100.*correct/total\n",
        "    print(f'> TRAIN SET : Loss: {train_loss_return:.3f} | Acc: {train_acc_return:.2f}% !')\n",
        "    return train_loss_return, train_acc_return\n",
        "\n",
        "# Test\n",
        "def test(epoch):\n",
        "    global best_acc\n",
        "    net.eval()\n",
        "    test_loss = 0\n",
        "    correct = 0\n",
        "    total = 0\n",
        "    with torch.no_grad():\n",
        "        for batch_idx, (inputs, targets) in enumerate(testloader):\n",
        "            inputs, targets = inputs.to(device), targets.to(device)\n",
        "            outputs = net(inputs)\n",
        "            loss = criterion(outputs, targets)\n",
        "\n",
        "            test_loss += loss.item()\n",
        "            _, predicted = outputs.max(1)\n",
        "            total += targets.size(0)\n",
        "            correct += predicted.eq(targets).sum().item()\n",
        "\n",
        "        test_loss_return, test_acc_return = test_loss/(batch_idx+1), 100.*correct/total\n",
        "        print(f'> TEST SET : Loss: {test_loss_return:.3f} | Acc: {test_acc_return}% !')\n",
        "    \n",
        "    return test_loss_return, test_acc_return"
      ],
      "metadata": {
        "id": "jxycImFsc8eb"
      },
      "execution_count": null,
      "outputs": []
    },
    {
      "cell_type": "code",
      "source": [
        "#@title set up model, optimizer, loss, scheduler\n",
        "\n",
        "device = 'cuda' if torch.cuda.is_available() else 'cpu'\n",
        "\n",
        "# initialize the model\n",
        "net = ResNet18()\n",
        "net = net.to(device)\n",
        "\n",
        "# criterion, optimizer\n",
        "lr = 0.01\n",
        "criterion = nn.CrossEntropyLoss()\n",
        "optimizer = optim.SGD(net.parameters(), lr=lr, momentum=0.8)\n",
        "scheduler = torch.optim.lr_scheduler.CosineAnnealingLR(optimizer, T_max=200)"
      ],
      "metadata": {
        "id": "gFSyj3L-b-jo"
      },
      "execution_count": null,
      "outputs": []
    },
    {
      "cell_type": "code",
      "source": [
        "#@title iterate for training\n",
        "train_losses, test_losses, train_acc, test_acc = [], [], [], []\n",
        "\n",
        "for epoch in range(0, 10):\n",
        "    train_loss_epoch, train_acc_epoch = train(epoch)\n",
        "    test_loss_epoch, test_acc_epoch = test(epoch)\n",
        "\n",
        "    train_losses.append(train_loss_epoch)\n",
        "    train_acc.append(train_acc_epoch)\n",
        "    test_losses.append(test_loss_epoch)\n",
        "    test_acc.append(test_acc_epoch)\n",
        "\n",
        "    scheduler.step()"
      ],
      "metadata": {
        "colab": {
          "base_uri": "https://localhost:8080/"
        },
        "id": "kigUapDydDt2",
        "outputId": "32b52faa-1f7c-432b-cb35-1716248d35dc"
      },
      "execution_count": null,
      "outputs": [
        {
          "output_type": "stream",
          "name": "stdout",
          "text": [
            "\n",
            "Epoch: 0\n",
            "> TRAIN SET : Loss: 2.663 | Acc: 10.00% !\n",
            "> TEST SET : Loss: 2.356 | Acc: 10.14% !\n",
            "\n",
            "Epoch: 1\n",
            "> TRAIN SET : Loss: 2.440 | Acc: 21.00% !\n",
            "> TEST SET : Loss: 2.887 | Acc: 12.61% !\n",
            "\n",
            "Epoch: 2\n",
            "> TRAIN SET : Loss: 2.318 | Acc: 23.00% !\n",
            "> TEST SET : Loss: 3.513 | Acc: 16.65% !\n",
            "\n",
            "Epoch: 3\n",
            "> TRAIN SET : Loss: 1.770 | Acc: 44.00% !\n",
            "> TEST SET : Loss: 3.210 | Acc: 15.8% !\n",
            "\n",
            "Epoch: 4\n",
            "> TRAIN SET : Loss: 1.050 | Acc: 60.00% !\n",
            "> TEST SET : Loss: 3.305 | Acc: 19.16% !\n",
            "\n",
            "Epoch: 5\n",
            "> TRAIN SET : Loss: 0.799 | Acc: 77.00% !\n",
            "> TEST SET : Loss: 3.414 | Acc: 19.71% !\n",
            "\n",
            "Epoch: 6\n",
            "> TRAIN SET : Loss: 0.545 | Acc: 87.00% !\n",
            "> TEST SET : Loss: 3.318 | Acc: 21.01% !\n",
            "\n",
            "Epoch: 7\n",
            "> TRAIN SET : Loss: 0.517 | Acc: 80.00% !\n",
            "> TEST SET : Loss: 4.186 | Acc: 21.09% !\n",
            "\n",
            "Epoch: 8\n",
            "> TRAIN SET : Loss: 0.456 | Acc: 84.00% !\n",
            "> TEST SET : Loss: 4.291 | Acc: 21.71% !\n",
            "\n",
            "Epoch: 9\n",
            "> TRAIN SET : Loss: 0.419 | Acc: 85.00% !\n",
            "> TEST SET : Loss: 3.991 | Acc: 16.86% !\n"
          ]
        }
      ]
    },
    {
      "cell_type": "code",
      "source": [
        "#@title Display interesting results\n",
        "import matplotlib.pyplot as plt\n",
        "import numpy as np\n",
        "\n",
        "# train, test accuracy\n",
        "print(f'> Best accuracy for train set : {np.max(train_acc)} !')\n",
        "print(f'> Best accuracy for test set : {np.max(test_acc)} !\\n')\n",
        "\n",
        "# display losses, accuracies VS epochs\n",
        "f, axes = plt.subplots(1, 2, figsize=(10, 4))\n",
        "axes[0].plot(train_losses, label='train')\n",
        "axes[0].plot(test_losses, label='test')\n",
        "axes[0].set_title('Losses VS epoch')\n",
        "axes[0].legend()\n",
        "\n",
        "axes[1].plot(train_acc, label='train')\n",
        "axes[1].plot(test_acc, label='test')\n",
        "axes[1].set_title('Accuracy VS epoch')\n",
        "axes[1].legend()"
      ],
      "metadata": {
        "colab": {
          "base_uri": "https://localhost:8080/",
          "height": 354
        },
        "id": "4gDJknzOglwg",
        "outputId": "6577e6da-2090-4969-df6d-1a4e8361ad53"
      },
      "execution_count": null,
      "outputs": [
        {
          "output_type": "stream",
          "name": "stdout",
          "text": [
            "> Best accuracy for train set : 87.0 !\n",
            "> Best accuracy for test set : 21.71 !\n",
            "\n"
          ]
        },
        {
          "output_type": "execute_result",
          "data": {
            "text/plain": [
              "<matplotlib.legend.Legend at 0x7f15b8a82f10>"
            ]
          },
          "metadata": {},
          "execution_count": 13
        },
        {
          "output_type": "display_data",
          "data": {
            "text/plain": [
              "<Figure size 720x288 with 2 Axes>"
            ],
            "image/png": "[encoded data removed]"
          },
          "metadata": {
            "needs_background": "light"
          }
        }
      ]
    },
    {
      "cell_type": "markdown",
      "source": [
        "<u>**Question 3 - Results**</u>\n",
        "\n",
        "Here are the results with my implementation :\n",
        "\n",
        "| Model | Number of  epochs  | Train accuracy | Test accuracy |\n",
        "|------|------|------|------|\n",
        "|   ResNet18 from scratch  | 10 | 87.0 | 21.71 |\n",
        "\n",
        "The Accuracy on Full Data is **93.02**% ! \n",
        "\n",
        "> Source of Resnet paper : https://arxiv.org/abs/1512.03385\n",
        "\n",
        "> Source of github implementation : https://github.com/kuangliu/pytorch-cifar\n",
        "\n",
        "It can be seen that the accuracy obtained from the train set of 100 samples and the ResNet-18 trained from scratch is much lower than that obtained with the whole train set (21.71% vs 93.02%), which is consistent with the difference in size of the train sets used.\n",
        "\n",
        "This corresponds to the expected results, as mentioned by the subject, and shows an overfitting phenomenon on the training dataset."
      ],
      "metadata": {
        "id": "qt44iZEej6tI"
      }
    },
    {
      "cell_type": "markdown",
      "metadata": {
        "id": "-C3mHqCk_2hj"
      },
      "source": [
        "# Transfer learning"
      ]
    },
    {
      "cell_type": "markdown",
      "metadata": {
        "id": "8Tn9pW14_2hj"
      },
      "source": [
        "We propose to use pre-trained models on a classification and generative task, in order to improve the results of our setting."
      ]
    },
    {
      "cell_type": "markdown",
      "metadata": {
        "id": "z8g_3ZDi_2hj"
      },
      "source": [
        "## ImageNet features"
      ]
    },
    {
      "cell_type": "markdown",
      "metadata": {
        "id": "PfYEhdFb_2hj"
      },
      "source": [
        "Now, we will use some pre-trained models on ImageNet and see how well they compare on CIFAR. A list is available on : https://pytorch.org/vision/stable/models.html.\n",
        "\n",
        "__Question 4 (3 points):__ Pick a model from the list above, adapt it for CIFAR10 and retrain its final layer (or a block of layers, depending on the resources to which you have access to). Report its accuracy."
      ]
    },
    {
      "cell_type": "markdown",
      "source": [
        "<u>**Question 4 - Strategy**</u>\n",
        "\n",
        "Following on from question 1, I have chosen to use a ResNet pretrain and add 2 layers : a linear layer with a ReLU as activation function followed by a linear layer for classification. The parameters of the backbone are frozen, the parameters of linear layers are not.\n",
        "\n",
        "I tried with 2 backbones : ResNet18, ResNet34. ResNet34 has a more complex architecture than ResNet18, so the results are expected to be more satisfactory with ResNet34. However, care should be taken as this is not always the case, depending on the data and training conditions.\n",
        "\n",
        "About the data, as ResNet are pretrained on ImageNet, I re-loaded CIFAR10 datasets and performed same transformation (normalization, reshape) as ImageNet dataset to fully benefit from the backbones."
      ],
      "metadata": {
        "id": "CwmouNAEpGyT"
      }
    },
    {
      "cell_type": "markdown",
      "source": [
        "The first step is to implement the ResNetTransfer model, which takes a pretrained resnet as a backbone and adds linear output layers for classification."
      ],
      "metadata": {
        "id": "anI_5qFl5K8X"
      }
    },
    {
      "cell_type": "code",
      "execution_count": null,
      "metadata": {
        "collapsed": true,
        "id": "i_lh4xje_2hk"
      },
      "outputs": [],
      "source": [
        "#@title Model ResNetTransfert\n",
        "from torchvision.models import resnet18, resnet34\n",
        "\n",
        "class ResNetTransfert(nn.Module):\n",
        "  \"\"\"\n",
        "  Model which uses ResNet followed by linear layers\n",
        "  \"\"\"\n",
        "  def __init__(self, version=18, backbone_freeze=True):\n",
        "    '''\n",
        "    Initializes the model\n",
        "    Input:\n",
        "      version(str): version of the Resnet (50, 152...)\n",
        "    '''\n",
        "    super(ResNetTransfert, self).__init__()\n",
        "\n",
        "    # load pretrained resnet\n",
        "    if(version==18):\n",
        "      resnet = resnet18(pretrained=True)\n",
        "    elif(version==34):\n",
        "      resnet = resnet34(pretrained=True)\n",
        "  \n",
        "    # remove last layers\n",
        "    wanted_layers = list(resnet.children())[:-1]\n",
        "    self.resnet = nn.Sequential(*wanted_layers)\n",
        "    # freeze backbone parameters if needed\n",
        "    if(backbone_freeze):\n",
        "      for param in self.resnet.parameters():\n",
        "        param.requires_grad = False\n",
        "    \n",
        "    # linear layer for classification\n",
        "    self.linear1 = nn.Linear(resnet.fc.in_features, 100)\n",
        "    self.linear2 = nn.Linear(100, 10)\n",
        "    \n",
        "  def forward(self, x):\n",
        "    '''\n",
        "    Forward propagation of the Net for a given x.\n",
        "    '''\n",
        "    # First step : Resnet\n",
        "    output = self.resnet(x)\n",
        "    output = output.view(output.size(0), -1)\n",
        "\n",
        "    output = F.relu(self.linear1(output))\n",
        "    output = self.linear2(output)\n",
        "\n",
        "    return output"
      ]
    },
    {
      "cell_type": "code",
      "source": [
        "#@title load CIFAR10 data with same context of ResNet18 pretraining on ImageNet\n",
        "\n",
        "# transform compose for ResNet\n",
        "mean_ImageNet, std_ImageNet, shape_ImageNet = [0.485, 0.456, 0.406], [0.229, 0.224, 0.225], 224\n",
        "transform_ImageNet = transforms.Compose([transforms.ToTensor(), \n",
        "                                        transforms.Normalize(mean=mean_ImageNet, std=std_ImageNet),\n",
        "                                        transforms.Resize(shape_ImageNet)])\n",
        "\n",
        "## LOAD TRAIN\n",
        "# load entire train set\n",
        "trainset_full = torchvision.datasets.CIFAR10(root='./data', train=True,\n",
        "                                        download=True, transform=transform_ImageNet)\n",
        "# subset first 100 samples\n",
        "trainset = torch.utils.data.Subset(trainset_full, list(range(100)))\n",
        "\n",
        "# load dataloader\n",
        "trainloader = torch.utils.data.DataLoader(trainset, batch_size=batch_size,\n",
        "                                          shuffle=True)\n",
        "\n",
        "## LOAD TEST\n",
        "testset = torchvision.datasets.CIFAR10(root='./data', train=False,\n",
        "                                        download=True, transform=transform_ImageNet)\n",
        "testloader = torch.utils.data.DataLoader(testset, batch_size=batch_size,\n",
        "                                          shuffle=True)"
      ],
      "metadata": {
        "colab": {
          "base_uri": "https://localhost:8080/"
        },
        "id": "ztK6nlwXvfjq",
        "outputId": "844f7929-c0ea-4a50-c960-922833a63550"
      },
      "execution_count": null,
      "outputs": [
        {
          "output_type": "stream",
          "name": "stdout",
          "text": [
            "Files already downloaded and verified\n",
            "Files already downloaded and verified\n"
          ]
        }
      ]
    },
    {
      "cell_type": "code",
      "source": [
        "#@title set up model, optimizer, loss, scheduler\n",
        "\n",
        "device = 'cuda' if torch.cuda.is_available() else 'cpu'\n",
        "\n",
        "# initialize the model\n",
        "net = ResNetTransfert(version=18)\n",
        "net = net.to(device)\n",
        "\n",
        "# criterion, optimizer\n",
        "lr = 0.01\n",
        "criterion = nn.CrossEntropyLoss()\n",
        "optimizer = optim.SGD(net.parameters(), lr=lr, momentum=0.7)\n",
        "scheduler = torch.optim.lr_scheduler.CosineAnnealingLR(optimizer, T_max=200)\n",
        "# scheduler = torch.optim.lr_scheduler.StepLR(optimizer, step_size=20, gamma=0.1)"
      ],
      "metadata": {
        "id": "7edQrfUjqk9d"
      },
      "execution_count": null,
      "outputs": []
    },
    {
      "cell_type": "code",
      "source": [
        "#@title iterate for training\n",
        "train_losses, test_losses, train_acc, test_acc = [], [], [], []\n",
        "\n",
        "for epoch in range(0, 10):\n",
        "    train_loss_epoch, train_acc_epoch = train(epoch)\n",
        "    test_loss_epoch, test_acc_epoch = test(epoch)\n",
        "\n",
        "    train_losses.append(train_loss_epoch)\n",
        "    train_acc.append(train_acc_epoch)\n",
        "    test_losses.append(test_loss_epoch)\n",
        "    test_acc.append(test_acc_epoch)\n",
        "\n",
        "    scheduler.step()"
      ],
      "metadata": {
        "colab": {
          "base_uri": "https://localhost:8080/"
        },
        "id": "sfLjZhDqti38",
        "outputId": "0d351ece-af5f-45a0-9636-02b1745406d2"
      },
      "execution_count": null,
      "outputs": [
        {
          "output_type": "stream",
          "name": "stdout",
          "text": [
            "\n",
            "Epoch: 0\n",
            "> TRAIN SET : Loss: 2.307 | Acc: 11.00% !\n",
            "> TEST SET : Loss: 2.297 | Acc: 14.71% !\n",
            "\n",
            "Epoch: 1\n",
            "> TRAIN SET : Loss: 2.140 | Acc: 28.00% !\n",
            "> TEST SET : Loss: 2.226 | Acc: 16.17% !\n",
            "\n",
            "Epoch: 2\n",
            "> TRAIN SET : Loss: 1.974 | Acc: 31.00% !\n",
            "> TEST SET : Loss: 2.153 | Acc: 25.87% !\n",
            "\n",
            "Epoch: 3\n",
            "> TRAIN SET : Loss: 1.829 | Acc: 43.00% !\n",
            "> TEST SET : Loss: 2.038 | Acc: 21.64% !\n",
            "\n",
            "Epoch: 4\n",
            "> TRAIN SET : Loss: 1.614 | Acc: 53.00% !\n",
            "> TEST SET : Loss: 1.847 | Acc: 35.36% !\n",
            "\n",
            "Epoch: 5\n",
            "> TRAIN SET : Loss: 1.417 | Acc: 61.00% !\n",
            "> TEST SET : Loss: 1.730 | Acc: 40.0% !\n",
            "\n",
            "Epoch: 6\n",
            "> TRAIN SET : Loss: 1.181 | Acc: 64.00% !\n",
            "> TEST SET : Loss: 1.685 | Acc: 39.65% !\n",
            "\n",
            "Epoch: 7\n",
            "> TRAIN SET : Loss: 1.229 | Acc: 63.00% !\n",
            "> TEST SET : Loss: 1.564 | Acc: 44.78% !\n",
            "\n",
            "Epoch: 8\n",
            "> TRAIN SET : Loss: 0.912 | Acc: 80.00% !\n",
            "> TEST SET : Loss: 1.477 | Acc: 47.29% !\n",
            "\n",
            "Epoch: 9\n",
            "> TRAIN SET : Loss: 0.799 | Acc: 85.00% !\n",
            "> TEST SET : Loss: 1.470 | Acc: 46.09% !\n"
          ]
        }
      ]
    },
    {
      "cell_type": "code",
      "source": [
        "#@title Display interesting results\n",
        "import matplotlib.pyplot as plt\n",
        "\n",
        "# train, test accuracy\n",
        "print(f'> Best accuracy for train set : {np.max(train_acc)} !')\n",
        "print(f'> Best accuracy for test set : {np.max(test_acc)} !\\n')\n",
        "\n",
        "# display losses, accuracies VS epochs\n",
        "f, axes = plt.subplots(1, 2, figsize=(10, 4))\n",
        "axes[0].plot(train_losses, label='train')\n",
        "axes[0].plot(test_losses, label='test')\n",
        "axes[0].set_title('Losses VS epoch')\n",
        "axes[0].legend()\n",
        "\n",
        "axes[1].plot(train_acc, label='train')\n",
        "axes[1].plot(test_acc, label='test')\n",
        "axes[1].set_title('Accuracy VS epoch')\n",
        "axes[1].legend()"
      ],
      "metadata": {
        "colab": {
          "base_uri": "https://localhost:8080/",
          "height": 354
        },
        "id": "QZY1JF-QusS3",
        "outputId": "d7a63fed-62b5-4b06-9327-9eaeaba8b1ce"
      },
      "execution_count": null,
      "outputs": [
        {
          "output_type": "stream",
          "name": "stdout",
          "text": [
            "> Best accuracy for train set : 85.0 !\n",
            "> Best accuracy for test set : 47.29 !\n",
            "\n"
          ]
        },
        {
          "output_type": "execute_result",
          "data": {
            "text/plain": [
              "<matplotlib.legend.Legend at 0x7fe6b4bdfa30>"
            ]
          },
          "metadata": {},
          "execution_count": 23
        },
        {
          "output_type": "display_data",
          "data": {
            "text/plain": [
              "<Figure size 720x288 with 2 Axes>"
            ],
            "image/png": "[encoded data removed]"
          },
          "metadata": {
            "needs_background": "light"
          }
        }
      ]
    },
    {
      "cell_type": "markdown",
      "source": [
        "<u>**Question 4 - Results**</u>\n",
        "\n",
        "Here are the results with my implementation :\n",
        "\n",
        "| Model | Number of  epochs  | Train accuracy | Test accuracy |\n",
        "|------|------|------|------|\n",
        "|   ResNet18 TransfertLearning  | 10 | 85.0 | 47.29 |\n",
        "|   ResNet34 TransfertLearning  | 10 | 82.0 | 50.81 |\n",
        "\n",
        "Thanks to Transfer Learning, we obtain an accuracy of +30.14% with ResNet18 and +33.96% with ResNet34 compared to the previous result. This result is consistent because we benefit from the pre-trained weights on the ImageNet dataset. \n",
        "\n",
        "In terms of computation time, ResNet34 is longer than ResNet18 because there are more parameters.\n",
        "\n",
        "A way to improve these results would be to not freeze the ResNet parameters. Indeed it could be interesting to make parameters of the backbone learnable and to use a lower learning rate for the backbone than for the linear layer, to benefit from the pretraining step."
      ],
      "metadata": {
        "id": "YlLzE_G0yAy9"
      }
    },
    {
      "cell_type": "markdown",
      "metadata": {
        "id": "SvkuMzLs_2hk"
      },
      "source": [
        "# Incorporating *a priori*\n",
        "Geometrical *a priori* are appealing for image classification tasks. For now, we only consider linear transformations $\\mathcal{T}$ of the inputs $x:\\mathbb{S}^2\\rightarrow\\mathbb{R}$ where $\\mathbb{S}$ is the support of an image, meaning that :\n",
        "\n",
        "$$\\forall u\\in\\mathbb{S}^2,\\mathcal{T}(\\lambda x+\\mu y)(u)=\\lambda \\mathcal{T}(x)(u)+\\mu \\mathcal{T}(y)(u)\\,.$$\n",
        "\n",
        "For instance if an image had an infinite support, a translation $\\mathcal{T}_a$ by $a$ would lead to :\n",
        "\n",
        "$$\\forall u, \\mathcal{T}_a(x)(u)=x(u-a)\\,.$$\n",
        "\n",
        "Otherwise, one has to handle several boundary effects.\n",
        "\n",
        "__Question 5 (1.5 points) :__ Explain the issues when dealing with translations, rotations, scaling effects, color changes on $32\\times32$ images. Propose several ideas to tackle them."
      ]
    },
    {
      "cell_type": "markdown",
      "source": [
        "<u>**Question 5 - Answer**</u>\n",
        "\n",
        "**For translation,** some pixels of the image may disappear from the frame and pixels without information appear. This is a problem because very important elements of the image may disappear.\n",
        "\n",
        "**For rotation,** the problem is similar: pixels close to the corners of the original image may disappear from the image. If this is not done properly, distortions can appear, and the information carried by the image is deteriorated. **To address this problem,** a solution may be to use interpolation to reconstruct the missing pixels.\n",
        "\n",
        "**For scaling,** if the change in scale is too abrupt, image quality can be lost, especially for small images. Also, some important elements may disappear if the scaling is done on a small part of the image. **To address this problem,** one solution may be to not apply too much scaling, in order to retain as much information as possible from the initial image. Up-sampling can also be used, if it results in an image of sufficient quality.\n",
        "\n",
        "**For colour changes,** if the changes in pixel intensities are too rough: it can be difficult even for the naked eye to recognise an image because the resulting intensities are too strong, or too weak. In addition, if this is not done properly, some shapes may disappear because objects could be confused after colour modification. **To address this problem,** one solution is to apply normalization, and to choose colour changes and insensitivities adapted to the dataset by looking, parameter by parameter, at the influence of the transformation.\n",
        "\n",
        "The changes can be very significant, especially for such small images (32x32). Up-sampling before pre-processing to increase the size may be an avenue to explore if the quality obtained remains satisfactory."
      ],
      "metadata": {
        "id": "wm3-IUD-3qRH"
      }
    },
    {
      "cell_type": "markdown",
      "metadata": {
        "id": "ds6e6teG_2hk"
      },
      "source": [
        "## Data augmentations"
      ]
    },
    {
      "cell_type": "markdown",
      "metadata": {
        "id": "-Ek5wlOo_2hk"
      },
      "source": [
        "__Question 6 (3 points):__ Propose a set of geometric transformation beyond translation, and incorporate them in your training pipeline. Train the model of the __Question 3__ with them and report the accuracies."
      ]
    },
    {
      "cell_type": "markdown",
      "source": [
        "<u>**Question 6 - Strategy**</u>\n",
        "\n",
        "The objective is to apply transformations to the images in the train set, in order to have more images. For this, the transformations retained will be the following: rotation, flip, modification of colours/intensities/Grayscale, addition of blur, crop. \n",
        "\n",
        "These transformations will be carried out using the **PyTorch** library. \n",
        "\n",
        "I was inspired by the transformations from the paper (Bardes et al, 2022, https://arxiv.org/abs/2105.04906, https://github.com/facebookresearch/vicreg)\n",
        "\n",
        "2 models will be compared :\n",
        "\n",
        "**1 - Data Augmentation for model without pretraining :** I will first evaluate the impact of data augmentation on a ResNet18 model trained from scratch.\n",
        "\n",
        "**2 - Data Augmentation for model with pretraining :** The impact of data augmentation on a model using a pre-trained ResNet18 backbone will then be evaluated."
      ],
      "metadata": {
        "id": "YKz9U0J07gYW"
      }
    },
    {
      "cell_type": "markdown",
      "source": [
        "## Data Augmentation for model without pretraining\n",
        "\n",
        "In a first step, I try a data augmentation method with a model that uses a ResNet18 backbone without pretraining."
      ],
      "metadata": {
        "id": "Y2pGs_jbGr1s"
      }
    },
    {
      "cell_type": "code",
      "source": [
        "#@title transform compose\n",
        "# define transform for train and test\n",
        "transform_train = transforms.Compose([\n",
        "                 transforms.RandomHorizontalFlip(),\n",
        "                 # transforms.RandomCrop(size=[32,32], padding=3),\n",
        "                 transforms.GaussianBlur(kernel_size=(3,3)),\n",
        "                 transforms.ColorJitter(hue=.1),\n",
        "                 transforms.ToTensor(),\n",
        "                 transforms.Normalize((0.4914, 0.4822, 0.4465), (0.2023, 0.1994, 0.2010))\n",
        "                 ])\n",
        "\n",
        "transform_test = transforms.Compose([\n",
        "                 transforms.ToTensor(),\n",
        "                 transforms.Normalize((0.4914, 0.4822, 0.4465), (0.2023, 0.1994, 0.2010))\n",
        "                 ])"
      ],
      "metadata": {
        "id": "14cQazsFIYrY"
      },
      "execution_count": null,
      "outputs": []
    },
    {
      "cell_type": "code",
      "source": [
        "#@title load data\n",
        "\n",
        "## TRAIN\n",
        "trainset_full = torchvision.datasets.CIFAR10(root='./data', train=True,download=True, transform=transform_train)\n",
        "# reload subset first 100 samples\n",
        "trainset = torch.utils.data.Subset(trainset_full, list(range(100)))\n",
        "# load dataloader\n",
        "trainloader = torch.utils.data.DataLoader(trainset, batch_size=batch_size,shuffle=True)\n",
        "\n",
        "## TEST\n",
        "testset = torchvision.datasets.CIFAR10(root='./data', train=False,\n",
        "                                        download=True, transform=transform_test)\n",
        "testloader = torch.utils.data.DataLoader(testset, batch_size=batch_size,\n",
        "                                          shuffle=True)"
      ],
      "metadata": {
        "colab": {
          "base_uri": "https://localhost:8080/"
        },
        "id": "hhpPx5iSG2za",
        "outputId": "b98f7821-c9f4-4c45-faf1-5ad03ab1de25"
      },
      "execution_count": null,
      "outputs": [
        {
          "output_type": "stream",
          "name": "stdout",
          "text": [
            "Files already downloaded and verified\n",
            "Files already downloaded and verified\n"
          ]
        }
      ]
    },
    {
      "cell_type": "code",
      "source": [
        "#@title initialize the model, optimizer\n",
        "net = ResNet18()\n",
        "net = net.to(device)\n",
        "\n",
        "# criterion, optimizer\n",
        "lr = 0.01\n",
        "criterion = nn.CrossEntropyLoss()\n",
        "optimizer = optim.SGD(net.parameters(), lr=lr, momentum=0.8)\n",
        "scheduler = torch.optim.lr_scheduler.CosineAnnealingLR(optimizer, T_max=200)"
      ],
      "metadata": {
        "id": "EWJi9z5FGuUT"
      },
      "execution_count": null,
      "outputs": []
    },
    {
      "cell_type": "code",
      "source": [
        "#@title iterate for training\n",
        "train_losses, test_losses, train_acc, test_acc = [], [], [], []\n",
        "\n",
        "for epoch in range(0, 10):\n",
        "    train_loss_epoch, train_acc_epoch = train(epoch)\n",
        "    test_loss_epoch, test_acc_epoch = test(epoch)\n",
        "\n",
        "    train_losses.append(train_loss_epoch)\n",
        "    train_acc.append(train_acc_epoch)\n",
        "    test_losses.append(test_loss_epoch)\n",
        "    test_acc.append(test_acc_epoch)\n",
        "\n",
        "    scheduler.step()"
      ],
      "metadata": {
        "colab": {
          "base_uri": "https://localhost:8080/"
        },
        "id": "Ur7vZqWVHduE",
        "outputId": "de6d2e8d-deeb-431e-ae85-11658372ceb6"
      },
      "execution_count": null,
      "outputs": [
        {
          "output_type": "stream",
          "name": "stdout",
          "text": [
            "\n",
            "Epoch: 0\n",
            "> TRAIN SET : Loss: 2.764 | Acc: 14.00% !\n",
            "> TEST SET : Loss: 2.349 | Acc: 9.97% !\n",
            "\n",
            "Epoch: 1\n",
            "> TRAIN SET : Loss: 3.027 | Acc: 13.00% !\n",
            "> TEST SET : Loss: 3.974 | Acc: 11.25% !\n",
            "\n",
            "Epoch: 2\n",
            "> TRAIN SET : Loss: 2.641 | Acc: 20.00% !\n",
            "> TEST SET : Loss: 7.860 | Acc: 14.18% !\n",
            "\n",
            "Epoch: 3\n",
            "> TRAIN SET : Loss: 2.457 | Acc: 19.00% !\n",
            "> TEST SET : Loss: 4.871 | Acc: 17.81% !\n",
            "\n",
            "Epoch: 4\n",
            "> TRAIN SET : Loss: 2.215 | Acc: 22.00% !\n",
            "> TEST SET : Loss: 6.013 | Acc: 18.08% !\n",
            "\n",
            "Epoch: 5\n",
            "> TRAIN SET : Loss: 2.343 | Acc: 24.00% !\n",
            "> TEST SET : Loss: 3.574 | Acc: 17.56% !\n",
            "\n",
            "Epoch: 6\n",
            "> TRAIN SET : Loss: 1.883 | Acc: 42.00% !\n",
            "> TEST SET : Loss: 2.851 | Acc: 21.21% !\n",
            "\n",
            "Epoch: 7\n",
            "> TRAIN SET : Loss: 1.801 | Acc: 37.00% !\n",
            "> TEST SET : Loss: 2.805 | Acc: 23.69% !\n",
            "\n",
            "Epoch: 8\n",
            "> TRAIN SET : Loss: 1.853 | Acc: 33.00% !\n",
            "> TEST SET : Loss: 2.916 | Acc: 20.56% !\n",
            "\n",
            "Epoch: 9\n",
            "> TRAIN SET : Loss: 1.564 | Acc: 48.00% !\n",
            "> TEST SET : Loss: 2.856 | Acc: 23.52% !\n"
          ]
        }
      ]
    },
    {
      "cell_type": "code",
      "source": [
        "print(f'> Best accuracy for train set : {np.max(train_acc)} !')\n",
        "print(f'> Best accuracy for test set : {np.max(test_acc)} !\\n')"
      ],
      "metadata": {
        "colab": {
          "base_uri": "https://localhost:8080/"
        },
        "id": "w0ZxY-TPHuYO",
        "outputId": "3efd13a2-9acd-4bfc-cbb6-a8d480ea624c"
      },
      "execution_count": null,
      "outputs": [
        {
          "output_type": "stream",
          "name": "stdout",
          "text": [
            "> Best accuracy for train set : 48.0 !\n",
            "> Best accuracy for test set : 23.69 !\n",
            "\n"
          ]
        }
      ]
    },
    {
      "cell_type": "markdown",
      "source": [
        "From now on, we will study the impact of data augmentation on 2 pretrained models: ResNet18 and ResNet34. If you want to run the code again, please make sure that you choose the desired backbone (RN18 or RN34) at model initialization."
      ],
      "metadata": {
        "id": "QAaniE4-b2FJ"
      }
    },
    {
      "cell_type": "markdown",
      "source": [
        "## Data Augmentation for model with pretraining "
      ],
      "metadata": {
        "id": "1JIQ86eIGoyt"
      }
    },
    {
      "cell_type": "code",
      "execution_count": null,
      "metadata": {
        "collapsed": true,
        "id": "FqCjrXGk_2hk"
      },
      "outputs": [],
      "source": [
        "#@title transform compose\n",
        "from torchvision.transforms import InterpolationMode\n",
        "mean_ImageNet, std_ImageNet, shape_ImageNet = [0.485, 0.456, 0.406], [0.229, 0.224, 0.225], 224\n",
        "\n",
        "transform_train = transforms.Compose([\n",
        "        transforms.RandomCrop(32, padding=3),\n",
        "        transforms.RandomHorizontalFlip(p=0.5),\n",
        "        #transforms.RandomApply([transforms.ColorJitter(brightness=0.01, contrast=0.01, saturation=0.01, hue=0.1)], p=0.4),\n",
        "        transforms.ColorJitter(hue=.05),\n",
        "        #transforms.RandomGrayscale(p=0.1),\n",
        "        transforms.GaussianBlur(kernel_size=(3, 3)),\n",
        "        transforms.ToTensor(),\n",
        "        transforms.Normalize(mean=mean_ImageNet, std=std_ImageNet),\n",
        "        transforms.Resize(shape_ImageNet)])\n",
        "\n",
        "transform_test = transforms.Compose([transforms.ToTensor(), \n",
        "                                      transforms.Normalize(mean=mean_ImageNet, std=std_ImageNet),\n",
        "                                      transforms.Resize(shape_ImageNet)])"
      ]
    },
    {
      "cell_type": "code",
      "source": [
        "# load data\n",
        "## TRAIN\n",
        "trainset_full = torchvision.datasets.CIFAR10(root='./data', train=True,\n",
        "                                        download=True, transform=transform_train)\n",
        "trainset = torch.utils.data.Subset(trainset_full, list(range(100)))\n",
        "trainloader = torch.utils.data.DataLoader(trainset, batch_size=batch_size, shuffle=True)\n",
        "\n",
        "## TEST\n",
        "testset = torchvision.datasets.CIFAR10(root='./data', train=False,\n",
        "                                        download=True, transform=transform_test)\n",
        "testloader = torch.utils.data.DataLoader(testset, batch_size=batch_size,\n",
        "                                          shuffle=True)"
      ],
      "metadata": {
        "colab": {
          "base_uri": "https://localhost:8080/"
        },
        "id": "ILVsbAtk_d34",
        "outputId": "41daf2f6-f9d7-4a0a-b7fb-6d015187cf6e"
      },
      "execution_count": null,
      "outputs": [
        {
          "output_type": "stream",
          "name": "stdout",
          "text": [
            "Files already downloaded and verified\n",
            "Files already downloaded and verified\n"
          ]
        }
      ]
    },
    {
      "cell_type": "code",
      "source": [
        "#@title set up model, optimizer, loss, scheduler\n",
        "\n",
        "device = 'cuda' if torch.cuda.is_available() else 'cpu'\n",
        "\n",
        "# initialize the model\n",
        "net = ResNetTransfert(version=34)\n",
        "net = net.to(device)\n",
        "\n",
        "# criterion, optimizer\n",
        "lr = 0.01\n",
        "criterion = nn.CrossEntropyLoss()\n",
        "optimizer = optim.SGD(net.parameters(), lr=lr, momentum=0.7)\n",
        "scheduler = torch.optim.lr_scheduler.CosineAnnealingLR(optimizer, T_max=200)\n",
        "# scheduler = torch.optim.lr_scheduler.StepLR(optimizer, step_size=20, gamma=0.1)"
      ],
      "metadata": {
        "id": "jV8DzV47Df6J"
      },
      "execution_count": null,
      "outputs": []
    },
    {
      "cell_type": "code",
      "source": [
        "#@title iterate for training\n",
        "train_losses, test_losses, train_acc, test_acc = [], [], [], []\n",
        "\n",
        "for epoch in range(0, 20):\n",
        "    train_loss_epoch, train_acc_epoch = train(epoch)\n",
        "    test_loss_epoch, test_acc_epoch = test(epoch)\n",
        "\n",
        "    train_losses.append(train_loss_epoch)\n",
        "    train_acc.append(train_acc_epoch)\n",
        "    test_losses.append(test_loss_epoch)\n",
        "    test_acc.append(test_acc_epoch)\n",
        "\n",
        "    scheduler.step()"
      ],
      "metadata": {
        "colab": {
          "base_uri": "https://localhost:8080/"
        },
        "id": "3xLU_F7ZDksK",
        "outputId": "6b30ae8e-3ab8-42f1-b5c2-ee691c5b558d"
      },
      "execution_count": null,
      "outputs": [
        {
          "output_type": "stream",
          "name": "stdout",
          "text": [
            "\n",
            "Epoch: 0\n",
            "> TRAIN SET : Loss: 2.302 | Acc: 13.00% !\n",
            "> TEST SET : Loss: 2.256 | Acc: 21.25% !\n",
            "\n",
            "Epoch: 1\n",
            "> TRAIN SET : Loss: 2.126 | Acc: 25.00% !\n",
            "> TEST SET : Loss: 2.160 | Acc: 27.63% !\n",
            "\n",
            "Epoch: 2\n",
            "> TRAIN SET : Loss: 2.040 | Acc: 27.00% !\n",
            "> TEST SET : Loss: 2.069 | Acc: 30.83% !\n",
            "\n",
            "Epoch: 3\n",
            "> TRAIN SET : Loss: 1.956 | Acc: 31.00% !\n",
            "> TEST SET : Loss: 2.048 | Acc: 27.16% !\n",
            "\n",
            "Epoch: 4\n",
            "> TRAIN SET : Loss: 1.813 | Acc: 42.00% !\n",
            "> TEST SET : Loss: 1.923 | Acc: 35.03% !\n",
            "\n",
            "Epoch: 5\n",
            "> TRAIN SET : Loss: 1.657 | Acc: 43.00% !\n",
            "> TEST SET : Loss: 1.887 | Acc: 31.28% !\n",
            "\n",
            "Epoch: 6\n",
            "> TRAIN SET : Loss: 1.522 | Acc: 47.00% !\n",
            "> TEST SET : Loss: 1.721 | Acc: 40.25% !\n",
            "\n",
            "Epoch: 7\n",
            "> TRAIN SET : Loss: 1.414 | Acc: 61.00% !\n",
            "> TEST SET : Loss: 1.698 | Acc: 42.47% !\n",
            "\n",
            "Epoch: 8\n",
            "> TRAIN SET : Loss: 1.245 | Acc: 60.00% !\n",
            "> TEST SET : Loss: 1.666 | Acc: 37.94% !\n",
            "\n",
            "Epoch: 9\n",
            "> TRAIN SET : Loss: 1.187 | Acc: 63.00% !\n",
            "> TEST SET : Loss: 1.558 | Acc: 43.35% !\n",
            "\n",
            "Epoch: 10\n",
            "> TRAIN SET : Loss: 1.132 | Acc: 66.00% !\n",
            "> TEST SET : Loss: 1.487 | Acc: 44.87% !\n",
            "\n",
            "Epoch: 11\n",
            "> TRAIN SET : Loss: 1.023 | Acc: 69.00% !\n",
            "> TEST SET : Loss: 1.488 | Acc: 46.92% !\n",
            "\n",
            "Epoch: 12\n",
            "> TRAIN SET : Loss: 0.904 | Acc: 75.00% !\n",
            "> TEST SET : Loss: 1.570 | Acc: 42.82% !\n",
            "\n",
            "Epoch: 13\n",
            "> TRAIN SET : Loss: 0.929 | Acc: 69.00% !\n",
            "> TEST SET : Loss: 1.379 | Acc: 51.03% !\n",
            "\n",
            "Epoch: 14\n",
            "> TRAIN SET : Loss: 0.785 | Acc: 81.00% !\n",
            "> TEST SET : Loss: 1.406 | Acc: 48.27% !\n",
            "\n",
            "Epoch: 15\n",
            "> TRAIN SET : Loss: 0.717 | Acc: 79.00% !\n",
            "> TEST SET : Loss: 1.469 | Acc: 45.11% !\n",
            "\n",
            "Epoch: 16\n",
            "> TRAIN SET : Loss: 0.661 | Acc: 79.00% !\n",
            "> TEST SET : Loss: 1.276 | Acc: 53.82% !\n",
            "\n",
            "Epoch: 17\n",
            "> TRAIN SET : Loss: 0.610 | Acc: 84.00% !\n",
            "> TEST SET : Loss: 1.286 | Acc: 54.38% !\n",
            "\n",
            "Epoch: 18\n",
            "> TRAIN SET : Loss: 0.563 | Acc: 83.00% !\n",
            "> TEST SET : Loss: 1.321 | Acc: 52.94% !\n",
            "\n",
            "Epoch: 19\n",
            "> TRAIN SET : Loss: 0.588 | Acc: 84.00% !\n",
            "> TEST SET : Loss: 1.339 | Acc: 52.93% !\n"
          ]
        }
      ]
    },
    {
      "cell_type": "markdown",
      "source": [
        "<u>**Question 6 - Results**</u>\n",
        "\n",
        "| Model | Number of  epochs  | Train accuracy | Test accuracy |\n",
        "|------|------|------|------|\n",
        "|   ResNet18 from scratch + DataAug | 10 | 48.0 | 23.69 |\n",
        "|   ResNet18 TransfertLearning + DataAug | 20 | 70.0 | 52.71 |\n",
        "|   ResNet34 TransfertLearning + DataAug | 20 | 84.0 | 54.38 |\n",
        "\n",
        "**Observations for the model without pretraining** : We see an improvement in accuracy on the test set of +1.98% compared to the baseline results, without data augmentation (23.69% vs 21.71% on 10 epochs). This performance improvement is not huge, but it shows that data augmentation has a positive impact on the performance of the model in this case.\n",
        "\n",
        "**Observations for the model with pretraining** : The best results on the test set obtained are 52.71% with pretrained ResNet18 and 54.38% with pretrained ResNet34. Compared to the previous results, we observe better results than without data augmentation. However, it is important to note that the model had to be trained on 20 epochs instead of 10, in order to perform better than without data augmentation: this increases the training time. Furthermore, to obtain these results I had to play with the different data augmentation parameters of the following transformations: ColorJitter, GaussianBlur & RandomCrop. Indeed, when the transformations are too abrupt, the model performs much worse than without data augmentation. I had to vary parameters (such as hue, scale to crop, contrast, saturation) one by one, and use \"softer\" transformations to get better results than before."
      ],
      "metadata": {
        "id": "n3GdkFkV8DZL"
      }
    },
    {
      "cell_type": "markdown",
      "metadata": {
        "id": "HRUA5I8N_2hk"
      },
      "source": [
        "# Conclusions"
      ]
    },
    {
      "cell_type": "markdown",
      "metadata": {
        "id": "RmyiWAPJ_2hl"
      },
      "source": [
        "__Question 7 (5 points) :__ Write a short report explaining the pros and the cons of each method that you implemented. 25% of the grade of this project will correspond to this question, thus, it should be done carefully. In particular, please add a plot that will summarize all your numerical results."
      ]
    },
    {
      "cell_type": "markdown",
      "metadata": {
        "id": "zJ-v4Nev_2hl"
      },
      "source": [
        "**Answer Question 7** : \n",
        "\n",
        "- **Baseline** : The first model implemented is a ResNet. The advantage of this model, characterised by the presence of residual connections, which are connections of the layers associated with different depth levels, is that it has strong performance for different vision tasks and avoids the vanishing gradient problem. However, this model consists of a very large number of parameters (e.g. ResNet18 has about 11 million parameters), which makes it very time consuming to train. The best accuracy obtained is 21.71%.\n",
        "\n",
        "- **Transfert Learning** : One advantage of using this method is that it allows the parameters of a pre-trained model to be used. For ResNet, the backbones were pre-trained on the ImageNet dataset. It is then assumed that the model has already learned to extract relevant visual information in memory, which allows it to be used for fine-tuning on a different task to obtain better results. The best accuracy obtained is 47.29% for ResNet18 and 50.81% for ResNet34.\n",
        "\n",
        "- **Data Augmentation** : The advantage of this method is that it increases the size of the training dataset by adding transformed images to the original dataset. This allows the model to see a larger panel of images during training, in order to improve its performance and make it more general. For this tutorial, the relevant transformations were: flip, crop, intensity modification and normalisation. It is important to note that I had to take the time to vary the parameters of each type of transformation, because when they are badly chosen, the performance of the model is not improved, or even worse than without data augmentation. Regarding the negative points of this method, one must be very careful with the choice of transforms, as this can lead to images without interesting information and reduce the performance of the model. In addition, it increases the training time. The best accuracy obtained is 52.71% for ResNet18 and 54.38% for ResNet34.\n",
        "\n",
        "- **Weak Supervision** : Finally, the Curriculum Labeling method was used to try to increase the performance of the model by using unlabelled data. An advantage of this method is the fact that it can use unlabelled data, potentially training the model on a larger dataset. In addition, the method used is intuitively easy to understand and implement. However, the training times become very long with the number of iterations. Moreover, the method does not always lead to better results. At the beginning of the training, if the model performs poorly and adds data with wrong pseudo-labels, this noise will be present in the next iterations and its performance will become worse and worse. For this method, the best accuracy obtained is 73.48% (early stopping). However, it is difficult to know if the model is really able to generalise well on new data, as the accuracy is way better on the test set than on the train set, and it is trained with pseudo-labels, thus potentially data with the wrong label.\n",
        "\n",
        "Finally, here is a summary of the results:\n",
        "\n",
        "| Model | Number of  epochs  | Train accuracy | Test accuracy | Improvement accuracy |\n",
        "|------|------|------|------|------|\n",
        "|   ResNet18 from scratch | 10 | 87.0 | 21.71 | - |\n",
        "|   ResNet18 from scratch + DataAug | 10 | 48.0 | 23.69 | +1.98% |\n",
        "|   ResNet18 TransfertLearning | 20 | 85.0 | 47.29 | +25.58% |\n",
        "|   ResNet18 TransfertLearning | 20 | 82.0 | 50.81 | +29.10% |\n",
        "|   ResNet18 TransfertLearning + DataAug | 20 | 70.0 | 52.71 | +31.00% |\n",
        "|   ResNet34 TransfertLearning + DataAug | 20 | 84.0 | 54.38 | +32.67% |"
      ]
    },
    {
      "cell_type": "markdown",
      "metadata": {
        "id": "sAGp7ddN_2hl"
      },
      "source": [
        "# Weak supervision"
      ]
    },
    {
      "cell_type": "markdown",
      "metadata": {
        "id": "wHQRLbC3_2hl"
      },
      "source": [
        "__Bonus \\[open\\] question (up to 3 points) :__ Pick a weakly supervised method that will potentially use $\\mathcal{X}\\cup\\mathcal{X}_{\\text{train}}$ to train a representation (a subset of $\\mathcal{X}$ is also fine). Evaluate it and report the accuracies. You should be careful in the choice of your method, in order to avoid heavy computational effort."
      ]
    },
    {
      "cell_type": "markdown",
      "metadata": {
        "id": "rbjhfIvN_2hl"
      },
      "source": [
        "**Answer Weak supervision** \n",
        "\n",
        "The objective is to develop a weakly supervised method that makes use of both data with $\\mathcal{X}_{\\text{train}}$ labels, and data without $\\mathcal{X}$ labels. I chose to explore the **curriculum labeling** method presented by the paper https://arxiv.org/abs/2001.06001 .\n",
        "\n",
        "I chose this method because it is very intuitive and relatively simple to implement.\n",
        "\n",
        "The method consists of training a model on the train set, and testing this model on the unlabel set. Then update the train set by adding the samples from the unlabel set for which the confidence on the prediction is  high. That is, the unlabel samples for which the prediction of the model is higher than an arbitrarily chosen threshold. I tried different threshold : 0.5, 0.7, 0.8, 0.85, 0.9 and 0.9 is the one which gives the best results. The labels of these samples added to the train set correspond to the predictions of the model = pseudo labels, which is why it is a case of weak supervision. Finally, the model is trained once again on the updated train set. This is repeated until a given number of iterations is reached, or when the updated train set reaches a given size. For this TP, I decided to train the model until a good accuracy is reached on the test set.\n",
        "\n",
        "Below a diagram of the method from the paper :"
      ]
    },
    {
      "cell_type": "code",
      "source": [
        "#@title\n",
        "# please check that diagramm_paper.JPG is in your working directory\n",
        "import matplotlib.image as mpimg\n",
        "from matplotlib import pyplot as plt\n",
        "\n",
        "plt.figure(figsize = (20, 5))\n",
        "img = mpimg.imread('diagram_paper.JPG')\n",
        "imgplot = plt.imshow(img)\n",
        "plt.axis('off')\n",
        "plt.show()"
      ],
      "metadata": {
        "colab": {
          "base_uri": "https://localhost:8080/",
          "height": 303
        },
        "cellView": "form",
        "id": "9ZaEAiUlt9MJ",
        "outputId": "b994587d-cf60-4847-97c9-33fda1a08438"
      },
      "execution_count": null,
      "outputs": [
        {
          "output_type": "display_data",
          "data": {
            "text/plain": [
              "<Figure size 1440x360 with 1 Axes>"
            ],
            "image/png": "[encoded data removed]"
          },
          "metadata": {
            "needs_background": "light"
          }
        }
      ]
    },
    {
      "cell_type": "markdown",
      "source": [
        "## Load data"
      ],
      "metadata": {
        "id": "gjL6iYRB9uQT"
      }
    },
    {
      "cell_type": "code",
      "source": [
        "#@title initialize datasets and dataloader for weak supervision\n",
        "\n",
        "# transform compose for ResNet\n",
        "mean_ImageNet, std_ImageNet, shape_ImageNet = [0.485, 0.456, 0.406], [0.229, 0.224, 0.225], 224\n",
        "transform_ImageNet = transforms.Compose([transforms.ToTensor(), \n",
        "                                        transforms.Normalize(mean=mean_ImageNet, std=std_ImageNet),\n",
        "                                        transforms.Resize(shape_ImageNet)])\n",
        "\n",
        "# STEP 0 : indexes of initial trainset and unlabel set\n",
        "idx_cifar = list(range(50000)) # 50000 samples in CIFAR trainset\n",
        "idx_train = list(range(100)) # 100 first indexes for the train set\n",
        "idx_unlabel = list(set(idx_cifar) - set(idx_train)) # indexes of unlabel data\n",
        "\n",
        "# STEP 1 : load train with transform_train, load normal train\n",
        "trainset_full_transform = torchvision.datasets.CIFAR10(root='./data', train=True, download=True, transform=transform_ImageNet)\n",
        "trainset_full_tensor = torchvision.datasets.CIFAR10(root='./data', train=True, download=True, transform=transform_ImageNet)\n",
        "\n",
        "# STEP 2 : initialize initial trainset, initialize unlabel set as datasets\n",
        "traindataset = torch.utils.data.Subset(trainset_full_transform, idx_train)\n",
        "unlabeldataset = torch.utils.data.Subset(trainset_full_tensor, idx_unlabel)\n",
        "\n",
        "# STEP 3 : dataloader for initial traindataset, dataloader for unlabel dataset\n",
        "trainloader = torch.utils.data.DataLoader(traindataset, batch_size=batch_size, shuffle=True)\n",
        "unlabelloader = torch.utils.data.DataLoader(unlabeldataset, batch_size=batch_size, shuffle=False)\n",
        "\n",
        "## Step 4 : test \n",
        "testset = torchvision.datasets.CIFAR10(root='./data', train=False,\n",
        "                                        download=True, transform=transform_ImageNet)\n",
        "testloader = torch.utils.data.DataLoader(testset, batch_size=batch_size,\n",
        "                                          shuffle=True)\n",
        "\n",
        "print(f'Train with {len(traindataset)} samples ! ')\n",
        "print(f'Unlabel set with {len(unlabeldataset)} samples ! ')\n",
        "print(f'Test with {len(testset)} samples ! ')"
      ],
      "metadata": {
        "colab": {
          "base_uri": "https://localhost:8080/"
        },
        "id": "KI0PfNWbLsV9",
        "outputId": "96a6542b-6293-4c34-bcc5-9422de9dd65e"
      },
      "execution_count": null,
      "outputs": [
        {
          "output_type": "stream",
          "name": "stdout",
          "text": [
            "Files already downloaded and verified\n",
            "Files already downloaded and verified\n",
            "Files already downloaded and verified\n",
            "Train with 100 samples ! \n",
            "Unlabel set with 49900 samples ! \n",
            "Test with 10000 samples ! \n"
          ]
        }
      ]
    },
    {
      "cell_type": "code",
      "source": [
        "#@title utils function\n",
        "\n",
        "# train, test, get_indices_to_add, get_new_loaders\n",
        "\n",
        "# Training\n",
        "def train(epoch):\n",
        "    print('\\nEpoch: %d' % epoch)\n",
        "    net.train()\n",
        "    train_loss = 0\n",
        "    correct = 0\n",
        "    total = 0\n",
        "    for batch_idx, (inputs, targets) in enumerate(trainloader):\n",
        "        inputs, targets = inputs.to(device), targets.to(device)\n",
        "        optimizer.zero_grad()\n",
        "        outputs = net(inputs)\n",
        "        loss = criterion(outputs, targets)\n",
        "        loss.backward()\n",
        "        optimizer.step()\n",
        "\n",
        "        train_loss += loss.item()\n",
        "        _, predicted = outputs.max(1)\n",
        "        total += targets.size(0)\n",
        "        correct += predicted.eq(targets).sum().item()\n",
        "\n",
        "    train_loss_return, train_acc_return = train_loss/(batch_idx+1), 100.*correct/total\n",
        "    print(f'> TRAIN SET : Loss: {train_loss_return:.3f} | Acc: {train_acc_return:.2f}% !')\n",
        "    return train_loss_return, train_acc_return\n",
        "\n",
        "# Test\n",
        "def test(epoch):\n",
        "    global best_acc\n",
        "    net.eval()\n",
        "    test_loss = 0\n",
        "    correct = 0\n",
        "    total = 0\n",
        "    with torch.no_grad():\n",
        "        for batch_idx, (inputs, targets) in enumerate(testloader):\n",
        "            inputs, targets = inputs.to(device), targets.to(device)\n",
        "            outputs = net(inputs)\n",
        "            loss = criterion(outputs, targets)\n",
        "\n",
        "            test_loss += loss.item()\n",
        "            _, predicted = outputs.max(1)\n",
        "            total += targets.size(0)\n",
        "            correct += predicted.eq(targets).sum().item()\n",
        "\n",
        "        test_loss_return, test_acc_return = test_loss/(batch_idx+1), 100.*correct/total\n",
        "        print(f'> TEST SET : Loss: {test_loss_return:.3f} | Acc: {test_acc_return}% !')\n",
        "    \n",
        "    return test_loss_return, test_acc_return\n",
        "\n",
        "def get_indices_to_add(unlabelloader):\n",
        "  '''\n",
        "  from unlabel dataset loader\n",
        "  returns \n",
        "    index_to_add : indices of samples from unlabel set to add to the train set\n",
        "    new_train_index : indices of samples of updated train set\n",
        "    new_classes_to_add : pseudo labels of samples to add to the train set\n",
        "  '''\n",
        "  all_outputs = [] # list that stock prediction\n",
        "\n",
        "  with torch.no_grad():\n",
        "    for batch_idx, (inputs, targets) in enumerate(unlabelloader):\n",
        "      # compute predictions of the network and add to the list\n",
        "      inputs, targets = inputs.to(device), targets.to(device)\n",
        "      optimizer.zero_grad()\n",
        "      outputs = net(inputs)\n",
        "      all_outputs.append(outputs.detach().cpu())\n",
        "\n",
        "  # concatenate all outputs as tensor\n",
        "  all_outputs = torch.cat(all_outputs)\n",
        "\n",
        "  # apply softmax to get values between 0 and 1 for each sample\n",
        "  softmax = nn.Softmax(dim=1)\n",
        "\n",
        "  # apply max to softmax to get best prediction for each sample\n",
        "  max_softmax, max_classes = torch.max(softmax(all_outputs), dim=1)\n",
        "  index_to_add = torch.where(max_softmax > 0.85)[0].detach().cpu().numpy() \n",
        "\n",
        "  # get index of samples to add to train for the next iteration\n",
        "  new_train_index = np.concatenate((np.arange(100), index_to_add + 100))\n",
        "\n",
        "  # extract classes of samples to add to the train set\n",
        "  max_classes = max_classes.detach().cpu().numpy()\n",
        "  new_classes_to_add = max_classes[index_to_add]\n",
        "\n",
        "  return index_to_add.tolist(), new_train_index.tolist(), new_classes_to_add\n",
        "\n",
        "def get_new_datasets(index_to_add, new_train_index, new_classes_to_add,  traindataset):\n",
        "  '''\n",
        "  from index to add to the train set, updated index of the train set, pseudo labels and traindataset\n",
        "  returns new train/unlabel dataset\n",
        "  inputs:\n",
        "    new_train_index : indexes of samples of trainset\n",
        "    new_classes_to_add : predicted classes of samples to move from unlabel to train set\n",
        "    traindataset : current train dataset object\n",
        "  returns:\n",
        "    traindataset : updated training dataset\n",
        "    unlabeldataset : updated unlabel dataset\n",
        "  '''\n",
        "  # add classes to add to the trainset\n",
        "  label_train_transform = trainset_full_transform.targets.copy() # copy original traindataset index\n",
        "  label_train_transform = np.array(label_train_transform)\n",
        "  label_train_transform[index_to_add] = new_classes_to_add # update by adding new labels\n",
        "  label_train_transform = label_train_transform.tolist()\n",
        "  # update targets of trainset\n",
        "  trainset_full_transform.targets = label_train_transform # update labels of traindataset\n",
        "\n",
        "  # remove indexes of sample to remove to the unlabel set\n",
        "  idx_unlabel = list(set(idx_cifar) - set(new_train_index)) # indexes of unlabel data\n",
        "\n",
        "  # RELOAD TRAIN dataset\n",
        "  traindataset = torch.utils.data.Subset(trainset_full_transform, new_train_index)\n",
        "  # RELOAD UNLABEL dataset\n",
        "  unlabeldataset = torch.utils.data.Subset(trainset_full_tensor, idx_unlabel)\n",
        "\n",
        "  return traindataset, unlabeldataset"
      ],
      "metadata": {
        "id": "dEnZH6Ne-E2B"
      },
      "execution_count": null,
      "outputs": []
    },
    {
      "cell_type": "code",
      "source": [
        "#@title iterate for training\n",
        "device = 'cuda' if torch.cuda.is_available() else 'cpu'\n",
        "train_losses, test_losses, train_acc, test_acc = [], [], [], []\n",
        "stop_condition = True\n",
        "max_iterations, count_iterations = 10, 0\n",
        "while(stop_condition and (count_iterations < max_iterations)):\n",
        "\n",
        "  count_iterations += 1\n",
        "  print(f'\\n----- Iteration #{count_iterations} with {len(traindataset)} samples in trainset -----')\n",
        "\n",
        "  # Initialize model for new iteration\n",
        "  net = ResNetTransfert(version=34)\n",
        "  net = net.to(device)\n",
        "\n",
        "  # criterion, optimizer\n",
        "  lr = 0.01\n",
        "  criterion = nn.CrossEntropyLoss()\n",
        "  optimizer = optim.SGD(net.parameters(), lr=lr, momentum=0.7)\n",
        "  scheduler = torch.optim.lr_scheduler.CosineAnnealingLR(optimizer, T_max=200)\n",
        "\n",
        "  for epoch in range(0, 10):\n",
        "      # Step 1 : train on trainset\n",
        "      train_loss_epoch, train_acc_epoch = train(epoch)\n",
        "      train_losses.append(train_loss_epoch)\n",
        "      train_acc.append(train_acc_epoch)\n",
        "\n",
        "      # Step 2 : test on testset\n",
        "      if(epoch==9):\n",
        "        test_loss_epoch, test_acc_epoch = test(epoch)\n",
        "        test_losses.append(test_loss_epoch)\n",
        "        test_acc.append(test_acc_epoch)\n",
        "\n",
        "      scheduler.step()\n",
        "\n",
        "  # Step 3 : get best prediction from unlabel set\n",
        "  index_to_add, new_train_index, new_classes_to_add = get_indices_to_add(unlabelloader)\n",
        "\n",
        "  # Step 4 : get new train/unlabel loader for next iteration\n",
        "  traindataset, unlabeldataset = get_new_datasets(index_to_add, new_train_index, new_classes_to_add,  traindataset)\n",
        "  trainloader = torch.utils.data.DataLoader(traindataset, batch_size=batch_size, shuffle=True)\n",
        "  unlabelloader = torch.utils.data.DataLoader(unlabeldataset, batch_size=batch_size, shuffle=False)\n",
        "\n",
        "  # Step 5 : check stop condition\n",
        "  stop_condition = len(traindataset) < 25000 # repeat until size of train is greater than threhshold"
      ],
      "metadata": {
        "id": "On5F5WrO9L5a",
        "colab": {
          "base_uri": "https://localhost:8080/",
          "height": 1000
        },
        "outputId": "af581b0a-7bba-4700-a739-5808ee49fd22"
      },
      "execution_count": null,
      "outputs": [
        {
          "output_type": "stream",
          "name": "stdout",
          "text": [
            "----- Iteration #1 with 100 samples in trainset -----\n"
          ]
        },
        {
          "output_type": "stream",
          "name": "stderr",
          "text": [
            "/usr/local/lib/python3.9/dist-packages/torchvision/models/_utils.py:208: UserWarning: The parameter 'pretrained' is deprecated since 0.13 and may be removed in the future, please use 'weights' instead.\n",
            "  warnings.warn(\n",
            "/usr/local/lib/python3.9/dist-packages/torchvision/models/_utils.py:223: UserWarning: Arguments other than a weight enum or `None` for 'weights' are deprecated since 0.13 and may be removed in the future. The current behavior is equivalent to passing `weights=ResNet34_Weights.IMAGENET1K_V1`. You can also use `weights=ResNet34_Weights.DEFAULT` to get the most up-to-date weights.\n",
            "  warnings.warn(msg)\n"
          ]
        },
        {
          "output_type": "stream",
          "name": "stdout",
          "text": [
            "\n",
            "Epoch: 0\n",
            "> TRAIN SET : Loss: 2.295 | Acc: 20.00% !\n",
            "\n",
            "Epoch: 1\n",
            "> TRAIN SET : Loss: 2.060 | Acc: 31.00% !\n",
            "\n",
            "Epoch: 2\n",
            "> TRAIN SET : Loss: 1.943 | Acc: 34.00% !\n",
            "\n",
            "Epoch: 3\n",
            "> TRAIN SET : Loss: 1.809 | Acc: 44.00% !\n",
            "\n",
            "Epoch: 4\n",
            "> TRAIN SET : Loss: 1.603 | Acc: 47.00% !\n",
            "\n",
            "Epoch: 5\n",
            "> TRAIN SET : Loss: 1.339 | Acc: 69.00% !\n",
            "\n",
            "Epoch: 6\n",
            "> TRAIN SET : Loss: 1.206 | Acc: 71.00% !\n",
            "\n",
            "Epoch: 7\n",
            "> TRAIN SET : Loss: 1.048 | Acc: 77.00% !\n",
            "\n",
            "Epoch: 8\n",
            "> TRAIN SET : Loss: 0.812 | Acc: 81.00% !\n",
            "\n",
            "Epoch: 9\n",
            "> TRAIN SET : Loss: 0.652 | Acc: 94.00% !\n",
            "> TEST SET : Loss: 1.524 | Acc: 46.73% !\n",
            "----- Iteration #2 with 1581 samples in trainset -----\n",
            "\n",
            "Epoch: 0\n",
            "> TRAIN SET : Loss: 0.891 | Acc: 74.95% !\n",
            "\n",
            "Epoch: 1\n",
            "> TRAIN SET : Loss: 0.496 | Acc: 86.21% !\n",
            "\n",
            "Epoch: 2\n",
            "> TRAIN SET : Loss: 0.450 | Acc: 87.86% !\n",
            "\n",
            "Epoch: 3\n",
            "> TRAIN SET : Loss: 0.405 | Acc: 88.17% !\n",
            "\n",
            "Epoch: 4\n",
            "> TRAIN SET : Loss: 0.376 | Acc: 88.74% !\n",
            "\n",
            "Epoch: 5\n",
            "> TRAIN SET : Loss: 0.315 | Acc: 91.02% !\n",
            "\n",
            "Epoch: 6\n",
            "> TRAIN SET : Loss: 0.321 | Acc: 90.39% !\n",
            "\n",
            "Epoch: 7\n",
            "> TRAIN SET : Loss: 0.365 | Acc: 91.08% !\n",
            "\n",
            "Epoch: 8\n",
            "> TRAIN SET : Loss: 0.386 | Acc: 89.31% !\n",
            "\n",
            "Epoch: 9\n",
            "> TRAIN SET : Loss: 0.313 | Acc: 90.83% !\n",
            "> TEST SET : Loss: 1.491 | Acc: 51.63% !\n",
            "----- Iteration #3 with 12954 samples in trainset -----\n",
            "\n",
            "Epoch: 0\n",
            "> TRAIN SET : Loss: 1.702 | Acc: 44.63% !\n",
            "\n",
            "Epoch: 1\n",
            "> TRAIN SET : Loss: 1.553 | Acc: 51.91% !\n",
            "\n",
            "Epoch: 2\n",
            "> TRAIN SET : Loss: 1.520 | Acc: 53.28% !\n",
            "\n",
            "Epoch: 3\n",
            "> TRAIN SET : Loss: 1.488 | Acc: 54.68% !\n",
            "\n",
            "Epoch: 4\n",
            "> TRAIN SET : Loss: 1.479 | Acc: 55.07% !\n",
            "\n",
            "Epoch: 5\n",
            "> TRAIN SET : Loss: 1.467 | Acc: 55.22% !\n",
            "\n",
            "Epoch: 6\n",
            "> TRAIN SET : Loss: 1.449 | Acc: 56.08% !\n",
            "\n",
            "Epoch: 7\n",
            "> TRAIN SET : Loss: 1.438 | Acc: 56.16% !\n",
            "\n",
            "Epoch: 8\n",
            "> TRAIN SET : Loss: 1.431 | Acc: 56.48% !\n",
            "\n",
            "Epoch: 9\n",
            "> TRAIN SET : Loss: 1.422 | Acc: 56.46% !\n",
            "> TEST SET : Loss: 0.969 | Acc: 73.48% !\n"
          ]
        },
        {
          "output_type": "error",
          "ename": "KeyboardInterrupt",
          "evalue": "ignored",
          "traceback": [
            "\u001b[0;31m---------------------------------------------------------------------------\u001b[0m",
            "\u001b[0;31mKeyboardInterrupt\u001b[0m                         Traceback (most recent call last)",
            "\u001b[0;32m<ipython-input-43-185a4009cad0>\u001b[0m in \u001b[0;36m<module>\u001b[0;34m\u001b[0m\n\u001b[1;32m     34\u001b[0m \u001b[0;34m\u001b[0m\u001b[0m\n\u001b[1;32m     35\u001b[0m   \u001b[0;31m# Step 3 : get best prediction from unlabel set\u001b[0m\u001b[0;34m\u001b[0m\u001b[0;34m\u001b[0m\u001b[0m\n\u001b[0;32m---> 36\u001b[0;31m   \u001b[0mindex_to_add\u001b[0m\u001b[0;34m,\u001b[0m \u001b[0mnew_train_index\u001b[0m\u001b[0;34m,\u001b[0m \u001b[0mnew_classes_to_add\u001b[0m \u001b[0;34m=\u001b[0m \u001b[0mget_indices_to_add\u001b[0m\u001b[0;34m(\u001b[0m\u001b[0munlabelloader\u001b[0m\u001b[0;34m)\u001b[0m\u001b[0;34m\u001b[0m\u001b[0;34m\u001b[0m\u001b[0m\n\u001b[0m\u001b[1;32m     37\u001b[0m \u001b[0;34m\u001b[0m\u001b[0m\n\u001b[1;32m     38\u001b[0m   \u001b[0;31m# Step 4 : get new train/unlabel loader for next iteration\u001b[0m\u001b[0;34m\u001b[0m\u001b[0;34m\u001b[0m\u001b[0m\n",
            "\u001b[0;32m<ipython-input-42-8f906638a202>\u001b[0m in \u001b[0;36mget_indices_to_add\u001b[0;34m(unlabelloader)\u001b[0m\n\u001b[1;32m     63\u001b[0m       \u001b[0moptimizer\u001b[0m\u001b[0;34m.\u001b[0m\u001b[0mzero_grad\u001b[0m\u001b[0;34m(\u001b[0m\u001b[0;34m)\u001b[0m\u001b[0;34m\u001b[0m\u001b[0;34m\u001b[0m\u001b[0m\n\u001b[1;32m     64\u001b[0m       \u001b[0moutputs\u001b[0m \u001b[0;34m=\u001b[0m \u001b[0mnet\u001b[0m\u001b[0;34m(\u001b[0m\u001b[0minputs\u001b[0m\u001b[0;34m)\u001b[0m\u001b[0;34m\u001b[0m\u001b[0;34m\u001b[0m\u001b[0m\n\u001b[0;32m---> 65\u001b[0;31m       \u001b[0mall_outputs\u001b[0m\u001b[0;34m.\u001b[0m\u001b[0mappend\u001b[0m\u001b[0;34m(\u001b[0m\u001b[0moutputs\u001b[0m\u001b[0;34m.\u001b[0m\u001b[0mdetach\u001b[0m\u001b[0;34m(\u001b[0m\u001b[0;34m)\u001b[0m\u001b[0;34m.\u001b[0m\u001b[0mcpu\u001b[0m\u001b[0;34m(\u001b[0m\u001b[0;34m)\u001b[0m\u001b[0;34m)\u001b[0m\u001b[0;34m\u001b[0m\u001b[0;34m\u001b[0m\u001b[0m\n\u001b[0m\u001b[1;32m     66\u001b[0m \u001b[0;34m\u001b[0m\u001b[0m\n\u001b[1;32m     67\u001b[0m   \u001b[0;31m# concatenate all outputs as tensor\u001b[0m\u001b[0;34m\u001b[0m\u001b[0;34m\u001b[0m\u001b[0m\n",
            "\u001b[0;31mKeyboardInterrupt\u001b[0m: "
          ]
        }
      ]
    },
    {
      "cell_type": "markdown",
      "source": [
        "<u>**Observations for Weak supervision**</u> : It can be seen that the training time is significantly longer than the previous methods because the model is trained and tested at each iteration. Here the method is sensitive to the data added to the train set at each iteration. An early stopping is performed to obtain the best accuracy of 73.48% on the test set. Once again, it is difficult to say if the model is very robust or not, since its accuracy on test set is way better than on the train set."
      ],
      "metadata": {
        "id": "cdnWhqi8ucoL"
      }
    },
    {
      "cell_type": "markdown",
      "source": [
        "# END TP4 !\n",
        "\n",
        "Thank you for reading !"
      ],
      "metadata": {
        "id": "mszszkr5qm56"
      }
    }
  ],
  "metadata": {
    "kernelspec": {
      "display_name": "Python 3",
      "language": "python",
      "name": "python3"
    },
    "language_info": {
      "codemirror_mode": {
        "name": "ipython",
        "version": 3
      },
      "file_extension": ".py",
      "mimetype": "text/x-python",
      "name": "python",
      "nbconvert_exporter": "python",
      "pygments_lexer": "ipython3",
      "version": "3.7.9"
    },
    "colab": {
      "provenance": [],
      "toc_visible": true
    },
    "gpuClass": "standard",
    "accelerator": "GPU"
  },
  "nbformat": 4,
  "nbformat_minor": 0
}