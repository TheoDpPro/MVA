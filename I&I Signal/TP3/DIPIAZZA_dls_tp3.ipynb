{
  "cells": [
    {
      "cell_type": "markdown",
      "id": "080fa317",
      "metadata": {
        "id": "080fa317"
      },
      "source": [
        "# I&I: Apprentissage profond et traitement du signal\n",
        "\n",
        "# TP3: Classification de modulation par deep learning"
      ]
    },
    {
      "cell_type": "markdown",
      "source": [
        "Eleve : Théo Di Piazza (MVA)\n",
        "\n",
        "Date : Novembre 2022"
      ],
      "metadata": {
        "id": "pxaXmhKswgf1"
      },
      "id": "pxaXmhKswgf1"
    },
    {
      "cell_type": "code",
      "source": [
        "# Connect to google colab to save the script as HTML as the end of the execution\n",
        "from google.colab import drive\n",
        "drive.mount('/content/drive')\n",
        "\n",
        "path_folder = '/content/drive/MyDrive/MVA/Cours/I&I_Signal'"
      ],
      "metadata": {
        "colab": {
          "base_uri": "https://localhost:8080/"
        },
        "id": "Lsf1iA9s0XPO",
        "outputId": "cc16480b-dca2-48a6-9a20-8a986f57dcae"
      },
      "id": "Lsf1iA9s0XPO",
      "execution_count": null,
      "outputs": [
        {
          "output_type": "stream",
          "name": "stdout",
          "text": [
            "Drive already mounted at /content/drive; to attempt to forcibly remount, call drive.mount(\"/content/drive\", force_remount=True).\n"
          ]
        }
      ]
    },
    {
      "cell_type": "code",
      "execution_count": null,
      "id": "24102354",
      "metadata": {
        "id": "24102354"
      },
      "outputs": [],
      "source": [
        "# Import libraries\n",
        "import numpy as np \n",
        "import pandas as pd\n",
        "import seaborn as sns\n",
        "import torch.nn as nn\n",
        "import torch.optim as optim\n",
        "import torch.nn.functional as F\n",
        "\n",
        "import h5py \n",
        "import torch\n",
        "import warnings\n",
        "\n",
        "from matplotlib import pylab as plt \n",
        "from torch.optim import lr_scheduler\n",
        "from torch.utils.data import TensorDataset, DataLoader\n",
        "\n",
        "# Hide warnings\n",
        "warnings.filterwarnings('ignore')\n",
        "warnings.simplefilter('ignore')"
      ]
    },
    {
      "cell_type": "markdown",
      "source": [
        "## Notes sur les dimensions\n",
        "\n",
        "Pour un signal de dimension N avec K channels.\n",
        "\n",
        "- Dimension de sortie après une couche de convolution Nconv, Kconv, Stride, Padding : \n",
        "\n",
        "$$1+(N + 2*padding - Nconv)/stride$$\n",
        "\n",
        "- Dimension de sortie après une couche de max pooling  Npool, padding, stride: \n",
        "\n",
        "$$1+(N + 2*padding - Npool)/stride$$\n",
        "\n",
        "Par défaut, $stride = Npool$.\n",
        "\n",
        "Notes : on préconise des Kernels impaires. Faire du padding pour éviter les effets de bords!"
      ],
      "metadata": {
        "id": "5Fpq0RCCHiy4"
      },
      "id": "5Fpq0RCCHiy4"
    },
    {
      "cell_type": "markdown",
      "id": "79fd47d3",
      "metadata": {
        "id": "79fd47d3"
      },
      "source": [
        "## Données\n",
        "\n",
        "L'objectif de ce projet est à partir de l'observation de 1024 échantillons d'un signal IQ de retrouver la modulation qui l'a constitué parmi: \n",
        "- BPSK\n",
        "- PSK8\n",
        "- QAM16\n",
        "- QAM32\n",
        "- QAM64\n",
        "- QAM8\n",
        "- QPSK\n",
        "\n",
        "A chaque modulation nous avons associé un nombre entier identifiant:\n",
        "{'BPSK': 0,\n",
        " 'PSK8': 1,\n",
        " 'QAM16': 2,\n",
        " 'QAM32': 3,\n",
        " 'QAM64': 4,\n",
        " 'QAM8': 5,\n",
        " 'QPSK': 6}\n",
        "\n",
        "## Format\n",
        "\n",
        "Les données sont distribuées dans trois fichiers indépendants: \n",
        "- augmod_train.hdf5\n",
        "- augmod_valid.hdf5\n",
        "- augmod_test.hdf5 \n",
        "\n",
        "L'ensemble de train est destiné à nourrir l'entraînement d'un réseau de neurones profond, l'ensemble de validation à monitorer l'évolution de métriques sur un ensemble indépendant durant un entraînement et l'ensemble de test est destiné à évaluer le modèle une fois entraîné. \n",
        "\n",
        "Les trois jeux de données sont au format hdf5 qui peut être manipulé via l'API Python h5py https://docs.h5py.org/en/stable/quick.html.\n",
        "Un fichier hdf5 est consitué d'une arborescence de datasets et de groups. Un dataset hdf5 représente un tenseur n dimensionnel. Un dataset se convertit très facilement en numpy array.\n",
        "Un groupe peut contenir plusieurs datasets. Un groupe contient aussi un champs .attrs qui permet de regrouper des informations sous forme de dictionnaire. \n",
        "\n",
        "Un fichier de données D contient: \n",
        "- un groupe 'labels' qui regroupe les correspondances nom_modulation -> id_modulation \n",
        "   - D['labels'].attrs[k] avec k dans D['labels'].attrs.keys() \n",
        "   - plus bas la fonction get_labels permet d'extraire ces correspondances sous forme d'un dictionnaire\n",
        "- un dataset 'signal': D['signal'] qui est de dimensions [N,2,1024] et contient N signaux IQ de 1024 échantillons\n",
        "- un dataset 'snr': D['snr'] qui est de dimension [N], la composante  i codant le rapport signal sur bruit (en dB) du signal D['signal'][i,:,:] \n",
        "\n",
        "Les cellules suivantes donne un exemple d'ouverture d'un des fichiers de données: \n",
        "\n",
        "### Fonction utilitaire"
      ]
    },
    {
      "cell_type": "code",
      "execution_count": null,
      "id": "256d7297",
      "metadata": {
        "id": "256d7297"
      },
      "outputs": [],
      "source": [
        "def get_labels(open_h5_file): \n",
        "    return {\n",
        "        open_h5_file['labels'].attrs[k] : k\n",
        "        for k in open_h5_file['labels'].attrs.keys()\n",
        "    }"
      ]
    },
    {
      "cell_type": "markdown",
      "id": "9f482faf",
      "metadata": {
        "id": "9f482faf"
      },
      "source": [
        "### Conversion directe en numpy"
      ]
    },
    {
      "cell_type": "code",
      "execution_count": null,
      "id": "da814a96",
      "metadata": {
        "id": "da814a96"
      },
      "outputs": [],
      "source": [
        "data_path = '/content/drive/MyDrive/MVA/Cours/I&I_Signal/augmod_train.hdf5'\n",
        "\n",
        "data = h5py.File(data_path , 'r')\n",
        "\n",
        "signals = np.array(data['signals'])\n",
        "snr =  np.array(data['snr'])\n",
        "labels_id = np.array(data['type'])\n",
        "\n",
        "labels_dict = get_labels(data)\n",
        "\n",
        "data.close()"
      ]
    },
    {
      "cell_type": "code",
      "execution_count": null,
      "id": "29b9ad73",
      "metadata": {
        "colab": {
          "base_uri": "https://localhost:8080/",
          "height": 369
        },
        "id": "29b9ad73",
        "outputId": "8fc5c8e0-8338-4551-cdb3-2f1d354ede9e"
      },
      "outputs": [
        {
          "output_type": "stream",
          "name": "stdout",
          "text": [
            "Il y a 87360 signaux, de dimensions (2,)\n",
            "\n",
            "\n",
            "\n",
            "Le SNR du signal 1001 est 40.0\n",
            "Le signal 1001 a pour id 1 il est de type PSK8\n"
          ]
        },
        {
          "output_type": "display_data",
          "data": {
            "text/plain": [
              "<Figure size 432x288 with 1 Axes>"
            ],
            "image/png": "[encoded data removed]"
          },
          "metadata": {
            "needs_background": "light"
          }
        }
      ],
      "source": [
        "print(f'Il y a {signals.shape[0]} signaux, de dimensions {signals.shape[1:2]}')\n",
        "print('\\n\\n')\n",
        "\n",
        "num_signal = 1001 \n",
        "\n",
        "plt.figure()\n",
        "print(f'Le SNR du signal {num_signal} est {snr[num_signal]}' )\n",
        "print(f'Le signal {num_signal} a pour id {labels_id[num_signal]} il est de type {labels_dict[labels_id[num_signal]]}' )\n",
        "\n",
        "plt.plot(signals[num_signal,0,:] , signals[num_signal,1,:],'o')\n",
        "plt.axis('equal')\n",
        "plt.grid()"
      ]
    },
    {
      "cell_type": "markdown",
      "id": "8a87f86f",
      "metadata": {
        "id": "8a87f86f"
      },
      "source": [
        "### Utilisation des buffers hdf5 "
      ]
    },
    {
      "cell_type": "code",
      "execution_count": null,
      "id": "0d83b747",
      "metadata": {
        "colab": {
          "base_uri": "https://localhost:8080/",
          "height": 300
        },
        "id": "0d83b747",
        "outputId": "703a32b3-bf1f-4f82-88f1-e43ac9c4838f"
      },
      "outputs": [
        {
          "output_type": "stream",
          "name": "stdout",
          "text": [
            "Le SNR du signal 1001 est 40.0\n",
            "Le signal 1001 a pour id 1 il est de type PSK8\n"
          ]
        },
        {
          "output_type": "display_data",
          "data": {
            "text/plain": [
              "<Figure size 432x288 with 1 Axes>"
            ],
            "image/png": "[encoded data removed]"
          },
          "metadata": {
            "needs_background": "light"
          }
        }
      ],
      "source": [
        "data = h5py.File(data_path , 'r')\n",
        "\n",
        "labels_dict = get_labels(data)\n",
        "\n",
        "\n",
        "num_signal = 1001 \n",
        "\n",
        "plt.figure()\n",
        "print(f\"Le SNR du signal {num_signal} est {data['snr'][num_signal]}\" )\n",
        "print(f'Le signal {num_signal} a pour id {labels_id[num_signal]} il est de type {labels_dict[labels_id[num_signal]]}' )\n",
        "\n",
        "plt.plot(data['signals'][num_signal,0,:] , data['signals'][num_signal,1,:],'o')\n",
        "plt.axis('equal')\n",
        "plt.grid()\n",
        "\n",
        "\n",
        "data.close()"
      ]
    },
    {
      "cell_type": "markdown",
      "id": "8e7ab6c1",
      "metadata": {
        "id": "8e7ab6c1"
      },
      "source": [
        "## Objectifs du TP \n",
        "\n",
        "Pour ce TP vous devez \n",
        "\n",
        "1/ Visualiser les données d'entraînement, la distribution des types de modulations représentées dans l'ensemble de données et la distribution des SNR\n",
        "2/ (optionnel) Proposer une méthode simple, 'baseline' pour l'identification de modulations\n",
        "3/ Définir une ou plusieurs architectures de réseaux de neurones profonds et les implémenter en PyTorch\n",
        "4/ Entrainer ces architectures, la fonction de perte employée pourra être la log vraisemblance négative: https://pytorch.org/docs/stable/generated/torch.nn.NLLLoss.html. \n",
        "5/ Qualifier les performances de votre réseau de neurones sur l'ensemble de test via: \n",
        "   - Le calcul de l'accuracy implémentée par exemple dans le package TorchMetrics (https://torchmetrics.readthedocs.io/en/stable/classification/accuracy.html)\n",
        "   - La réalisation d'un graphique accuracy vs SNR \n",
        "   - La réalisation des matrices de confusion entre les différentes classes pour un SNR de 10 dB (https://scikit-learn.org/stable/modules/generated/sklearn.metrics.confusion_matrix.html#sklearn.metrics.confusion_matrix)\n",
        "\n",
        "Durant l'entraînement on observera l'évolution de la fonction de perte et de l'accuracy sur l'ensemble d'entraînement et sur l'ensemble de validation. "
      ]
    },
    {
      "cell_type": "markdown",
      "source": [
        "---\n",
        "## Sommaire du Notebook\n",
        "\n",
        "### 1 - Visualisation de données\n",
        "\n",
        "### 2 - Modèles & Entrainements (Modèle 1, 2 et 3).\n",
        "\n",
        "### 3 - Test du modèle retenu\n",
        "\n",
        "### 4 - Conclusion"
      ],
      "metadata": {
        "id": "iQc43HyY2HoP"
      },
      "id": "iQc43HyY2HoP"
    },
    {
      "cell_type": "markdown",
      "source": [
        "## 1 - Visualisation de données"
      ],
      "metadata": {
        "id": "-hdgT91o2eo8"
      },
      "id": "-hdgT91o2eo8"
    },
    {
      "cell_type": "markdown",
      "source": [
        "### 1.1 - Représentation d'un signal pour chaque label\n",
        "\n",
        "Tout d'abord, on souhaite représenter un signal pour chaque label.\n",
        "\n",
        "On créé donc une liste de longueurs 7 (car 7 labels) avec un indice associé à chaque label."
      ],
      "metadata": {
        "id": "sDvmxwZz_BOx"
      },
      "id": "sDvmxwZz_BOx"
    },
    {
      "cell_type": "code",
      "source": [
        "# Find indices of signals for each label\n",
        "indices_signal = []\n",
        "\n",
        "# Représentation du signal\n",
        "labels = [0, 1, 2, 3, 4, 5, 6]\n",
        "\n",
        "# For each label\n",
        "for lab in labels:\n",
        "  # For each signal\n",
        "  for i in range(len(signals)):\n",
        "    # If the current label and the label of the current signal matches\n",
        "    if(lab == labels_id)[i]:\n",
        "\n",
        "      indices_signal.append(i) # Add index of the signal to the list\n",
        "\n",
        "      break"
      ],
      "metadata": {
        "id": "HGwQah5V2gsV"
      },
      "id": "HGwQah5V2gsV",
      "execution_count": null,
      "outputs": []
    },
    {
      "cell_type": "code",
      "source": [
        "dict_indToColor = {0:\"red\", \n",
        "                   1:\"darksalmon\",\n",
        "                   2:\"sandybrown\",\n",
        "                   3:\"moccasin\",\n",
        "                   4:\"paleturquoise\",\n",
        "                   5:\"plum\",\n",
        "                   6:\"dodgerblue\"}\n",
        "\n",
        "i = 1 # Index for subplot\n",
        "for num_signal in indices_signal:\n",
        "\n",
        "  plt.rcParams['figure.figsize'] = [22, 3] # Size of plot\n",
        "  plt.subplot(1, 7, i) # Position\n",
        "  plt.plot(signals[num_signal, 0, :], signals[num_signal, 1, :], 'o', color=dict_indToColor[i-1]) # Plot\n",
        "  plt.axis('equal') \n",
        "  plt.grid()\n",
        "  plt.title(f\"{labels_dict[labels_id[num_signal]]}\", size=20)\n",
        "\n",
        "  i += 1\n",
        "\n",
        "plt.suptitle(f\"Plot one signal for each label\", fontsize=25, y=1.15)\n",
        "plt.tight_layout()\n",
        "plt.show()"
      ],
      "metadata": {
        "colab": {
          "base_uri": "https://localhost:8080/",
          "height": 220
        },
        "id": "YdI37PSW4i6f",
        "outputId": "ffbf0b95-4285-4336-df9f-3624651b046c"
      },
      "id": "YdI37PSW4i6f",
      "execution_count": null,
      "outputs": [
        {
          "output_type": "display_data",
          "data": {
            "text/plain": [
              "<Figure size 1584x216 with 7 Axes>"
            ],
            "image/png": "[encoded data removed]"
          },
          "metadata": {
            "needs_background": "light"
          }
        }
      ]
    },
    {
      "cell_type": "markdown",
      "source": [
        "### 1.2 - Répartition des labels dans le jeu de données"
      ],
      "metadata": {
        "id": "LRgmyu6uIo3C"
      },
      "id": "LRgmyu6uIo3C"
    },
    {
      "cell_type": "code",
      "source": [
        "# For each labels, compute % of occurences\n",
        "labels_percentage = 100*pd.Series(labels_id).value_counts()/len(labels_id)\n",
        "\n",
        "list_labels = [labels_dict[x]  for x in labels_percentage.index.tolist() ]\n",
        "list_percentage = labels_percentage.values.tolist()\n",
        "\n",
        "# Plot Pie-Chart of Percentage\n",
        "fig = plt.figure(figsize=(5, 5)) # Size of plot\n",
        "colors = sns.color_palette('pastel')[0:7] # Colors\n",
        "plt.pie(list_percentage, labels = list_labels, colors = colors, autopct='%.0f%%')\n",
        "plt.title(\"Labels in the dataset\")\n",
        "plt.show()"
      ],
      "metadata": {
        "colab": {
          "base_uri": "https://localhost:8080/",
          "height": 319
        },
        "id": "Xi-853J7G6yy",
        "outputId": "6576cef7-ba0d-4726-a114-d27e5f84d1f9"
      },
      "id": "Xi-853J7G6yy",
      "execution_count": null,
      "outputs": [
        {
          "output_type": "display_data",
          "data": {
            "text/plain": [
              "<Figure size 360x360 with 1 Axes>"
            ],
            "image/png": "[encoded data removed]"
          },
          "metadata": {}
        }
      ]
    },
    {
      "cell_type": "markdown",
      "source": [
        "Le jeu de données d'entrainement est équilibré car chaque label représente 14% du jeu de donnée."
      ],
      "metadata": {
        "id": "YGyGAKKtIv7U"
      },
      "id": "YGyGAKKtIv7U"
    },
    {
      "cell_type": "markdown",
      "source": [
        "## 2 - Modèles\n",
        "\n",
        "### 2.0.1 - DataLoaders\n",
        "\n",
        "Fonctions pour obtenir des données."
      ],
      "metadata": {
        "id": "4TgNV-6CK6l2"
      },
      "id": "4TgNV-6CK6l2"
    },
    {
      "cell_type": "code",
      "source": [
        "def get_dataloader(device, batch_size=64):\n",
        "  '''\n",
        "  Load train, validation and test sets\n",
        "  Input:\n",
        "    batch_size (int): Batch Size used in the network. default=64.\n",
        "    device: environment execution (cuda, cpu...).\n",
        "  Returns:\n",
        "    train_loader, val_loader, test_loader: DataLoader of train, validation and test set\n",
        "  '''\n",
        "  # Paths of datasets\n",
        "  train_path = '/content/drive/MyDrive/ENS_MVA/I&I_Signal/TP3/augmod_train.hdf5'\n",
        "  valid_path = '/content/drive/MyDrive/ENS_MVA/I&I_Signal/TP3/augmod_valid.hdf5'\n",
        "  test_path = '/content/drive/MyDrive/ENS_MVA/I&I_Signal/TP3/augmod_test.hdf5'\n",
        "  train_path = '/content/drive/MyDrive/MVA/Cours/I&I_Signal/augmod_train.hdf5'\n",
        "  valid_path = '/content/drive/MyDrive/MVA/Cours/I&I_Signal/augmod_valid.hdf5'\n",
        "  test_path = '/content/drive/MyDrive/MVA/Cours/I&I_Signal/augmod_test.hdf5'\n",
        "\n",
        "  # Open files\n",
        "  train_data = h5py.File(train_path , 'r')\n",
        "  valid_data = h5py.File(valid_path , 'r')\n",
        "  test_data = h5py.File(test_path , 'r')\n",
        "\n",
        "  # Get data as arrays\n",
        "  train_signals, train_labels_id = np.array(train_data['signals']), np.array(train_data['type'])\n",
        "  val_signals, val_labels_id = np.array(valid_data['signals']), np.array(valid_data['type'])\n",
        "  test_signals, test_labels_id = np.array(test_data['signals']), np.array(test_data['type'])\n",
        "\n",
        "  # Close data objects\n",
        "  train_data.close(); valid_data.close(); test_data.close()\n",
        "\n",
        "  # Arrays to Tensor\n",
        "  train_tensor_x, train_tensor_y = torch.Tensor(train_signals), torch.Tensor(train_labels_id).type(torch.LongTensor)\n",
        "  val_tensor_x, val_tensor_y = torch.Tensor(val_signals), torch.Tensor(val_labels_id).type(torch.LongTensor)\n",
        "  test_tensor_x, test_tensor_y = torch.Tensor(test_signals), torch.Tensor(test_labels_id).type(torch.LongTensor)\n",
        "\n",
        "  # Tensor cuda\n",
        "  train_tensor_x = train_tensor_x.to(device); train_tensor_y = train_tensor_y.to(device)\n",
        "  val_tensor_x = val_tensor_x.to(device); val_tensor_y = val_tensor_y.to(device)\n",
        "  test_tensor_x = test_tensor_x.to(device); test_tensor_y = test_tensor_y.to(device)\n",
        "  \n",
        "  # Tensor to TensorDataset\n",
        "  train_dataset = TensorDataset(train_tensor_x, train_tensor_y)\n",
        "  val_dataset = TensorDataset(val_tensor_x, val_tensor_y)\n",
        "  test_dataset = TensorDataset(test_tensor_x, test_tensor_y)\n",
        "\n",
        "  #TensorDataset to DataLoader\n",
        "  train_loader = DataLoader(train_dataset, batch_size=batch_size)\n",
        "  val_loader = DataLoader(val_dataset, batch_size=batch_size)\n",
        "  test_loader = DataLoader(test_dataset, batch_size=batch_size)\n",
        "\n",
        "  return train_loader, val_loader, test_loader"
      ],
      "metadata": {
        "id": "pH8dugFdEvOM"
      },
      "id": "pH8dugFdEvOM",
      "execution_count": null,
      "outputs": []
    },
    {
      "cell_type": "markdown",
      "source": [
        "### 2.0.2 - Train function, Validation function and Test function\n",
        "\n",
        "Fonctions permettant d'entraîner, de valider et de tester un modèle."
      ],
      "metadata": {
        "id": "vqwSUL3YE2Jc"
      },
      "id": "vqwSUL3YE2Jc"
    },
    {
      "cell_type": "code",
      "source": [
        "def train(epoch, network, train_loader):\n",
        "    '''\n",
        "    Train the model for a given epoch, a given model network and data.\n",
        "    Input:\n",
        "      network: Neural Network model.\n",
        "      test_loader: DataLoader.\n",
        "    Return:\n",
        "      None.\n",
        "    '''\n",
        "    network.train()\n",
        "    for batch_idx, (data, target) in enumerate(train_loader):\n",
        "        optimizer.zero_grad()\n",
        "        output = network(data)\n",
        "        loss = F.cross_entropy(output, target)\n",
        "        loss.backward()\n",
        "        optimizer.step()\n",
        "        if batch_idx % 200 == 0:\n",
        "            '''print('Train Epoch: {} [{}/{} ({:.0f}%)]\\tLoss: {:.6f}'.format(\n",
        "                epoch, batch_idx * len(data), len(train_loader.dataset),\n",
        "                100. * batch_idx / len(train_loader), loss.item()))'''\n",
        "\n",
        "def validation(epoch, network, val_loader, with_print=True):\n",
        "    '''\n",
        "    Test the model for a given epoch, a given model network and data.\n",
        "    Input:\n",
        "      network: Neural Network model.\n",
        "      val_loader: DataLoader.\n",
        "      with_print(boolean): True if print average loss and accuracy.\n",
        "    Return:\n",
        "      Accuracy on of the prediction (float).\n",
        "    '''\n",
        "    network.eval()\n",
        "    test_loss = 0\n",
        "    correct = 0\n",
        "    for data, target in val_loader:\n",
        "        output = network(data)\n",
        "        test_loss += F.cross_entropy(output, target, size_average=False).item() # sum up batch loss\n",
        "        pred = output.data.max(1, keepdim=True)[1] # get the index of the max log-probability\n",
        "        correct += pred.eq(target.data.view_as(pred)).cpu().sum()\n",
        "\n",
        "    test_loss /= len(val_loader.dataset)\n",
        "    if(with_print):\n",
        "      if(epoch):\n",
        "        print('Epoch: {} - Test set: Average loss: {:.4f}, Accuracy: {}/{} ({:.0f}%)'.format(\n",
        "            epoch,\n",
        "            test_loss, correct, len(val_loader.dataset),\n",
        "            100. * correct / len(val_loader.dataset)))\n",
        "    \n",
        "    # Return accuracy\n",
        "    return 100. * correct / len(val_loader.dataset)"
      ],
      "metadata": {
        "id": "j1c5eyyBYV0f"
      },
      "id": "j1c5eyyBYV0f",
      "execution_count": null,
      "outputs": []
    },
    {
      "cell_type": "markdown",
      "source": [
        "### 2.1 - Modèle 1\n",
        "\n",
        "- Convolution with 10 by 1 filters, 16 feature maps + Tanh nonlinearity.\n",
        "\n",
        "- 2 by 1 max pooling with stride = 1\n",
        "\n",
        "- Convolution with 5 by 1 filters, 128 feature maps + Tanh nonlinearity.\n",
        "\n",
        "- 2 by 1 max pooling.\n",
        "\n",
        "- Flatten to vector.\n",
        "\n",
        "- Linear layer with 64 hidden units + Tanh nonlinearity.\n",
        "\n",
        "- Linear layer to 7 output units."
      ],
      "metadata": {
        "id": "3cTz26p3JWSg"
      },
      "id": "3cTz26p3JWSg"
    },
    {
      "cell_type": "code",
      "source": [
        "class ConvNet1(nn.Module):\n",
        "    '''\n",
        "      Neural Network with convolutional network architecture defined above\n",
        "    '''\n",
        "\n",
        "    def __init__(self, num_inputs, num_outputs):\n",
        "        super(ConvNet1, self).__init__()\n",
        "\n",
        "        # Initialize parameters, layer, functions of the network\n",
        "\n",
        "        # Size of outputs\n",
        "        self.num_inputs = num_inputs\n",
        "        self.num_outputs = num_outputs\n",
        "        self.num_to_flatten = 98*128\n",
        "\n",
        "        # Convolution 10x16\n",
        "        self.conv1 = torch.nn.Conv1d(2, 16, kernel_size=10, stride=5, padding=0)\n",
        "        # Convolution 5x128\n",
        "        self.conv2 = torch.nn.Conv1d(16, 128, kernel_size=5, stride=2, padding=0)\n",
        "\n",
        "        # 1d pooling\n",
        "        self.max_pooling = nn.MaxPool1d(2, stride=1)\n",
        "\n",
        "        # Linear\n",
        "        self.linear1 = nn.Linear(self.num_to_flatten, 64)\n",
        "        self.linear2 = nn.Linear(64, self.num_outputs)\n",
        "\n",
        "        # Activation functions\n",
        "        self.tanh = nn.Tanh()\n",
        "\n",
        "    def forward(self, input):\n",
        "        '''\n",
        "          Forward propagation of the network for a given input\n",
        "            args:\n",
        "              input: input data\n",
        "            return:\n",
        "              output: prediction of the NN for input\n",
        "        '''\n",
        "\n",
        "        # First convolution layer with tanh\n",
        "        output = self.tanh(self.conv1(input)) # 1024x2 - 203x16\n",
        "        output = self.max_pooling(output) # 201x16\n",
        "\n",
        "        # Second convolution layer with tanh\n",
        "        output = self.tanh(self.conv2(output)) # 99x128\n",
        "        output = self.max_pooling(output) # 98x128\n",
        "\n",
        "        # Flatten\n",
        "        output = torch.flatten(output, 1) # (98*128)x1\n",
        "\n",
        "        # First linear layer with tanh\n",
        "        output = self.tanh(self.linear1(output)) # 64x1\n",
        "\n",
        "        # Second linear layer : output\n",
        "        output = self.linear2(output) # 7x1\n",
        "\n",
        "        return output"
      ],
      "metadata": {
        "id": "tb2-LSlAJYZT"
      },
      "id": "tb2-LSlAJYZT",
      "execution_count": null,
      "outputs": []
    },
    {
      "cell_type": "code",
      "source": [
        "# Cuda\n",
        "device = torch.device(\"cuda:0\" if torch.cuda.is_available() else \"cpu\")\n",
        "\n",
        "# Hyper-Parameters\n",
        "batch_size = 64   # input batch size for training\n",
        "epochs = 35      # number of epochs to train\n",
        "lr = 0.01         # learning rate\n",
        "\n",
        "# Get dataloaders\n",
        "train_loader, val_loader, test_loader = get_dataloader(device, batch_size)"
      ],
      "metadata": {
        "id": "2SUK5t6tFkN2"
      },
      "id": "2SUK5t6tFkN2",
      "execution_count": null,
      "outputs": []
    },
    {
      "cell_type": "code",
      "source": [
        "# Initialize network, optimizer\n",
        "dim_inputs, dim_outputs = 2*1024, 7\n",
        "network = ConvNet1(dim_inputs, dim_outputs)\n",
        "network.to(device)\n",
        "\n",
        "optimizer = optim.SGD(network.parameters(), lr=lr)\n",
        "\n",
        "# Train the network\n",
        "for epoch in range(1, epochs):\n",
        "    train(epoch, network, train_loader)\n",
        "    current_accuracy = validation(epoch, network, val_loader, True)\n",
        "\n",
        "    # Save the model\n",
        "    if(current_accuracy > best_acc):\n",
        "      print(f'Model savec with {current_accuracy}%.')\n",
        "      model_file = path_folder + '/model_1.pth'\n",
        "      torch.save(network.state_dict(), model_file)\n",
        "      best_acc = current_accuracy"
      ],
      "metadata": {
        "id": "DWL58LZgM_gB"
      },
      "id": "DWL58LZgM_gB",
      "execution_count": null,
      "outputs": []
    },
    {
      "cell_type": "markdown",
      "source": [
        "### 2.2 - Modèle 2\n",
        "\n",
        "- Convolution with 9 by 1 filters, 16 feature maps + ReLU.\n",
        "\n",
        "- 2 by 1 max pooling with stride = 1\n",
        "\n",
        "- Convolution with 7 by 1 filters, 64 feature maps + ReLU.\n",
        "\n",
        "- 2 by 1 max pooling with stride = 1\n",
        "\n",
        "- Convolution with 5 by 1 filters, 128 feature maps + ReLU.\n",
        "\n",
        "- 2 by 1 max pooling.\n",
        "\n",
        "- Flatten to vector.\n",
        "\n",
        "- Linear layer with 64 hidden units + ReLU.\n",
        "\n",
        "- Linear layer to 7 output units."
      ],
      "metadata": {
        "id": "rQHiQ-GKHAQo"
      },
      "id": "rQHiQ-GKHAQo"
    },
    {
      "cell_type": "code",
      "source": [
        "class ConvNet2(nn.Module):\n",
        "    '''\n",
        "      Neural Network with convolutional network architecture defined above\n",
        "    '''\n",
        "\n",
        "    def __init__(self, num_inputs, num_outputs):\n",
        "        super(ConvNet2, self).__init__()\n",
        "\n",
        "        # Initialize parameters, layer, functions of the network\n",
        "\n",
        "        # Size of outputs\n",
        "        self.num_inputs = num_inputs\n",
        "        self.num_outputs = num_outputs\n",
        "        self.num_to_flatten = 122*128\n",
        "\n",
        "        # Convolution 9x16\n",
        "        self.conv1 = torch.nn.Conv1d(2, 16, kernel_size=9, stride=2, padding=0)\n",
        "        # Convolution 7x64\n",
        "        self.conv2 = torch.nn.Conv1d(16, 64, kernel_size=7, stride=2, padding=0)\n",
        "        # Convolution 5x128\n",
        "        self.conv3 = torch.nn.Conv1d(64, 128, kernel_size=5, stride=2, padding=0)\n",
        "\n",
        "        # 1d pooling\n",
        "        self.max_pooling = nn.MaxPool1d(2, stride=1)\n",
        "\n",
        "        # Dropout\n",
        "        self.dropout1 = nn.Dropout(p=0.2)\n",
        "        self.dropout2 = nn.Dropout(p=0.1)\n",
        "\n",
        "        # Linear\n",
        "        self.linear1 = nn.Linear(self.num_to_flatten, 1024) # 64\n",
        "        self.linear2 = nn.Linear(1024, 512) # 64 x 64\n",
        "        self.linear3 = nn.Linear(512, self.num_outputs)\n",
        "\n",
        "        # Activation functions\n",
        "        self.relu = nn.ReLU()\n",
        "\n",
        "    def forward(self, input):\n",
        "        '''\n",
        "          Forward propagation of the network for a given input\n",
        "            args:\n",
        "              input: input data\n",
        "            return:\n",
        "              output: prediction of the NN for input\n",
        "        '''\n",
        "\n",
        "        # 1 convolution layer with relu\n",
        "        output = self.relu(self.conv1(input)) # 1024x2 - 508x16\n",
        "        output = self.max_pooling(output) # 507x16\n",
        "\n",
        "        # 2 convolution layer with relu\n",
        "        output = self.relu(self.conv2(output)) # 251x64\n",
        "        output = self.max_pooling(output) # 250x64\n",
        "\n",
        "        # 3 convolution layer with relu\n",
        "        output = self.relu(self.conv3(output)) # 123x128\n",
        "        output = self.max_pooling(output) # 122x128\n",
        "        print(output.shape)\n",
        "        # Flatten\n",
        "        output = torch.flatten(output, 1) # (122*128)x1\n",
        "        print(output.shape)\n",
        "        # First linear layer with relu\n",
        "        output = self.dropout1(output) # Dropout 0.4\n",
        "        output = self.relu(self.linear1(output)) # 64x1\n",
        "\n",
        "        # First linear layer with relu\n",
        "        output = self.dropout2(output) # Dropout 0.2\n",
        "        output = self.relu(self.linear2(output)) # 64x1\n",
        "\n",
        "        # Second linear layer : output\n",
        "        output = self.linear3(output) # 7x1\n",
        "\n",
        "        return output"
      ],
      "metadata": {
        "id": "JE_oDtUFJiZV"
      },
      "id": "JE_oDtUFJiZV",
      "execution_count": null,
      "outputs": []
    },
    {
      "cell_type": "code",
      "source": [
        "# Cuda\n",
        "device = torch.device(\"cuda:0\" if torch.cuda.is_available() else \"cpu\")\n",
        "\n",
        "# Hyper-Parameters\n",
        "batch_size = 32   # input batch size for training\n",
        "epochs = 30      # number of epochs to train\n",
        "lr = 0.01         # learning rate"
      ],
      "metadata": {
        "id": "Q3ypg8PDuK9q"
      },
      "id": "Q3ypg8PDuK9q",
      "execution_count": null,
      "outputs": []
    },
    {
      "cell_type": "code",
      "source": [
        "# Get dataloaders\n",
        "train_loader, val_loader, test_loader = get_dataloader(device, batch_size)\n",
        "\n",
        "# Initialize network, optimizer and scheduler\n",
        "dim_inputs, dim_outputs = 2*1024, 7\n",
        "network = ConvNet2(dim_inputs, dim_outputs)\n",
        "network.to(device)\n",
        "\n",
        "optimizer = optim.SGD(network.parameters(), lr=lr)\n",
        "\n",
        "for epoch in range(1, epochs):\n",
        "    train(epoch, network, train_loader)\n",
        "    current_accuracy = validation(epoch, network, val_loader, True)\n",
        "\n",
        "    # Save the model\n",
        "    if(current_accuracy > best_acc):\n",
        "      print(f'Model savec with {current_accuracy}%.')\n",
        "      model_file = path_folder + '/model_2.pth'\n",
        "      torch.save(network.state_dict(), model_file)\n",
        "      best_acc = current_accuracy"
      ],
      "metadata": {
        "id": "JmLdvddoKivU"
      },
      "id": "JmLdvddoKivU",
      "execution_count": null,
      "outputs": []
    },
    {
      "cell_type": "markdown",
      "source": [
        "### Modèle 3"
      ],
      "metadata": {
        "id": "NUt5U9qy8jUi"
      },
      "id": "NUt5U9qy8jUi"
    },
    {
      "cell_type": "code",
      "source": [
        "class ConvNet3(nn.Module):\n",
        "    '''\n",
        "      Neural Network with convolutional network architecture defined above\n",
        "    '''\n",
        "\n",
        "    def __init__(self, num_inputs, num_outputs):\n",
        "        super(ConvNet3, self).__init__()\n",
        "\n",
        "        # Initialize parameters, layer, functions of the network\n",
        "\n",
        "        # Size of outputs\n",
        "        self.num_inputs = num_inputs\n",
        "        self.num_outputs = num_outputs\n",
        "        self.num_to_flatten = 64*60\n",
        "\n",
        "        # Convolution 5x4\n",
        "        self.conv1 = torch.nn.Conv1d(2, 64, kernel_size=5, stride=1, padding=0)\n",
        "        # Convolution 5x8\n",
        "        self.conv2 = torch.nn.Conv1d(64, 64, kernel_size=5, stride=1, padding=0)\n",
        "        # Convolution 5x16\n",
        "        self.conv3 = torch.nn.Conv1d(64, 64, kernel_size=5, stride=1, padding=0)\n",
        "        # Convolution 5x32\n",
        "        self.conv4 = torch.nn.Conv1d(64, 64, kernel_size=5, stride=1, padding=0)\n",
        "\n",
        "        # 1d pooling\n",
        "        self.max_pooling = nn.MaxPool1d(2)\n",
        "\n",
        "        # Dropout\n",
        "        self.dropout1 = nn.Dropout(p=0.1)\n",
        "        self.dropout2 = nn.Dropout(p=0.1)\n",
        "\n",
        "        # Linear\n",
        "        self.linear1 = nn.Linear(self.num_to_flatten, 1024)\n",
        "        self.linear2 = nn.Linear(1024, 20)\n",
        "\n",
        "        # Activation functions\n",
        "        self.relu = nn.ReLU()\n",
        "\n",
        "    def forward(self, input):\n",
        "        '''\n",
        "          Forward propagation of the network for a given input\n",
        "            args:\n",
        "              input: input data\n",
        "            return:\n",
        "              output: prediction of the NN for input\n",
        "        '''\n",
        "\n",
        "        # 1 convolution layer with relu\n",
        "        output = self.relu(self.conv1(input)) # 64x1020\n",
        "        output = self.max_pooling(output) # 64x510\n",
        "\n",
        "        # 2 convolution layer with relu\n",
        "        output = self.relu(self.conv2(output))  # 64x506\n",
        "        output = self.max_pooling(output) # 64x253\n",
        "\n",
        "        # 3 convolution layer with relu\n",
        "        output = self.relu(self.conv3(output)) # 64x249\n",
        "        output = self.max_pooling(output) # 64x124\n",
        "\n",
        "        # 3 convolution layer with relu\n",
        "        output = self.relu(self.conv4(output)) # 64x120\n",
        "        output = self.max_pooling(output) # 64x60\n",
        "        \n",
        "        # Flatten\n",
        "        output = torch.flatten(output, 1) # 3840x1\n",
        "\n",
        "        # First linear layer with relu\n",
        "        output = self.dropout1(output)\n",
        "        output = self.relu(self.linear1(output)) # 1024x1\n",
        "\n",
        "        # Second linear layer : output\n",
        "        output = self.linear2(output) # 7x1\n",
        "\n",
        "        return output"
      ],
      "metadata": {
        "id": "IJ1lLE2w8liu"
      },
      "id": "IJ1lLE2w8liu",
      "execution_count": null,
      "outputs": []
    },
    {
      "cell_type": "code",
      "source": [
        "# Cuda\n",
        "device = torch.device(\"cuda:0\" if torch.cuda.is_available() else \"cpu\")\n",
        "\n",
        "# Hyper-Parameters\n",
        "batch_size = 32   # input batch size for training\n",
        "epochs = 50      # number of epochs to train\n",
        "lr = 0.001         # learning rate"
      ],
      "metadata": {
        "id": "txOnz0Mu9foV"
      },
      "id": "txOnz0Mu9foV",
      "execution_count": null,
      "outputs": []
    },
    {
      "cell_type": "code",
      "source": [
        "# Get dataloaders\n",
        "train_loader, val_loader, test_loader = get_dataloader(device, batch_size)\n",
        "\n",
        "# Initialize network, optimizer and scheduler\n",
        "dim_inputs, dim_outputs = 2*1024, 7\n",
        "network = ConvNet3(dim_inputs, dim_outputs)\n",
        "network.to(device)\n",
        "\n",
        "# Optimizer\n",
        "#optimizer = optim.SGD(network.parameters(), lr=lr)\n",
        "optimizer = optim.Adam(network.parameters(), lr=lr)\n",
        "\n",
        "# Scheduler\n",
        "scheduler = lr_scheduler.StepLR(optimizer, step_size=10, gamma=0.1)\n",
        "\n",
        "best_acc = 0.0\n",
        "\n",
        "# Train the network\n",
        "for epoch in range(1, epochs):\n",
        "    train(epoch, network, train_loader)\n",
        "    current_accuracy = validation(epoch, network, val_loader, True)\n",
        "\n",
        "    # Scheduler step\n",
        "    scheduler.step()\n",
        "\n",
        "    # Save the model\n",
        "    if(current_accuracy > best_acc):\n",
        "      print(f'Model saved with {current_accuracy:.2f}% !\\n')\n",
        "      model_file = path_folder + '/model_3.pth'\n",
        "      torch.save(network.state_dict(), model_file)\n",
        "      best_acc = current_accuracy"
      ],
      "metadata": {
        "id": "JgmwViUh9g-6"
      },
      "id": "JgmwViUh9g-6",
      "execution_count": null,
      "outputs": []
    },
    {
      "cell_type": "markdown",
      "source": [
        "### Sélection du modèle\n",
        "\n",
        "Le modèle 3 est le modèle avec la meilleure Accuracy sur l'échantilon de validation (78% pour le modèle 3 VS 70% pour le modèle 2 et 3). C'est donc le modèle final retenu pour le valider sur l'échantillon de test.\n",
        "\n",
        "Remarque :\n",
        "\n",
        " Les premiers modèles présentent des changements de channels trop aggressifs (16, 32 et 64). L'objectif des CNN est de faire un embedding de l'input, donc de projeter l'input dans un espace de dimension différent. Pour ensuite classifier l'embedding avec les couches finales du network. On s'inspire de l'architecture ResNet qui est une supperposition de CNN avec 64 channels et kernel=3.\n",
        "\n",
        "De plus, l'utiliser de l'optimizer Adam permet de faire converger le modèle plus rapidement vers la solution optimale."
      ],
      "metadata": {
        "id": "VPlBMACTP2ZA"
      },
      "id": "VPlBMACTP2ZA"
    },
    {
      "cell_type": "markdown",
      "source": [
        "### 3 - Test des modèles pour chaque SNR\n",
        "\n",
        "Tout dabord, on charge le modèle final retenu : le modèle 3."
      ],
      "metadata": {
        "id": "fp5viKoCZxt5"
      },
      "id": "fp5viKoCZxt5"
    },
    {
      "cell_type": "code",
      "source": [
        "# Load the model and evaluate it on the test set\n",
        "model_path = path_folder + '/model_3.pth' # Path of the chosen model\n",
        "state_dict = torch.load(model_path)\n",
        "dim_inputs, dim_outputs = 2*1024, 7\n",
        "model = ConvNet3(dim_inputs, dim_outputs)\n",
        "model.to(device)\n",
        "model.load_state_dict(state_dict)"
      ],
      "metadata": {
        "colab": {
          "base_uri": "https://localhost:8080/"
        },
        "id": "DNe7EDmaN8Qo",
        "outputId": "b0e8bac0-94b9-4625-ea4f-c18cabd786be"
      },
      "id": "DNe7EDmaN8Qo",
      "execution_count": null,
      "outputs": [
        {
          "output_type": "execute_result",
          "data": {
            "text/plain": [
              "<All keys matched successfully>"
            ]
          },
          "metadata": {},
          "execution_count": 133
        }
      ]
    },
    {
      "cell_type": "markdown",
      "source": [
        "Ensuite, récupérer les données de test, séparées pour chaque SNR.\n",
        "\n",
        "Ensuite, le modèle est testé sur les signaux SNR par SNR et l'accuracy est affichée pour chaque SNR."
      ],
      "metadata": {
        "id": "afBvUwvQkYpZ"
      },
      "id": "afBvUwvQkYpZ"
    },
    {
      "cell_type": "code",
      "source": [
        "from pandas.core.dtypes.cast import maybe_box_datetimelike\n",
        "# Road dataframe\n",
        "test_path = '/content/drive/MyDrive/MVA/Cours/I&I_Signal/augmod_test.hdf5'\n",
        "\n",
        "# Open files\n",
        "test_data = h5py.File(test_path , 'r')\n",
        "\n",
        "# Get data as arrays\n",
        "test_signals, test_labels_id, test_snr = np.array(test_data['signals']), np.array(test_data['type']), np.array(test_data['snr'])\n",
        "  \n",
        "\n",
        "signalsPerSNR = {0.0:[], 10.0:[], 20.0:[], 30.0:[], 40.0:[]}\n",
        "labelsPerSNR = {0.0:[], 10.0:[], 20.0:[], 30.0:[], 40.0:[]}\n",
        "\n",
        "for i in range(len(test_snr)):\n",
        "\n",
        "  signalsPerSNR[test_snr[i]].append(test_signals[i])\n",
        "  labelsPerSNR[test_snr[i]].append(test_labels_id[i])\n",
        "\n",
        "accuracyPerSNR = {0.0:0, 10.0:0, 20.0:0, 30.0:0, 40.0:0}\n",
        "\n",
        "for snr in [0.0, 10.0, 20.0, 30.0, 40.0]:\n",
        "\n",
        "  # Arrays to Tensor\n",
        "  test_tensor_x, test_tensor_y = torch.Tensor(signalsPerSNR[snr]), torch.Tensor(labelsPerSNR[snr]).type(torch.LongTensor)\n",
        "\n",
        "  # Tensor cuda\n",
        "  test_tensor_x = test_tensor_x.to(device); test_tensor_y = test_tensor_y.to(device)\n",
        "\n",
        "  # Tensor to TensorDataset\n",
        "  test_dataset = TensorDataset(test_tensor_x, test_tensor_y)\n",
        "\n",
        "  #TensorDataset to DataLoader\n",
        "  test_loader_current = DataLoader(test_dataset, batch_size=batch_size)\n",
        "\n",
        "  # Validate on the current loader\n",
        "  accuracy_current = validation(0, model, test_loader_current, False)\n",
        "\n",
        "  accuracyPerSNR[snr] = accuracy_current"
      ],
      "metadata": {
        "id": "ooh28_qacQlm"
      },
      "id": "ooh28_qacQlm",
      "execution_count": null,
      "outputs": []
    },
    {
      "cell_type": "code",
      "source": [
        "# Get the overall accuracy on the test set\n",
        "overall_accuracy = validation(0, model, test_loader, False)\n",
        "print(f\"Accuracy globale sur l'échantillon de test: {overall_accuracy:.2f}\")"
      ],
      "metadata": {
        "colab": {
          "base_uri": "https://localhost:8080/"
        },
        "id": "XaYdbzhVm2go",
        "outputId": "c7fb7d12-22f4-45f9-810c-108598f44eda"
      },
      "id": "XaYdbzhVm2go",
      "execution_count": null,
      "outputs": [
        {
          "output_type": "stream",
          "name": "stdout",
          "text": [
            "Accuracy globale sur l'échantillon de test: 77.59\n"
          ]
        }
      ]
    },
    {
      "cell_type": "markdown",
      "source": [
        "Affichage des résultats sous forme de barPlot."
      ],
      "metadata": {
        "id": "4J-xfoS8kley"
      },
      "id": "4J-xfoS8kley"
    },
    {
      "cell_type": "code",
      "source": [
        "# Rearrange data for the barPlot\n",
        "snr = list(accuracyPerSNR.keys())\n",
        "correct = [i.item() for i in list(accuracyPerSNR.values())]\n",
        "error = [100 - i for i in correct]\n",
        "\n",
        "# Parameter of the plot\n",
        "barWidth = 8\n",
        "names = ('0.0', '10.0', '20.0', '30.0', '40.0')\n",
        "plt.figure(figsize=(7, 5)) \n",
        "\n",
        "# Plot\n",
        "plt.bar(snr, correct, color='#b5ffb9', edgecolor='white', width=barWidth, label=\"Accuracy\") # Accuracy\n",
        "plt.bar(snr, error, bottom=correct, color='#f9bc86', edgecolor='white', width=barWidth, label=\"Error\") # Error\n",
        "plt.axhline(y = overall_accuracy, color = 'black', linestyle = 'dashed') # Overall accuracy on the validation set\n",
        "\n",
        "# Custom figure\n",
        "plt.xticks(snr, names)\n",
        "plt.xlabel(\"SNR\"); plt.ylabel(\"Accuracy/Error\")\n",
        "plt.title(\"Accuracy/Error BarPlot VS SNR\")\n",
        "plt.legend(loc='upper left', bbox_to_anchor=(1,1), ncol=1)\n",
        "plt.show()"
      ],
      "metadata": {
        "colab": {
          "base_uri": "https://localhost:8080/",
          "height": 350
        },
        "id": "9z-394XmjV4y",
        "outputId": "2c3d55bf-77ce-43d5-c41d-441f9f0b3f65"
      },
      "id": "9z-394XmjV4y",
      "execution_count": null,
      "outputs": [
        {
          "output_type": "display_data",
          "data": {
            "text/plain": [
              "<Figure size 504x360 with 1 Axes>"
            ],
            "image/png": "[encoded data removed]"
          },
          "metadata": {
            "needs_background": "light"
          }
        }
      ]
    },
    {
      "cell_type": "markdown",
      "source": [
        "## Observations:\n",
        "\n",
        "Le modèle présente une accuracy globale de 77.59%.\n",
        "\n",
        "Pour les SNR de 10, 20, 30 et 40 : l'accuracy est très bonne et dépasse 80% pour chacune de ces SNR.\n",
        "\n",
        "Pour le SNR=0, on remarque que le modèle a beaucoup de difficultés à détecter la classe du signal si son SNR est 0."
      ],
      "metadata": {
        "id": "BCImpyaDR5W1"
      },
      "id": "BCImpyaDR5W1"
    },
    {
      "cell_type": "markdown",
      "source": [
        "## Conclusion\n",
        "\n",
        "En conclusion, ce TP m'a permis de prendre en main Pytorch et l'implémentation de réseaux de neurones de type CNN pour la classification de signaux.\n",
        "\n",
        "Il est nécessaire de prendre une architecture qui permet un embedding correct afin de classifier correctement le signal en couche finale. Le learning rate et optimizer a un fort impact sur les performances du modèle.\n",
        "\n",
        "Enfin pour améliorer ce modèle, on peut éventuellement essayer un autre type de modèle avec RNN/LSTM. Ou encore proposer un modèle qui classifie le SNR du signal (0 vs 10..40) pour ré-entrainer un modèle indépendant uniquement sur les signaux avec un SNR égale à 0."
      ],
      "metadata": {
        "id": "E9QGcZpRSQCm"
      },
      "id": "E9QGcZpRSQCm"
    },
    {
      "cell_type": "markdown",
      "source": [
        "# FIN\n",
        "\n",
        "Merci pour votre lecture ! \n",
        "\n",
        "Théo Di Piazza\n",
        "\n",
        "---"
      ],
      "metadata": {
        "id": "txVIx6lzSyVY"
      },
      "id": "txVIx6lzSyVY"
    }
  ],
  "metadata": {
    "kernelspec": {
      "display_name": "Python 3 (ipykernel)",
      "language": "python",
      "name": "python3"
    },
    "language_info": {
      "codemirror_mode": {
        "name": "ipython",
        "version": 3
      },
      "file_extension": ".py",
      "mimetype": "text/x-python",
      "name": "python",
      "nbconvert_exporter": "python",
      "pygments_lexer": "ipython3",
      "version": "3.8.10"
    },
    "colab": {
      "provenance": []
    },
    "accelerator": "GPU",
    "gpuClass": "standard"
  },
  "nbformat": 4,
  "nbformat_minor": 5
}