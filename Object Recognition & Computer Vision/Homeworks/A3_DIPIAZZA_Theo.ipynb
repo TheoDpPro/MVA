{
  "nbformat": 4,
  "nbformat_minor": 0,
  "metadata": {
    "colab": {
      "provenance": []
    },
    "kernelspec": {
      "name": "python3",
      "display_name": "Python 3"
    },
    "language_info": {
      "name": "python"
    },
    "accelerator": "GPU",
    "gpuClass": "standard"
  },
  "cells": [
    {
      "cell_type": "markdown",
      "source": [
        "# Object recognition and computer vision 2022-2023\n",
        "\n",
        "## Assignment 3: Image classification\n",
        "\n",
        "### Adapted from: Rob Fergus and Soumith Chintala\n",
        "\n",
        "### Student: Théo Di Piazza (MVA)"
      ],
      "metadata": {
        "id": "S_2ukbjJQ6W2"
      }
    },
    {
      "cell_type": "code",
      "source": [
        "# Import libraries\n",
        "import argparse\n",
        "import os\n",
        "import glob\n",
        "import imgaug as ia\n",
        "import imgaug.augmenters as iaa\n",
        "import numpy as np\n",
        "import warnings\n",
        "import torch\n",
        "import torchvision\n",
        "import torch.nn as nn\n",
        "import torch.optim as optim\n",
        "import torch.nn.functional as F\n",
        "import torchvision.transforms as transforms\n",
        "import matplotlib.pyplot as plt\n",
        "import PIL.Image as Image\n",
        "from torchvision import datasets\n",
        "from torchvision.models import resnet18, resnet50, resnet152\n",
        "from torchvision.models.detection import maskrcnn_resnet50_fpn\n",
        "from torch.autograd import Variable\n",
        "from torch.optim import lr_scheduler\n",
        "from skimage.io import imsave\n",
        "from math import ceil, floor\n",
        "from PIL import ImageOps\n",
        "from tqdm import tqdm\n",
        "\n",
        "# Connect to Google Drive\n",
        "from google.colab import drive\n",
        "drive.mount('/content/drive')\n",
        "\n",
        "# Folder of the project\n",
        "folder = '/content/drive/MyDrive/ENS_MVA/Object_Recognition/TP3' #os.path.join(folder, data)\n",
        "data_path = os.path.join(folder, 'bird_dataset_github') # Path of the bird dataset\n",
        "data_path = os.path.join(folder, 'bird_dataset_cropped_github') # Path of the bird dataset\n",
        "\n",
        "# Hide warnings\n",
        "warnings.filterwarnings('ignore')\n",
        "warnings.simplefilter('ignore')"
      ],
      "metadata": {
        "colab": {
          "base_uri": "https://localhost:8080/"
        },
        "id": "XDPm_dI2RKHi",
        "outputId": "47518377-f005-4398-ab82-ed12821105d0"
      },
      "execution_count": 2,
      "outputs": [
        {
          "output_type": "stream",
          "name": "stdout",
          "text": [
            "Mounted at /content/drive\n"
          ]
        }
      ]
    },
    {
      "cell_type": "code",
      "source": [
        "# Training settings\n",
        "batch_size = 16 # default 64\n",
        "epochs = 50 \n",
        "lr = 0.1 # default learning rate\n",
        "momentum = 0.5 # SGD momentum\n",
        "seed = 1 # random seed\n",
        "log_interval = 10 # how many batches to wait before logging training status\n",
        "experiment = \"experiment\" # folder where experiment outputs are located.\n",
        "use_cuda = torch.cuda.is_available() # use cuda if available"
      ],
      "metadata": {
        "id": "7qS-cuApSlit"
      },
      "execution_count": 12,
      "outputs": []
    },
    {
      "cell_type": "markdown",
      "source": [
        "## Chapters:\n",
        "\n",
        "- Load data\n",
        "\n",
        "- Pre-processing\n",
        "\n",
        "- Display data\n",
        "\n",
        "- Models\n",
        "\n",
        "- Training\n",
        "\n",
        "- Evaluation"
      ],
      "metadata": {
        "id": "zPt05ygfY9e7"
      }
    },
    {
      "cell_type": "markdown",
      "source": [
        "## Load data"
      ],
      "metadata": {
        "id": "WOU4_oOgwIq5"
      }
    },
    {
      "cell_type": "code",
      "source": [
        "input_size = 224 # default 64\n",
        "\n",
        "# transforms to load data\n",
        "data_transforms = transforms.Compose([\n",
        "    transforms.Resize((input_size, input_size)),\n",
        "    transforms.RandomHorizontalFlip(),\n",
        "    transforms.ToTensor(),\n",
        "    # For Data Augmentation\n",
        "    transforms.RandomRotation([10, 20], interpolation=Image.BILINEAR), # Rotation\n",
        "    #transforms.GaussianBlur(5, 1), # Gaussian Blur\n",
        "    transforms.Normalize(mean=[0.485, 0.456, 0.406],\n",
        "                                 std=[0.229, 0.224, 0.225])\n",
        "])\n",
        "\n",
        "# transforms to load initial data without data augmentation\n",
        "data_transforms_print = transforms.Compose([\n",
        "    transforms.Resize((input_size, input_size)),\n",
        "    transforms.ToTensor()\n",
        "])"
      ],
      "metadata": {
        "id": "E9s3GkO6wJvA"
      },
      "execution_count": 13,
      "outputs": []
    },
    {
      "cell_type": "code",
      "source": [
        "# Load data with DataLoader\n",
        "print(f'Data will be loaded from {data_path}\\n')\n",
        "\n",
        "# train set\n",
        "train_loader = torch.utils.data.DataLoader(\n",
        "    datasets.ImageFolder(os.path.join(data_path, 'train_images'),\n",
        "                         transform=data_transforms),\n",
        "    batch_size=batch_size, shuffle=True, num_workers=1) # Load it\n",
        "if(train_loader):\n",
        "  print('Train set loaded successfully!')\n",
        "\n",
        "# validation set\n",
        "val_loader = torch.utils.data.DataLoader(\n",
        "    datasets.ImageFolder(os.path.join(data_path, 'val_images'),\n",
        "                         transform=data_transforms),\n",
        "    batch_size=batch_size, shuffle=False, num_workers=1) # Load it\n",
        "if(val_loader):\n",
        "  print('Validation set loaded successfully!')\n",
        "\n",
        "# original dataset to print\n",
        "original_loader = torch.utils.data.DataLoader(\n",
        "    datasets.ImageFolder(os.path.join(data_path, 'val_images'),\n",
        "                         transform=data_transforms_print),\n",
        "    batch_size=batch_size, shuffle=True, num_workers=1) # Load it\n",
        "if(original_loader):\n",
        "  print('Original to be printed loaded successfully!')"
      ],
      "metadata": {
        "id": "aP9EVodJwmnt",
        "colab": {
          "base_uri": "https://localhost:8080/"
        },
        "outputId": "9368d056-41a5-4fbe-b6ae-ae139fd48a7e"
      },
      "execution_count": 14,
      "outputs": [
        {
          "output_type": "stream",
          "name": "stdout",
          "text": [
            "Data will be loaded from /content/drive/MyDrive/ENS_MVA/Object_Recognition/TP3/bird_dataset_cropped_github\n",
            "\n",
            "Train set loaded successfully!\n",
            "Validation set loaded successfully!\n",
            "Original to be printed loaded successfully!\n"
          ]
        }
      ]
    },
    {
      "cell_type": "markdown",
      "source": [
        "# Pre-Processing : Segmentation the bird\n",
        "\n",
        "The code bellow uses a R-CNN to segment/crop the bird from the initial image, in order to help the model to recognize it. If the bird is not found in the image, the initial image is conserved.\n",
        "\n",
        "This code was run in the 'Pre-Processing Step' of the project, so before training models."
      ],
      "metadata": {
        "id": "sx3NHgu9ZWWU"
      }
    },
    {
      "cell_type": "code",
      "source": [
        "# Pre-trained model to crop the bird\n",
        "# https://pytorch.org/vision/main/models/generated/torchvision.models.detection.maskrcnn_resnet50_fpn.html\n",
        "maskrcnn = maskrcnn_resnet50_fpn(pretrained = True).cuda() # Load it\n",
        "maskrcnn.eval()\n",
        "\n",
        "# To Tensor\n",
        "transformTens = transforms.Compose([transforms.ToTensor()])\n",
        "\n",
        "# Indice of bird for COCO list (Initialized before function)\n",
        "indice_bird = 16 # 16 is the index of 'BIRD' in the list of all available object\n",
        "\n",
        "# Function which crops the bird\n",
        "def crop_bird(img):\n",
        "  '''\n",
        "  From a given image, crops the bird if a bird is present.\n",
        "  Input:\n",
        "    img(JpegImageFile): Image of the original dataset.\n",
        "  Returns:\n",
        "    (img, 1 if image is croped 0 otherwise)\n",
        "  '''\n",
        "\n",
        "  bird_found = 0 # Flag to indicate if a bird was found or not\n",
        "  img_cropped = img\n",
        "\n",
        "  # img to cuda\n",
        "  img = transformTens(img).cuda()\n",
        "\n",
        "  results_maskrcnn = maskrcnn([img]) # Get results from Mask RCNN\n",
        "  labels_found = results_maskrcnn[0]['labels'].tolist() # Get labels found\n",
        "\n",
        "  # If BIRD class was found by the model\n",
        "  if(indice_bird in labels_found):\n",
        "    \n",
        "    bird_found = 1 # BIRD class was found\n",
        "\n",
        "    scores_found = results_maskrcnn[0]['scores'].tolist() # Get scores of these labels\n",
        "    box_found = results_maskrcnn[0]['boxes'].tolist()[labels_found.index(indice_bird)] # Get box to crop the bird\n",
        "\n",
        "    # Extract the bird from its box\n",
        "    x_left = ceil(box_found[0]) # Coordinates of the box\n",
        "    x_right = floor(box_found[2])\n",
        "    y_bot = ceil(box_found[1])\n",
        "    y_top = floor(box_found[3])\n",
        "\n",
        "    # Get the new image with only the bird\n",
        "    img_cropped = img.cpu().permute(1, 2, 0).numpy()\n",
        "    img_cropped = img_cropped[y_bot:y_top, x_left:x_right, :] \n",
        "\n",
        "  else:\n",
        "    img_cropped = img.cpu().permute(1, 2, 0).numpy()\n",
        "\n",
        "  return img_cropped, bird_found"
      ],
      "metadata": {
        "id": "5CpR-LovZZSh"
      },
      "execution_count": null,
      "outputs": []
    },
    {
      "cell_type": "markdown",
      "source": [
        "Once the function is implemented, the following code permits to loop over all images to extract the bird. Then, images are saved in annother folder."
      ],
      "metadata": {
        "id": "NBPsXrNrZbxi"
      }
    },
    {
      "cell_type": "code",
      "source": [
        "# Path of the directory of cropped images\n",
        "data_cropped_path = os.path.join(folder, 'bird_dataset_cropped')\n",
        "\n",
        "# Check if directory of cropped images already exist, if not create it\n",
        "if(not os.path.isdir(data_cropped_path)):\n",
        "\n",
        "  # Directory with cropped images\n",
        "  os.mkdir(data_cropped_path)\n",
        "\n",
        "  # Create train/val/test folders which contain images\n",
        "  os.mkdir(os.path.join(data_cropped_path, 'train_images'))\n",
        "  os.mkdir(os.path.join(data_cropped_path, 'val_images'))\n",
        "  os.mkdir(os.path.join(data_cropped_path, 'test_images'))\n",
        "  os.mkdir(os.path.join(data_cropped_path, 'test_images/mistery_category'))\n",
        "\n",
        "# Path of the directory with cropped images\n",
        "data_cropped_path = os.path.join(folder, 'bird_dataset_cropped')\n",
        "\n",
        "# Get all images from the initial dataset (train/val/test)\n",
        "images = glob.glob(data_path + '/*/*/*') \n",
        "\n",
        "# For each image\n",
        "for img_index in tqdm( range(len(images)) ):\n",
        "\n",
        "  # Get the image and its path\n",
        "  img, img_path = Image.open(images[img_index]), images[img_index]\n",
        "\n",
        "  # Crop the image\n",
        "  img_cropped, flag = crop_bird(img)\n",
        "  #img = transform(img).cuda()\n",
        "\n",
        "  # Get the path to save the cropped image\n",
        "  img_cropped_path = img_path.replace('bird_dataset', 'bird_dataset_cropped')\n",
        "\n",
        "  # If the path of the class does not exist, create it\n",
        "  os.makedirs(os.path.dirname(img_cropped_path), exist_ok=True)\n",
        "\n",
        "  # Save the image\n",
        "  imsave(img_cropped_path, (img_cropped*255).astype(np.uint8))"
      ],
      "metadata": {
        "id": "DB1PL6c6Zccq"
      },
      "execution_count": null,
      "outputs": []
    },
    {
      "cell_type": "markdown",
      "source": [
        "## Display data\n",
        "\n",
        "The code below will display 4 original pictures of the birds."
      ],
      "metadata": {
        "id": "E6vt29dL49uH"
      }
    },
    {
      "cell_type": "code",
      "source": [
        "# Function to show an image\n",
        "def imshow(imgs, nb_shown=4):\n",
        "  '''\n",
        "      Function to display ncol.nrow images with their labels\n",
        "    args:\n",
        "      imgs: (np.array) images\n",
        "      nb_shown: (int) number of birds to display. Please select between 1 and 10.\n",
        "    return:\n",
        "      None\n",
        "  '''\n",
        "\n",
        "  # Initialize subplot\n",
        "  plt.figure(figsize=(nb_shown, 1), dpi=150) # dpi controls resolution of figure\n",
        "\n",
        "  # For each image to display\n",
        "  i = 0 # Index of current image\n",
        "  for img in imgs:\n",
        "\n",
        "    i += 1\n",
        "\n",
        "    # Adjuste image format to display it\n",
        "    img = img.permute(1, 2, 0)\n",
        "\n",
        "    # Display the image\n",
        "    plt.subplot(1, nb_shown, i)\n",
        "    plt.imshow(img)\n",
        "\n",
        "    # Title and axes\n",
        "    plt.xticks(())\n",
        "    plt.yticks(())\n",
        "\n",
        "  plt.suptitle(f\"{nb_shown} images of bird from the test set\", fontsize=8)\n",
        "\n",
        "# Get training images  to display\n",
        "dataiter = iter(original_loader)\n",
        "images, labels = next(dataiter)\n",
        "\n",
        "# Number of images to show\n",
        "nb_shown = 4 # Please select between 1 and 10\n",
        "images = images[:nb_shown]\n",
        "\n",
        "# show images\n",
        "imshow(images, nb_shown)"
      ],
      "metadata": {
        "colab": {
          "base_uri": "https://localhost:8080/",
          "height": 176
        },
        "id": "mUdCfNwV7OIa",
        "outputId": "be54a62b-7750-43a2-f3c5-b0ef558398d4"
      },
      "execution_count": 10,
      "outputs": [
        {
          "output_type": "display_data",
          "data": {
            "text/plain": [
              "<Figure size 600x150 with 4 Axes>"
            ],
            "image/png": "[encoded data removed]"
          },
          "metadata": {}
        }
      ]
    },
    {
      "cell_type": "markdown",
      "source": [
        "# Model\n",
        "\n",
        "## Model 1 : Default from github"
      ],
      "metadata": {
        "id": "e6NKAxIBHkau"
      }
    },
    {
      "cell_type": "code",
      "source": [
        "# Class of the model\n",
        "nclasses = 20\n",
        "\n",
        "class Net(nn.Module):\n",
        "    def __init__(self):\n",
        "        super(Net, self).__init__()\n",
        "        self.conv1 = nn.Conv2d(3, 10, kernel_size=5)\n",
        "        self.conv2 = nn.Conv2d(10, 20, kernel_size=5)\n",
        "        self.conv3 = nn.Conv2d(20, 20, kernel_size=5)\n",
        "        self.fc1 = nn.Linear(320, 50)\n",
        "        self.fc2 = nn.Linear(50, nclasses)\n",
        "\n",
        "        self.dropout = nn.Dropout(0.1)\n",
        "\n",
        "    def forward(self, x):\n",
        "        x = F.relu(F.max_pool2d(self.conv1(x), 2))\n",
        "        x = F.relu(F.max_pool2d(self.conv2(x), 2))\n",
        "        x = F.relu(F.max_pool2d(self.conv3(x), 2))\n",
        "        x = x.view(-1, 320)\n",
        "        x = self.dropout(x)\n",
        "        x = F.relu(self.fc1(x))\n",
        "        return self.fc2(x)"
      ],
      "metadata": {
        "id": "7VV12E6EHmKC"
      },
      "execution_count": null,
      "outputs": []
    },
    {
      "cell_type": "markdown",
      "source": [
        "## Model 2 : ResNet + Linear Layers"
      ],
      "metadata": {
        "id": "5LPu2aEONC-Q"
      }
    },
    {
      "cell_type": "code",
      "source": [
        "nclasses = 20\n",
        "\n",
        "class ResNetLL(nn.Module):\n",
        "  \"\"\"\n",
        "  Model which uses ResNet followed by linear layers\n",
        "  \"\"\"\n",
        "  \n",
        "  def __init__(self, version='50'):\n",
        "    '''\n",
        "    Initializes the model\n",
        "    Input:\n",
        "      version(str): version of the Resnet (50, 152...)\n",
        "    '''\n",
        "    super(ResNetLL, self).__init__()\n",
        "    if(version=='18'):\n",
        "      resnet = resnet18(pretrained=True)\n",
        "    if(version=='50'):\n",
        "      resnet = resnet50(pretrained=True)\n",
        "    elif(version=='152'):\n",
        "      resnet = resnet152(pretrained=True)\n",
        "    if(resnet):\n",
        "      print(f'ResNet{version} was loaded successfully!')\n",
        "  \n",
        "    # Extract layers of interest\n",
        "    wanted_layers = list(resnet.children())[:-1]\n",
        "\n",
        "    # ResNet Layer\n",
        "    self.resnet = nn.Sequential(*wanted_layers)\n",
        "    \n",
        "    # Linear Layers - Change dimensions if wanted\n",
        "    self.linear1 = nn.Linear(resnet.fc.in_features, 1000)\n",
        "    self.linear2 = nn.Linear(1000, nclasses)\n",
        "\n",
        "    # Dropout - Change probabilities\n",
        "    self.dropout1 = nn.Dropout(p=0.6)\n",
        "    self.dropout2 = nn.Dropout(p=0.4)\n",
        "    \n",
        "  def forward(self, x):\n",
        "    '''\n",
        "    Forward propagation of the Net for a given x.\n",
        "    '''\n",
        "    # First step : Resnet\n",
        "    output = self.resnet(x)\n",
        "    output = output.view(output.size(0), -1)\n",
        "\n",
        "    # Linear Layer + Dropout + ReLU\n",
        "    output = self.dropout1(output)\n",
        "    output = F.relu(self.linear1(output))\n",
        "    \n",
        "    # Linear Layer + Dropout + ReLU\n",
        "    output = self.dropout2(output)\n",
        "    output = F.relu(self.linear2(output))\n",
        "\n",
        "    return output"
      ],
      "metadata": {
        "id": "kfLHgkknRgy4"
      },
      "execution_count": 15,
      "outputs": []
    },
    {
      "cell_type": "markdown",
      "source": [
        "### Train and Test functions"
      ],
      "metadata": {
        "id": "goGTmGGGIua2"
      }
    },
    {
      "cell_type": "code",
      "source": [
        "def train(epoch):\n",
        "    '''\n",
        "    Train the model for a given epoch\n",
        "    '''\n",
        "    model.train()\n",
        "    for batch_idx, (data, target) in enumerate(train_loader):\n",
        "        if use_cuda:\n",
        "            data, target = data.cuda(), target.cuda()\n",
        "        optimizer.zero_grad()\n",
        "        output = model(data)\n",
        "        criterion = torch.nn.CrossEntropyLoss(reduction='mean')\n",
        "        loss = criterion(output, target)\n",
        "        loss.backward()\n",
        "        optimizer.step()\n",
        "        if batch_idx % log_interval == 0:\n",
        "            print('Train Epoch: {} [{}/{} ({:.0f}%)]\\tLoss: {:.6f}'.format(\n",
        "                epoch, batch_idx * len(data), len(train_loader.dataset),\n",
        "                100. * batch_idx / len(train_loader), loss.data.item()))\n",
        "            \n",
        "            \n",
        "    return loss\n",
        "            \n",
        "\n",
        "def validation():\n",
        "    '''\n",
        "    Test the model on the validation dataset\n",
        "    '''\n",
        "    model.eval()\n",
        "    validation_loss = 0\n",
        "    correct = 0\n",
        "    for data, target in val_loader:\n",
        "        if use_cuda:\n",
        "            data, target = data.cuda(), target.cuda()\n",
        "        output = model(data)\n",
        "        # sum up batch loss\n",
        "        criterion = torch.nn.CrossEntropyLoss(reduction='mean')\n",
        "        validation_loss += criterion(output, target).data.item()\n",
        "        # get the index of the max log-probability\n",
        "        pred = output.data.max(1, keepdim=True)[1]\n",
        "        correct += pred.eq(target.data.view_as(pred)).cpu().sum()\n",
        "\n",
        "    validation_loss /= len(val_loader.dataset)\n",
        "    print('\\nValidation set: Average loss: {:.4f}, Accuracy: {}/{} ({:.0f}%)'.format(\n",
        "        validation_loss, correct, len(val_loader.dataset),\n",
        "        100. * correct / len(val_loader.dataset)))\n",
        "    \n",
        "    # Compute accuracy\n",
        "    accuracy = correct/len(val_loader.dataset)\n",
        "\n",
        "    return accuracy"
      ],
      "metadata": {
        "id": "3MW3B7lfIQwp"
      },
      "execution_count": 19,
      "outputs": []
    },
    {
      "cell_type": "markdown",
      "source": [
        "## Train/Validation of the model"
      ],
      "metadata": {
        "id": "4um7oudtcnML"
      }
    },
    {
      "cell_type": "code",
      "source": [
        "# If needed, please execute at first execution to speed-up\n",
        "for batch_idx, (data, target) in enumerate(train_loader):\n",
        "  print(batch_idx)\n",
        "\n",
        "for batch_idx, (data, target) in enumerate(val_loader):\n",
        "  print(batch_idx)"
      ],
      "metadata": {
        "id": "Z1N9W-LCQ45Z"
      },
      "execution_count": null,
      "outputs": []
    },
    {
      "cell_type": "code",
      "source": [
        "# Initialize model\n",
        "model = ResNetLL(version='152')\n",
        "\n",
        "if use_cuda:\n",
        "    print('Using GPU')\n",
        "    model.cuda()\n",
        "else:\n",
        "    print('Using CPU')\n",
        "\n",
        "# Optimizer\n",
        "optimizer = optim.Adam([{'params': list(model.children())[0].parameters(), 'lr': 1e-5},], lr=1e-4)\n",
        "\n",
        "# Scheduler\n",
        "scheduler = lr_scheduler.MultiStepLR(optimizer, milestones=[30, 40], gamma=0.1)\n",
        "\n",
        "# Train the model\n",
        "print(f'Model trained with batch_size: {batch_size}')\n",
        "losses = []\n",
        "accuracies = []\n",
        "epochs_list = []\n",
        "\n",
        "for epoch in range(1, epochs + 1):\n",
        "\n",
        "    # Train and validate\n",
        "    train_loss = train(epoch)\n",
        "    accuracy_validation = validation()\n",
        "    \n",
        "    # Save loss and accuracy\n",
        "    losses.append(train_loss)\n",
        "    accuracies.append(accuracy_validation)\n",
        "    epochs_list.append(epoch)\n",
        "\n",
        "    # Scheduler Step\n",
        "    scheduler.step()\n",
        "\n",
        "    # Save the model\n",
        "    model_file = os.path.join(folder, experiment) + '/model_' + str(epoch) + '.pth'\n",
        "    torch.save(model.state_dict(), model_file)\n",
        "    \n",
        "    print('Saved model to ' + model_file + '. You can run `python evaluate.py --model ' + model_file + '` to generate the Kaggle formatted csv file\\n')"
      ],
      "metadata": {
        "id": "bI9DTDw3I1jV"
      },
      "execution_count": null,
      "outputs": []
    },
    {
      "cell_type": "markdown",
      "source": [
        "## Evaluate the model on the test set"
      ],
      "metadata": {
        "id": "Gnf3f_3bRtbn"
      }
    },
    {
      "cell_type": "code",
      "source": [
        "# Parameters to evaluate the model\n",
        "model_path = os.path.join(folder, experiment) + '/model_42.pth' # Please change if needed\n",
        "outfile = os.path.join(folder, experiment) + '/kaggle.csv'\n",
        "\n",
        "# Load the model and evaluate it on the test set\n",
        "state_dict = torch.load(model_path)\n",
        "model = ResNetLL(version='152')\n",
        "model.load_state_dict(state_dict)\n",
        "model.eval()\n",
        "if use_cuda:\n",
        "    print('Using GPU')\n",
        "    model.cuda()\n",
        "else:\n",
        "    print('Using CPU')\n",
        "\n",
        "# path of the test dataset\n",
        "test_dir = data_path + '/test_images/mistery_category'\n",
        "\n",
        "def pil_loader(path):\n",
        "    # open path as file to avoid ResourceWarning (https://github.com/python-pillow/Pillow/issues/835)\n",
        "    with open(path, 'rb') as f:\n",
        "        with Image.open(f) as img:\n",
        "            return img.convert('RGB')\n",
        "\n",
        "output_file = open(outfile, \"w\")\n",
        "output_file.write(\"Id,Category\\n\")\n",
        "for f in tqdm(os.listdir(test_dir)):\n",
        "    if 'jpg' in f:\n",
        "        data = data_transforms(pil_loader(test_dir + '/' + f))\n",
        "        data = data.view(1, data.size(0), data.size(1), data.size(2))\n",
        "        if use_cuda:\n",
        "            data = data.cuda()\n",
        "        output = model(data)\n",
        "        pred = output.data.max(1, keepdim=True)[1]\n",
        "        output_file.write(\"%s,%d\\n\" % (f[:-4], pred))\n",
        "\n",
        "output_file.close()\n",
        "\n",
        "print(\"Succesfully wrote \" + outfile + ', you can upload this file to the kaggle competition website')"
      ],
      "metadata": {
        "id": "IA8gO0qETBWP",
        "colab": {
          "base_uri": "https://localhost:8080/"
        },
        "outputId": "92a974be-3a23-49a4-db38-6ee88f79b212"
      },
      "execution_count": 21,
      "outputs": [
        {
          "output_type": "stream",
          "name": "stdout",
          "text": [
            "ResNet152 was loaded successfully!\n",
            "Using GPU\n"
          ]
        },
        {
          "output_type": "stream",
          "name": "stderr",
          "text": [
            "100%|██████████| 517/517 [00:23<00:00, 22.14it/s]"
          ]
        },
        {
          "output_type": "stream",
          "name": "stdout",
          "text": [
            "Succesfully wrote /content/drive/MyDrive/ENS_MVA/Object_Recognition/TP3/experiment/kaggle.csv, you can upload this file to the kaggle competition website\n"
          ]
        },
        {
          "output_type": "stream",
          "name": "stderr",
          "text": [
            "\n"
          ]
        }
      ]
    },
    {
      "cell_type": "markdown",
      "source": [
        "# End, thank you for reading!\n",
        "\n",
        "Théo Di Piazza\n",
        "\n",
        "---"
      ],
      "metadata": {
        "id": "-i84jb8UPYXo"
      }
    }
  ]
}